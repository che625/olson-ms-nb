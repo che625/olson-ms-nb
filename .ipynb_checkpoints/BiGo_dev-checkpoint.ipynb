{
 "metadata": {
  "name": "",
  "signature": "sha256:49ff6951f1c6fd75295d9a551dceb2bddec109650115f7386f664e9eb9c75cb2"
 },
 "nbformat": 3,
 "nbformat_minor": 0,
 "worksheets": [
  {
   "cells": [
    {
     "cell_type": "heading",
     "level": 1,
     "metadata": {},
     "source": [
      "Lineage and developmental patterns of DNA methylation in oysters"
     ]
    },
    {
     "cell_type": "markdown",
     "metadata": {},
     "source": [
      "This notebook includes procedures for analyzing data desribed in      \n",
      "the Master's thesis \"DNA methylation variation in gametes and larvae of the Pacific oyster, Crassostrea gigas\" by Claire Olson.    \n",
      "\n",
      "---\n",
      "     \n",
      "\n",
      "\n",
      "In theory, anyone should be able to reproduce our work in IPython, if they have the following software installed.\n",
      "\n",
      "* BSMAP\n",
      "* R\n",
      "* rpy2 (interface to R from Python) \n",
      "* BEDTools\n",
      "\n",
      "The analysis was originally done on the Mac OSX operating system. \n",
      "\n",
      "The general premise of how this framework is set-up is that you will provide minimal information including a working directory and location of software. The following image denotes need for user input. \n",
      "![](img/input.png) Otherwise you should just be able to run each cell in order (shift-enter).\n",
      "\n",
      "The intent is to clone the github repository local and run so accompaning scripts, etc. are available.\n",
      "\n",
      "\n",
      "The notebook is divided into 5 sections \n",
      "\n",
      "* [Downloading data](#Downloading-Files) \n",
      "\n",
      "* [Read aligning: BSMAP](#Running-BSMAP) \n",
      "\n",
      "* [Global differences: methylkit](#Global-Differences:-methylkit)  \n",
      "\n",
      "* [Differentially methylated loci](#Differentially-methylated-loci)  \n",
      "\n",
      "* [Genomic location of DMLs: bedtools](#Genomic-location-of-DMLs)   \n",
      "\n",
      "\n",
      "Please post any comments and questions in issues."
     ]
    },
    {
     "cell_type": "heading",
     "level": 1,
     "metadata": {},
     "source": [
      "Downloading Data"
     ]
    },
    {
     "cell_type": "markdown",
     "metadata": {},
     "source": [
      "![](img/input.png)"
     ]
    },
    {
     "cell_type": "code",
     "collapsed": false,
     "input": [
      "#this notebook is developed under the assumption you are in the olson-thesis-nb directory downloaded from github.\n",
      "#note you will need ~20Gb of disk space\n",
      "#to confirm you current directory run the command and you should see a wd directory\n",
      "!ls\n"
     ],
     "language": "python",
     "metadata": {},
     "outputs": [
      {
       "output_type": "stream",
       "stream": "stdout",
       "text": [
        "\u001b[31mBiGo_dev_manu.html\u001b[m\u001b[m     \u001b[31mREADME.md\u001b[m\u001b[m              \u001b[34mwd\u001b[m\u001b[m\r\n",
        "\u001b[31mBiGo_dev_manu.ipynb\u001b[m\u001b[m    \u001b[34mimg\u001b[m\u001b[m\r\n",
        "\u001b[31mBiGo_dev_manu_V2.ipynb\u001b[m\u001b[m \u001b[34mscripts\u001b[m\u001b[m\r\n"
       ]
      }
     ],
     "prompt_number": 1
    },
    {
     "cell_type": "code",
     "collapsed": false,
     "input": [
      "cd wd"
     ],
     "language": "python",
     "metadata": {},
     "outputs": [
      {
       "output_type": "stream",
       "stream": "stdout",
       "text": [
        "/Users/Steven/Desktop/olson-dev-master/wd\n"
       ]
      }
     ],
     "prompt_number": 2
    },
    {
     "cell_type": "code",
     "collapsed": false,
     "input": [
      "#This command downloads a archived file including six BS-seq libraries (4.3 Gb)\n",
      "\n",
      "#!wget http://eagle.fish.washington.edu/trilobite/Crassostrea_gigas_HTSdata/BiGo_lar_fastq_mcf.tgz\n",
      "!curl -O http://eagle.fish.washington.edu/trilobite/Crassostrea_gigas_HTSdata/BiGo_lar_fastq_mcf.tgz    \n"
     ],
     "language": "python",
     "metadata": {},
     "outputs": [
      {
       "output_type": "stream",
       "stream": "stdout",
       "text": [
        "  % Total    % Received % Xferd  Average Speed   Time    Time     Time  Current\r\n",
        "                                 Dload  Upload   Total   Spent    Left  Speed\r\n",
        "\r",
        "  0     0    0     0    0     0      0      0 --:--:-- --:--:-- --:--:--     0"
       ]
      },
      {
       "output_type": "stream",
       "stream": "stdout",
       "text": [
        "\r",
        "  0 4221M    0 29.5M    0     0  43.9M      0  0:01:36 --:--:--  0:01:36 44.0M"
       ]
      },
      {
       "output_type": "stream",
       "stream": "stdout",
       "text": [
        "\r",
        "  1 4221M    1 79.0M    0     0  47.0M      0  0:01:29  0:00:01  0:01:28 47.0M"
       ]
      },
      {
       "output_type": "stream",
       "stream": "stdout",
       "text": [
        "\r",
        "  2 4221M    2  109M    0     0  39.4M      0  0:01:47  0:00:02  0:01:45 39.4M"
       ]
      },
      {
       "output_type": "stream",
       "stream": "stdout",
       "text": [
        "\r",
        "  4 4221M    4  175M    0     0  47.7M      0  0:01:28  0:00:03  0:01:25 47.7M"
       ]
      },
      {
       "output_type": "stream",
       "stream": "stdout",
       "text": [
        "\r",
        "  5 4221M    5  226M    0     0  48.5M      0  0:01:26  0:00:04  0:01:22 48.5M"
       ]
      },
      {
       "output_type": "stream",
       "stream": "stdout",
       "text": [
        "\r",
        "  6 4221M    6  258M    0     0  45.2M      0  0:01:33  0:00:05  0:01:28 45.4M"
       ]
      },
      {
       "output_type": "stream",
       "stream": "stdout",
       "text": [
        "\r",
        "  7 4221M    7  318M    0     0  47.7M      0  0:01:28  0:00:06  0:01:22 48.0M"
       ]
      },
      {
       "output_type": "stream",
       "stream": "stdout",
       "text": [
        "\r",
        "  8 4221M    8  371M    0     0  48.1M      0  0:01:27  0:00:07  0:01:20 53.0M"
       ]
      },
      {
       "output_type": "stream",
       "stream": "stdout",
       "text": [
        "\r",
        " 10 4221M   10  422M    0     0  48.6M      0  0:01:26  0:00:08  0:01:18 49.4M"
       ]
      },
      {
       "output_type": "stream",
       "stream": "stdout",
       "text": [
        "\r",
        " 11 4221M   11  479M    0     0  49.6M      0  0:01:25  0:00:09  0:01:16 50.6M"
       ]
      },
      {
       "output_type": "stream",
       "stream": "stdout",
       "text": [
        "\r",
        " 12 4221M   12  531M    0     0  49.7M      0  0:01:24  0:00:10  0:01:14 54.9M"
       ]
      },
      {
       "output_type": "stream",
       "stream": "stdout",
       "text": [
        "\r",
        " 13 4221M   13  573M    0     0  49.1M      0  0:01:25  0:00:11  0:01:14 50.8M"
       ]
      },
      {
       "output_type": "stream",
       "stream": "stdout",
       "text": [
        "\r",
        " 14 4221M   14  610M    0     0  48.1M      0  0:01:27  0:00:12  0:01:15 48.2M"
       ]
      },
      {
       "output_type": "stream",
       "stream": "stdout",
       "text": [
        "\r",
        " 15 4221M   15  648M    0     0  47.3M      0  0:01:29  0:00:13  0:01:16 45.1M"
       ]
      },
      {
       "output_type": "stream",
       "stream": "stdout",
       "text": [
        "\r",
        " 16 4221M   16  690M    0     0  47.0M      0  0:01:29  0:00:14  0:01:15 42.1M"
       ]
      },
      {
       "output_type": "stream",
       "stream": "stdout",
       "text": [
        "\r",
        " 17 4221M   17  735M    0     0  46.8M      0  0:01:30  0:00:15  0:01:15 40.6M"
       ]
      },
      {
       "output_type": "stream",
       "stream": "stdout",
       "text": [
        "\r",
        " 18 4221M   18  785M    0     0  47.0M      0  0:01:29  0:00:16  0:01:13 42.3M"
       ]
      },
      {
       "output_type": "stream",
       "stream": "stdout",
       "text": [
        "\r",
        " 19 4221M   19  823M    0     0  46.6M      0  0:01:30  0:00:17  0:01:13 42.6M"
       ]
      },
      {
       "output_type": "stream",
       "stream": "stdout",
       "text": [
        "\r",
        " 20 4221M   20  865M    0     0  46.3M      0  0:01:31  0:00:18  0:01:13 43.4M"
       ]
      },
      {
       "output_type": "stream",
       "stream": "stdout",
       "text": [
        "\r",
        " 21 4221M   21  927M    0     0  47.0M      0  0:01:29  0:00:19  "
       ]
      },
      {
       "output_type": "stream",
       "stream": "stdout",
       "text": [
        "0:01:10 47.0M"
       ]
      },
      {
       "output_type": "stream",
       "stream": "stdout",
       "text": [
        "\r",
        " 23 4221M   23  974M    0     0  47.0M      0  0:01:29  0:00:20  0:01:09 47.6M"
       ]
      },
      {
       "output_type": "stream",
       "stream": "stdout",
       "text": [
        "\r",
        " 24 4221M   24 1034M    0     0  47.7M      0  0:01:28  0:00:21  0:01:07 49.7M"
       ]
      },
      {
       "output_type": "stream",
       "stream": "stdout",
       "text": [
        "\r",
        " 25 4221M   25 1083M    0     0  47.7M      0  0:01:28  0:00:22  0:01:06 51.8M"
       ]
      },
      {
       "output_type": "stream",
       "stream": "stdout",
       "text": [
        "\r",
        " 27 4221M   27 1152M    0     0  48.6M      0  0:01:26  0:00:23  0:01:03 57.3M"
       ]
      },
      {
       "output_type": "stream",
       "stream": "stdout",
       "text": [
        "\r",
        " 28 4221M   28 1211M    0     0  49.0M      0  0:01:25  0:00:24  0:01:01 57.1M"
       ]
      },
      {
       "output_type": "stream",
       "stream": "stdout",
       "text": [
        "\r",
        " 30 4221M   30 1280M    0     0  49.8M      0  0:01:24  0:00:25  0:00:59 61.4M"
       ]
      },
      {
       "output_type": "stream",
       "stream": "stdout",
       "text": [
        "\r",
        " 31 4221M   31 1333M    0     0  49.9M      0  0:01:24  0:00:26  0:00:58 59.8M"
       ]
      },
      {
       "output_type": "stream",
       "stream": "stdout",
       "text": [
        "\r",
        " 32 4221M   32 1372M    0     0  49.6M      0  0:01:25  0:00:27  0:00:58 57.8M"
       ]
      },
      {
       "output_type": "stream",
       "stream": "stdout",
       "text": [
        "\r",
        " 33 4221M   33 1433M    0     0  49.9M      0  0:01:24  0:00:28  0:00:56 56.2M"
       ]
      },
      {
       "output_type": "stream",
       "stream": "stdout",
       "text": [
        "\r",
        " 35 4221M   35 1501M    0     0  50.6M      0  0:01:23  0:00:29  0:00:54 58.1M"
       ]
      },
      {
       "output_type": "stream",
       "stream": "stdout",
       "text": [
        "\r",
        " 37 4221M   37 1571M    0     0  51.1M      0  0:01:22  0:00:30  0:00:52 58.0M"
       ]
      },
      {
       "output_type": "stream",
       "stream": "stdout",
       "text": [
        "\r",
        " 38 4221M   38 1631M    0     0  51.5M      0  0:01:21  0:00:31  0:00:50 59.5M"
       ]
      },
      {
       "output_type": "stream",
       "stream": "stdout",
       "text": [
        "\r",
        " 40 4221M   40 1698M    0     0  51.7M      0  0:01:21  0:00:32  0:00:49 63.1M"
       ]
      },
      {
       "output_type": "stream",
       "stream": "stdout",
       "text": [
        "\r",
        " 40 4221M   40 1723M    0     0  51.1M      0  0:01:22  0:00:33  0:00:49 57.9M"
       ]
      },
      {
       "output_type": "stream",
       "stream": "stdout",
       "text": [
        "\r",
        " 42 4221M   42 1797M    0     0  51.8M      0  0:01:21  0:00:34  0:00:47 59.1M"
       ]
      },
      {
       "output_type": "stream",
       "stream": "stdout",
       "text": [
        "\r",
        " 44 4221M   44 1863M    0     0  52.2M      0  0:01:20  0:00:35  0:00:45 58.8M"
       ]
      },
      {
       "output_type": "stream",
       "stream": "stdout",
       "text": [
        "\r",
        " 45 4221M   45 1924M    0     0  52.4M      0  0:01:20  0:00:36  0:00:44 58.4M"
       ]
      },
      {
       "output_type": "stream",
       "stream": "stdout",
       "text": [
        "\r",
        " 46 4221M   46 1983M    0     0  52.5M      0  0:01:20  0:00:37  0:00:43 58.3M"
       ]
      },
      {
       "output_type": "stream",
       "stream": "stdout",
       "text": [
        "\r",
        " 48 4221M   48 2027M    0     0  52.4M      0  0:01:20  0:00:38  0:00:42 60.8M"
       ]
      },
      {
       "output_type": "stream",
       "stream": "stdout",
       "text": [
        "\r",
        " 49 4221M   49 2086M    0     0  52.5M      0  0:01:20  0:00:39  0:00:41 57.7M"
       ]
      },
      {
       "output_type": "stream",
       "stream": "stdout",
       "text": [
        "\r",
        " 50 4221M   50 2142M    0     0  52.6M      "
       ]
      },
      {
       "output_type": "stream",
       "stream": "stdout",
       "text": [
        "0  0:01:20  0:00:40  0:00:40 55.9M"
       ]
      },
      {
       "output_type": "stream",
       "stream": "stdout",
       "text": [
        "\r",
        " 52 4221M   52 2217M    0     0  53.2M      0  0:01:19  0:00:41  0:00:38 58.9M"
       ]
      },
      {
       "output_type": "stream",
       "stream": "stdout",
       "text": [
        "\r",
        " 54 4221M   54 2280M    0     0  53.4M      0  0:01:19  0:00:42  0:00:37 59.7M"
       ]
      },
      {
       "output_type": "stream",
       "stream": "stdout",
       "text": [
        "\r",
        " 55 4221M   55 2341M    0     0  53.6M      0  0:01:18  0:00:43  0:00:35 62.7M"
       ]
      },
      {
       "output_type": "stream",
       "stream": "stdout",
       "text": [
        "\r",
        " 56 4221M   56 2400M    0     0  53.7M      0  0:01:18  0:00:44  0:00:34 62.7M"
       ]
      },
      {
       "output_type": "stream",
       "stream": "stdout",
       "text": [
        "\r",
        " 58 4221M   58 2474M    0     0  54.1M      0  0:01:17  0:00:45  0:00:32 66.2M"
       ]
      },
      {
       "output_type": "stream",
       "stream": "stdout",
       "text": [
        "\r",
        " 59 4221M   59 2528M    0     0  54.1M      0  0:01:18  0:00:46  0:00:32 61.3M"
       ]
      },
      {
       "output_type": "stream",
       "stream": "stdout",
       "text": [
        "\r",
        " 61 4221M   61 2605M    0     0  54.6M      0  0:01:17  0:00:47  0:00:30 65.1M"
       ]
      },
      {
       "output_type": "stream",
       "stream": "stdout",
       "text": [
        "\r",
        " 62 4221M   62 2639M    0     0  54.2M      0  0:01:17  0:00:48  0:00:29 59.7M"
       ]
      },
      {
       "output_type": "stream",
       "stream": "stdout",
       "text": [
        "\r",
        " 64 4221M   64 2712M    0     0  54.6M      0  0:01:17  0:00:49  0:00:28 62.5M"
       ]
      },
      {
       "output_type": "stream",
       "stream": "stdout",
       "text": [
        "\r",
        " 66 4221M   66 2786M    0     0  54.9M      0  0:01:16  0:00:50  0:00:26 62.5M"
       ]
      },
      {
       "output_type": "stream",
       "stream": "stdout",
       "text": [
        "\r",
        " 67 4221M   67 2862M    0     0  55.3M      0  0:01:16  0:00:51  0:00:25 67.6M"
       ]
      },
      {
       "output_type": "stream",
       "stream": "stdout",
       "text": [
        "\r",
        " 69 4221M   69 2944M    0     0  55.9M      0  0:01:15  0:00:52  0:00:23 67.8M"
       ]
      },
      {
       "output_type": "stream",
       "stream": "stdout",
       "text": [
        "\r",
        " 71 4221M   71 3028M    0     0  56.4M      0  0:01:14  0:00:53  0:00:21 77.5M"
       ]
      },
      {
       "output_type": "stream",
       "stream": "stdout",
       "text": [
        "\r",
        " 72 4221M   72 3079M    0     0  56.3M      0  0:01:14  0:00:54  0:00:20 73.3M"
       ]
      },
      {
       "output_type": "stream",
       "stream": "stdout",
       "text": [
        "\r",
        " 74 4221M   74 3145M    0     0  56.5M      0  0:01:14  0:00:55  0:00:19 71.8M"
       ]
      },
      {
       "output_type": "stream",
       "stream": "stdout",
       "text": [
        "\r",
        " 76 4221M   76 3239M    0     0  57.1M      0  0:01:13  0:00:56  0:00:17 75.4M"
       ]
      },
      {
       "output_type": "stream",
       "stream": "stdout",
       "text": [
        "\r",
        " 78 4221M   78 3319M    0     0  57.5M      0  0:01:13  0:00:57  0:00:16 74.6M"
       ]
      },
      {
       "output_type": "stream",
       "stream": "stdout",
       "text": [
        "\r",
        " 79 4221M   79 3370M    0     0  57.4M      0  0:01:13  0:00:58  0:00:15 68.5M"
       ]
      },
      {
       "output_type": "stream",
       "stream": "stdout",
       "text": [
        "\r",
        " 82 4221M   82 3466M    0     0  58.0M      0  0:01:12  0:00:59  0:00:13 77.3M"
       ]
      },
      {
       "output_type": "stream",
       "stream": "stdout",
       "text": [
        "\r",
        " 84 4221M   84 3557M    0     0  58.6M      0  0:01:11  0:01:00  0:00:11 82.4M"
       ]
      },
      {
       "output_type": "stream",
       "stream": "stdout",
       "text": [
        "\r",
        " 86 4221M   86 3650M    0     0  59.1M      0  0:01:11  0:01:01  0:00:10 82.0M"
       ]
      },
      {
       "output_type": "stream",
       "stream": "stdout",
       "text": [
        "\r",
        " 88 4221M   88 3727M    0     0  59.4M      0  0:01:10  0:01:02  0:00:08 81.8M"
       ]
      },
      {
       "output_type": "stream",
       "stream": "stdout",
       "text": [
        "\r",
        " 89 4221M   89 3790M    0     0  59.5M      0  0:01:10  0:01:03  0:00:07 84.0M"
       ]
      },
      {
       "output_type": "stream",
       "stream": "stdout",
       "text": [
        "\r",
        " 92 4221M   92 3885M    0     0  60.0M      0  0:01:10  0:01:04  0:00:06 83.9M"
       ]
      },
      {
       "output_type": "stream",
       "stream": "stdout",
       "text": [
        "\r",
        " 94 4221M   94 3981M    0     0  60.6M      0  0:01:09  0:01:05  0:00:04 84.7M"
       ]
      },
      {
       "output_type": "stream",
       "stream": "stdout",
       "text": [
        "\r",
        " 96 4221M   96 4078M    0     0  61.1M      0  0:01:09  0:01:06  0:00:03 85.7M"
       ]
      },
      {
       "output_type": "stream",
       "stream": "stdout",
       "text": [
        "\r",
        " 98 4221M   98 4175M    0     0  61.6M      0"
       ]
      },
      {
       "output_type": "stream",
       "stream": "stdout",
       "text": [
        "  0:01:08  0:01:07  0:00:01 89.5M"
       ]
      },
      {
       "output_type": "stream",
       "stream": "stdout",
       "text": [
        "\r",
        " 99 4221M   99 4216M    0     0  61.3M      0  0:01:08  0:01:08 --:--:-- 85.1M"
       ]
      },
      {
       "output_type": "stream",
       "stream": "stdout",
       "text": [
        "\r",
        "100 4221M  100 4221M    0     0  61.3M      0  0:01:08  0:01:08 --:--:-- 82.1M\r\n"
       ]
      }
     ],
     "prompt_number": 3
    },
    {
     "cell_type": "code",
     "collapsed": false,
     "input": [
      "#uncompress\n",
      "!tar -zxvf BiGo_lar_fastq_mcf.tgz"
     ],
     "language": "python",
     "metadata": {},
     "outputs": [
      {
       "output_type": "stream",
       "stream": "stdout",
       "text": [
        "x mcf_M1_R1.fastq"
       ]
      },
      {
       "output_type": "stream",
       "stream": "stdout",
       "text": [
        "\r\n",
        "x mcf_M1_R2.fastq"
       ]
      },
      {
       "output_type": "stream",
       "stream": "stdout",
       "text": [
        "\r\n",
        "x mcf_M3_R1.fastq"
       ]
      },
      {
       "output_type": "stream",
       "stream": "stdout",
       "text": [
        "\r\n",
        "x mcf_M3_R2.fastq"
       ]
      },
      {
       "output_type": "stream",
       "stream": "stdout",
       "text": [
        "\r\n",
        "x mcf_T1D3_R1.fastq"
       ]
      },
      {
       "output_type": "stream",
       "stream": "stdout",
       "text": [
        "\r\n",
        "x mcf_T1D3_R2.fastq"
       ]
      },
      {
       "output_type": "stream",
       "stream": "stdout",
       "text": [
        "\r\n",
        "x mcf_T1D5_R1.fastq"
       ]
      },
      {
       "output_type": "stream",
       "stream": "stdout",
       "text": [
        "\r\n",
        "x mcf_T1D5_R2.fastq"
       ]
      },
      {
       "output_type": "stream",
       "stream": "stdout",
       "text": [
        "\r\n",
        "x mcf_T3D3_R1.fastq"
       ]
      },
      {
       "output_type": "stream",
       "stream": "stdout",
       "text": [
        "\r\n",
        "x mcf_T3D3_R2.fastq"
       ]
      },
      {
       "output_type": "stream",
       "stream": "stdout",
       "text": [
        "\r\n",
        "x mcf_T3D5_R1.fastq"
       ]
      },
      {
       "output_type": "stream",
       "stream": "stdout",
       "text": [
        "\r\n",
        "x mcf_T3D5_R2.fastq"
       ]
      },
      {
       "output_type": "stream",
       "stream": "stdout",
       "text": [
        "\r\n"
       ]
      }
     ],
     "prompt_number": 4
    },
    {
     "cell_type": "code",
     "collapsed": false,
     "input": [
      "#Downloading the oyster genome \n",
      "#!wget http://eagle.fish.washington.edu/trilobite/Crassostrea_gigas_ensembl_tracks/Crassostrea_gigas.GCA_000297895.1.22.dna_sm.genome.fa\n",
      "!curl -O http://eagle.fish.washington.edu/trilobite/Crassostrea_gigas_ensembl_tracks/Crassostrea_gigas.GCA_000297895.1.22.dna_sm.genome.fa    \n",
      "    "
     ],
     "language": "python",
     "metadata": {},
     "outputs": [
      {
       "output_type": "stream",
       "stream": "stdout",
       "text": [
        "  % Total    % Received % Xferd  Average Speed   Time    Time     Time  Current\r\n",
        "                                 Dload  Upload   Total   Spent    Left  Speed\r\n",
        "\r",
        "  0     0    0     0    0     0      0      0 --:--:-- --:--:-- --:--:--     0"
       ]
      },
      {
       "output_type": "stream",
       "stream": "stdout",
       "text": [
        "\r",
        " 11  541M   11 64.0M    0     0  65.1M      0  0:00:08 --:--:--  0:00:08 65.2M"
       ]
      },
      {
       "output_type": "stream",
       "stream": "stdout",
       "text": [
        "\r",
        " 23  541M   23  126M    0     0  64.0M      0  0:00:08  0:00:01  0:00:07 64.1M"
       ]
      },
      {
       "output_type": "stream",
       "stream": "stdout",
       "text": [
        "\r",
        " 38  541M   38  206M    0     0  69.0M      0  0:00:07  0:00:02  0:00:05 69.0M"
       ]
      },
      {
       "output_type": "stream",
       "stream": "stdout",
       "text": [
        "\r",
        " 51  541M   51  280M    0     0  70.5M      0  0:00:07  0:00:03  0:00:04 70.6M"
       ]
      },
      {
       "output_type": "stream",
       "stream": "stdout",
       "text": [
        "\r",
        " 63  541M   63  342M    0     0  68.7M      0  0:00:07  0:00:04  0:00:03 68.7M"
       ]
      },
      {
       "output_type": "stream",
       "stream": "stdout",
       "text": [
        "\r",
        " 78  541M   78  424M    0     0  70.8M      0  0:00:07  0:00:05  0:00:02 71.9M"
       ]
      },
      {
       "output_type": "stream",
       "stream": "stdout",
       "text": [
        "\r",
        " 92  541M   92  500M    0     0  71.7M      0  0:00:07  0:00:06  0:00:01 74.7M"
       ]
      },
      {
       "output_type": "stream",
       "stream": "stdout",
       "text": [
        "\r",
        "100  541M  100  541M    0     0  71.5M      0  0:00:07  0:00:07 --:--:-- 73.1M\r\n"
       ]
      }
     ],
     "prompt_number": 5
    },
    {
     "cell_type": "heading",
     "level": 1,
     "metadata": {},
     "source": [
      "Running BSMAP"
     ]
    },
    {
     "cell_type": "markdown",
     "metadata": {},
     "source": [
      "![](img/input.png)"
     ]
    },
    {
     "cell_type": "code",
     "collapsed": false,
     "input": [
      "#bsmap will need to be downloaded if not already installed from https://code.google.com/p/bsmap/\n",
      "#set location of BSMAP this is assuming it is not in your PATH\n",
      "bsmaploc=\"/Users/Shared/Apps/bsmap-2.74/\"\n",
      "\n",
      "#another option in running bsmap on iPlant (iplantcollaborative.org)"
     ],
     "language": "python",
     "metadata": {},
     "outputs": [],
     "prompt_number": 7
    },
    {
     "cell_type": "code",
     "collapsed": false,
     "input": [
      "for i in (\"M1\",\"T1D3\",\"T1D5\", \"M3\", \"T3D3\", \"T3D5\"):\n",
      "    !{bsmaploc}bsmap \\\n",
      "-a mcf_{i}_R1.fastq \\\n",
      "-b mcf_{i}_R2.fastq \\\n",
      "-d Crassostrea_gigas.GCA_000297895.1.22.dna_sm.genome.fa \\\n",
      "-o bsmap_out_{i}.sam \\\n",
      "-p 4"
     ],
     "language": "python",
     "metadata": {},
     "outputs": [
      {
       "output_type": "stream",
       "stream": "stdout",
       "text": [
        "\r\n",
        "BSMAP v2.74\r\n",
        "Start at:  Tue Dec  2 14:03:03 2014\r\n",
        "\r\n",
        "Input reference file: Crassostrea_gigas.GCA_000297895.1.22.dna_sm.genome.fa"
       ]
      },
      {
       "output_type": "stream",
       "stream": "stdout",
       "text": [
        " \t(format: FASTA)\r\n"
       ]
      },
      {
       "output_type": "stream",
       "stream": "stdout",
       "text": [
        "Load in 7658 db seqs, total size 557717710 bp. 9 secs passed\r\n",
        "total_kmers: 43046721\r\n"
       ]
      },
      {
       "output_type": "stream",
       "stream": "stdout",
       "text": [
        "Create seed table. 25 secs passed\r\n",
        "max number of mismatches: read_length * 8% \tmax gap size: 0\r\n",
        "kmer cut-off ratio: 5e-07\r\n",
        "max multi-hits: 100\tmax Ns: 5\tseed size: 16\tindex interval: 4\r\n",
        "quality cutoff: 0\tbase quality char: '!'\r\n",
        "min fragment size:28\tmax fragemt size:500\r\n",
        "start from read #1\tend at read #4294967295\r\n",
        "additional alignment: T in reads => C in reference\r\n",
        "mapping strand (read_1): ++,-+\r\n",
        "mapping strand (read_2): +-,--\r\n",
        "Pair-end alignment(4 threads)\r\n",
        "Input read file #1: mcf_M1_R1.fastq"
       ]
      },
      {
       "output_type": "stream",
       "stream": "stdout",
       "text": [
        " \t(format: FASTQ)\r\n",
        "Input read file #2: mcf_M1_R2.fastq \t(format: FASTQ)\r\n",
        "Output file: bsmap_out_M1.sam\t (format: SAM)\r\n"
       ]
      },
      {
       "output_type": "stream",
       "stream": "stdout",
       "text": [
        "Thread #1: \t100000 read pairs finished. 44 secs passed\r\n"
       ]
      },
      {
       "output_type": "stream",
       "stream": "stdout",
       "text": [
        "Thread #3: \t50000 read pairs finished. 45 secs passed\r\n"
       ]
      },
      {
       "output_type": "stream",
       "stream": "stdout",
       "text": [
        "Thread #0: \t150000 read pairs finished. 45 secs passed\r\n"
       ]
      },
      {
       "output_type": "stream",
       "stream": "stdout",
       "text": [
        "Thread #2: \t200000 read pairs finished. 46 secs passed\r\n"
       ]
      },
      {
       "output_type": "stream",
       "stream": "stdout",
       "text": [
        "Thread #1: \t250000 read pairs finished. 61 secs passed\r\n"
       ]
      },
      {
       "output_type": "stream",
       "stream": "stdout",
       "text": [
        "Thread #3: \t300000 read pairs finished. 62 secs passed\r\n"
       ]
      },
      {
       "output_type": "stream",
       "stream": "stdout",
       "text": [
        "Thread #0: \t350000 read pairs finished. 63 secs passed\r\n"
       ]
      },
      {
       "output_type": "stream",
       "stream": "stdout",
       "text": [
        "Thread #2: \t400000 read pairs finished. 64 secs passed\r\n"
       ]
      },
      {
       "output_type": "stream",
       "stream": "stdout",
       "text": [
        "Thread #1: \t450000 read pairs finished. 78 secs passed\r\n"
       ]
      },
      {
       "output_type": "stream",
       "stream": "stdout",
       "text": [
        "Thread #3: \t500000 read pairs finished. 79 secs passed\r\n"
       ]
      },
      {
       "output_type": "stream",
       "stream": "stdout",
       "text": [
        "Thread #0: \t550000 read pairs finished. 81 secs passed\r\n"
       ]
      },
      {
       "output_type": "stream",
       "stream": "stdout",
       "text": [
        "Thread #2: \t600000 read pairs finished. 81 secs passed\r\n"
       ]
      },
      {
       "output_type": "stream",
       "stream": "stdout",
       "text": [
        "Thread #1: \t650000 read pairs finished. 95 secs passed\r\n"
       ]
      },
      {
       "output_type": "stream",
       "stream": "stdout",
       "text": [
        "Thread #3: \t700000 read pairs finished. 97 secs passed\r\n"
       ]
      },
      {
       "output_type": "stream",
       "stream": "stdout",
       "text": [
        "Thread #0: \t750000 read pairs finished. 98 secs passed\r\n"
       ]
      },
      {
       "output_type": "stream",
       "stream": "stdout",
       "text": [
        "Thread #2: \t800000 read pairs finished. 99 secs passed\r\n"
       ]
      },
      {
       "output_type": "stream",
       "stream": "stdout",
       "text": [
        "Thread #1: \t850000 read pairs finished. 113 secs passed\r\n"
       ]
      },
      {
       "output_type": "stream",
       "stream": "stdout",
       "text": [
        "Thread #3: \t900000 read pairs finished. 114 secs passed\r\n"
       ]
      },
      {
       "output_type": "stream",
       "stream": "stdout",
       "text": [
        "Thread #2: \t1000000 read pairs finished. 116 secs passed\r\n"
       ]
      },
      {
       "output_type": "stream",
       "stream": "stdout",
       "text": [
        "Thread #0: \t950000 read pairs finished. 117 secs passed\r\n"
       ]
      },
      {
       "output_type": "stream",
       "stream": "stdout",
       "text": [
        "Thread #1: \t1050000 read pairs finished. 129 secs passed\r\n"
       ]
      },
      {
       "output_type": "stream",
       "stream": "stdout",
       "text": [
        "Thread #3: \t1100000 read pairs finished. 132 secs passed\r\n"
       ]
      },
      {
       "output_type": "stream",
       "stream": "stdout",
       "text": [
        "Thread #2: \t1150000 read pairs finished. 133 secs passed\r\n"
       ]
      },
      {
       "output_type": "stream",
       "stream": "stdout",
       "text": [
        "Thread #0: \t1200000 read pairs finished. 135 secs passed\r\n"
       ]
      },
      {
       "output_type": "stream",
       "stream": "stdout",
       "text": [
        "Thread #1: \t1250000 read pairs finished. 146 secs passed\r\n"
       ]
      },
      {
       "output_type": "stream",
       "stream": "stdout",
       "text": [
        "Thread #3: \t1300000 read pairs finished. 149 secs passed\r\n"
       ]
      },
      {
       "output_type": "stream",
       "stream": "stdout",
       "text": [
        "Thread #2: \t1350000 read pairs finished. 150 secs passed\r\n"
       ]
      },
      {
       "output_type": "stream",
       "stream": "stdout",
       "text": [
        "Thread #0: \t1400000 read pairs finished. 153 secs passed\r\n"
       ]
      },
      {
       "output_type": "stream",
       "stream": "stdout",
       "text": [
        "Thread #1: \t1450000 read pairs finished. 163 secs passed\r\n"
       ]
      },
      {
       "output_type": "stream",
       "stream": "stdout",
       "text": [
        "Thread #3: \t1500000 read pairs finished. 166 secs passed\r\n"
       ]
      },
      {
       "output_type": "stream",
       "stream": "stdout",
       "text": [
        "Thread #2: \t1550000 read pairs finished. 167 secs passed\r\n"
       ]
      },
      {
       "output_type": "stream",
       "stream": "stdout",
       "text": [
        "Thread #0: \t1600000 read pairs finished. 169 secs passed\r\n"
       ]
      },
      {
       "output_type": "stream",
       "stream": "stdout",
       "text": [
        "Thread #1: \t1650000 read pairs finished. 181 secs passed\r\n"
       ]
      },
      {
       "output_type": "stream",
       "stream": "stdout",
       "text": [
        "Thread #3: \t1700000 read pairs finished. 184 secs passed\r\n"
       ]
      },
      {
       "output_type": "stream",
       "stream": "stdout",
       "text": [
        "Thread #2: \t1750000 read pairs finished. 185 secs passed\r\n"
       ]
      },
      {
       "output_type": "stream",
       "stream": "stdout",
       "text": [
        "Thread #0: \t1800000 read pairs finished. 187 secs passed\r\n"
       ]
      },
      {
       "output_type": "stream",
       "stream": "stdout",
       "text": [
        "Thread #1: \t1850000 read pairs finished. 198 secs passed\r\n"
       ]
      },
      {
       "output_type": "stream",
       "stream": "stdout",
       "text": [
        "Thread #3: \t1900000 read pairs finished. 202 secs passed\r\n"
       ]
      },
      {
       "output_type": "stream",
       "stream": "stdout",
       "text": [
        "Thread #2: \t1950000 read pairs finished. 202 secs passed\r\n"
       ]
      },
      {
       "output_type": "stream",
       "stream": "stdout",
       "text": [
        "Thread #0: \t2000000 read pairs finished. 205 secs passed\r\n"
       ]
      },
      {
       "output_type": "stream",
       "stream": "stdout",
       "text": [
        "Thread #1: \t2050000 read pairs finished. 215 secs passed\r\n"
       ]
      },
      {
       "output_type": "stream",
       "stream": "stdout",
       "text": [
        "Thread #3: \t2100000 read pairs finished. 219 secs passed\r\n"
       ]
      },
      {
       "output_type": "stream",
       "stream": "stdout",
       "text": [
        "Thread #2: \t2150000 read pairs finished. 219 secs passed\r\n"
       ]
      },
      {
       "output_type": "stream",
       "stream": "stdout",
       "text": [
        "Thread #0: \t2200000 read pairs finished. 222 secs passed\r\n"
       ]
      },
      {
       "output_type": "stream",
       "stream": "stdout",
       "text": [
        "Thread #1: \t2250000 read pairs finished. 233 secs passed\r\n"
       ]
      },
      {
       "output_type": "stream",
       "stream": "stdout",
       "text": [
        "Thread #2: \t2350000 read pairs finished. 237 secs passed\r\n"
       ]
      },
      {
       "output_type": "stream",
       "stream": "stdout",
       "text": [
        "Thread #3: \t2300000 read pairs finished. 237 secs passed\r\n"
       ]
      },
      {
       "output_type": "stream",
       "stream": "stdout",
       "text": [
        "Thread #0: \t2400000 read pairs finished. 239 secs passed\r\n"
       ]
      },
      {
       "output_type": "stream",
       "stream": "stdout",
       "text": [
        "Thread #1: \t2450000 read pairs finished. 249 secs passed\r\n"
       ]
      },
      {
       "output_type": "stream",
       "stream": "stdout",
       "text": [
        "Thread #3: \t2550000 read pairs finished. 255 secs passed\r\n"
       ]
      },
      {
       "output_type": "stream",
       "stream": "stdout",
       "text": [
        "Thread #2: \t2500000 read pairs finished. 255 secs passed\r\n"
       ]
      },
      {
       "output_type": "stream",
       "stream": "stdout",
       "text": [
        "Thread #0: \t2600000 read pairs finished. 256 secs passed\r\n"
       ]
      },
      {
       "output_type": "stream",
       "stream": "stdout",
       "text": [
        "Thread #1: \t2650000 read pairs finished. 267 secs passed\r\n"
       ]
      },
      {
       "output_type": "stream",
       "stream": "stdout",
       "text": [
        "Thread #3: \t2700000 read pairs finished. 273 secs passed\r\n"
       ]
      },
      {
       "output_type": "stream",
       "stream": "stdout",
       "text": [
        "Thread #2: \t2750000 read pairs finished. 273 secs passed\r\n"
       ]
      },
      {
       "output_type": "stream",
       "stream": "stdout",
       "text": [
        "Thread #0: \t2800000 read pairs finished. 274 secs passed\r\n"
       ]
      },
      {
       "output_type": "stream",
       "stream": "stdout",
       "text": [
        "Thread #1: \t2850000 read pairs finished. 284 secs passed\r\n"
       ]
      },
      {
       "output_type": "stream",
       "stream": "stdout",
       "text": [
        "Thread #2: \t2950000 read pairs finished. 291 secs passed\r\n"
       ]
      },
      {
       "output_type": "stream",
       "stream": "stdout",
       "text": [
        "Thread #3: \t2900000 read pairs finished. 291 secs passed\r\n"
       ]
      },
      {
       "output_type": "stream",
       "stream": "stdout",
       "text": [
        "Thread #0: \t3000000 read pairs finished. 291 secs passed\r\n"
       ]
      },
      {
       "output_type": "stream",
       "stream": "stdout",
       "text": [
        "Thread #1: \t3050000 read pairs finished. 301 secs passed\r\n"
       ]
      },
      {
       "output_type": "stream",
       "stream": "stdout",
       "text": [
        "Thread #2: \t3100000 read pairs finished. 308 secs passed\r\n"
       ]
      },
      {
       "output_type": "stream",
       "stream": "stdout",
       "text": [
        "Thread #3: \t3150000 read pairs finished. 309 secs passed\r\n"
       ]
      },
      {
       "output_type": "stream",
       "stream": "stdout",
       "text": [
        "Thread #0: \t3200000 read pairs finished. 309 secs passed\r\n"
       ]
      },
      {
       "output_type": "stream",
       "stream": "stdout",
       "text": [
        "Thread #1: \t3250000 read pairs finished. 318 secs passed\r\n"
       ]
      },
      {
       "output_type": "stream",
       "stream": "stdout",
       "text": [
        "Thread #2: \t3300000 read pairs finished. 325 secs passed\r\n"
       ]
      },
      {
       "output_type": "stream",
       "stream": "stdout",
       "text": [
        "Thread #3: \t3350000 read pairs finished. 326 secs passed\r\n"
       ]
      },
      {
       "output_type": "stream",
       "stream": "stdout",
       "text": [
        "Thread #0: \t3400000 read pairs finished. 326 secs passed\r\n"
       ]
      },
      {
       "output_type": "stream",
       "stream": "stdout",
       "text": [
        "Thread #1: \t3450000 read pairs finished. 334 secs passed\r\n"
       ]
      },
      {
       "output_type": "stream",
       "stream": "stdout",
       "text": [
        "Thread #2: \t3500000 read pairs finished. 342 secs passed\r\n"
       ]
      },
      {
       "output_type": "stream",
       "stream": "stdout",
       "text": [
        "Thread #3: \t3550000 read pairs finished. 344 secs passed\r\n"
       ]
      },
      {
       "output_type": "stream",
       "stream": "stdout",
       "text": [
        "Thread #0: \t3600000 read pairs finished. 345 secs passed\r\n"
       ]
      },
      {
       "output_type": "stream",
       "stream": "stdout",
       "text": [
        "Thread #1: \t3650000 read pairs finished. 353 secs passed\r\n"
       ]
      },
      {
       "output_type": "stream",
       "stream": "stdout",
       "text": [
        "Thread #2: \t3700000 read pairs finished. 360 secs passed\r\n"
       ]
      },
      {
       "output_type": "stream",
       "stream": "stdout",
       "text": [
        "Thread #3: \t3750000 read pairs finished. 362 secs passed\r\n"
       ]
      },
      {
       "output_type": "stream",
       "stream": "stdout",
       "text": [
        "Thread #0: \t3800000 read pairs finished. 362 secs passed\r\n"
       ]
      },
      {
       "output_type": "stream",
       "stream": "stdout",
       "text": [
        "Thread #1: \t3850000 read pairs finished. 370 secs passed\r\n"
       ]
      },
      {
       "output_type": "stream",
       "stream": "stdout",
       "text": [
        "Thread #2: \t3900000 read pairs finished. 377 secs passed\r\n"
       ]
      },
      {
       "output_type": "stream",
       "stream": "stdout",
       "text": [
        "Thread #3: \t3950000 read pairs finished. 379 secs passed\r\n"
       ]
      },
      {
       "output_type": "stream",
       "stream": "stdout",
       "text": [
        "Thread #0: \t4000000 read pairs finished. 379 secs passed\r\n"
       ]
      },
      {
       "output_type": "stream",
       "stream": "stdout",
       "text": [
        "Thread #1: \t4050000 read pairs finished. 388 secs passed\r\n"
       ]
      },
      {
       "output_type": "stream",
       "stream": "stdout",
       "text": [
        "Thread #2: \t4100000 read pairs finished. 394 secs passed\r\n"
       ]
      },
      {
       "output_type": "stream",
       "stream": "stdout",
       "text": [
        "Thread #3: \t4150000 read pairs finished. 396 secs passed\r\n"
       ]
      },
      {
       "output_type": "stream",
       "stream": "stdout",
       "text": [
        "Thread #0: \t4200000 read pairs finished. 396 secs passed\r\n"
       ]
      },
      {
       "output_type": "stream",
       "stream": "stdout",
       "text": [
        "Thread #1: \t4250000 read pairs finished. 405 secs passed\r\n"
       ]
      },
      {
       "output_type": "stream",
       "stream": "stdout",
       "text": [
        "Thread #2: \t4300000 read pairs finished. 412 secs passed\r\n"
       ]
      },
      {
       "output_type": "stream",
       "stream": "stdout",
       "text": [
        "Thread #3: \t4350000 read pairs finished. 413 secs passed\r\n"
       ]
      },
      {
       "output_type": "stream",
       "stream": "stdout",
       "text": [
        "Thread #0: \t4400000 read pairs finished. 414 secs passed\r\n"
       ]
      },
      {
       "output_type": "stream",
       "stream": "stdout",
       "text": [
        "Thread #1: \t4450000 read pairs finished. 423 secs passed\r\n"
       ]
      },
      {
       "output_type": "stream",
       "stream": "stdout",
       "text": [
        "Thread #2: \t4500000 read pairs finished. 429 secs passed\r\n"
       ]
      },
      {
       "output_type": "stream",
       "stream": "stdout",
       "text": [
        "Thread #3: \t4550000 read pairs finished. 430 secs passed\r\n"
       ]
      },
      {
       "output_type": "stream",
       "stream": "stdout",
       "text": [
        "Thread #0: \t4600000 read pairs finished. 432 secs passed\r\n"
       ]
      },
      {
       "output_type": "stream",
       "stream": "stdout",
       "text": [
        "Thread #1: \t4650000 read pairs finished. 440 secs passed\r\n"
       ]
      },
      {
       "output_type": "stream",
       "stream": "stdout",
       "text": [
        "Thread #2: \t4700000 read pairs finished. 446 secs passed\r\n"
       ]
      },
      {
       "output_type": "stream",
       "stream": "stdout",
       "text": [
        "Thread #3: \t4750000 read pairs finished. 448 secs passed\r\n"
       ]
      },
      {
       "output_type": "stream",
       "stream": "stdout",
       "text": [
        "Thread #0: \t4800000 read pairs finished. 449 secs passed\r\n"
       ]
      },
      {
       "output_type": "stream",
       "stream": "stdout",
       "text": [
        "Thread #1: \t4850000 read pairs finished. 457 secs passed\r\n"
       ]
      },
      {
       "output_type": "stream",
       "stream": "stdout",
       "text": [
        "Thread #2: \t4900000 read pairs finished. 464 secs passed\r\n"
       ]
      },
      {
       "output_type": "stream",
       "stream": "stdout",
       "text": [
        "Thread #3: \t4950000 read pairs finished. 465 secs passed\r\n"
       ]
      },
      {
       "output_type": "stream",
       "stream": "stdout",
       "text": [
        "Thread #0: \t5000000 read pairs finished. 466 secs passed\r\n"
       ]
      },
      {
       "output_type": "stream",
       "stream": "stdout",
       "text": [
        "Thread #1: \t5050000 read pairs finished. 474 secs passed\r\n"
       ]
      },
      {
       "output_type": "stream",
       "stream": "stdout",
       "text": [
        "Thread #2: \t5100000 read pairs finished. 480 secs passed\r\n"
       ]
      },
      {
       "output_type": "stream",
       "stream": "stdout",
       "text": [
        "Thread #3: \t5150000 read pairs finished. 482 secs passed\r\n"
       ]
      },
      {
       "output_type": "stream",
       "stream": "stdout",
       "text": [
        "Thread #0: \t5200000 read pairs finished. 483 secs passed\r\n"
       ]
      },
      {
       "output_type": "stream",
       "stream": "stdout",
       "text": [
        "Thread #1: \t5250000 read pairs finished. 491 secs passed\r\n"
       ]
      },
      {
       "output_type": "stream",
       "stream": "stdout",
       "text": [
        "Thread #2: \t5300000 read pairs finished. 499 secs passed\r\n"
       ]
      },
      {
       "output_type": "stream",
       "stream": "stdout",
       "text": [
        "Thread #3: \t5350000 read pairs finished. 499 secs passed\r\n"
       ]
      },
      {
       "output_type": "stream",
       "stream": "stdout",
       "text": [
        "Thread #0: \t5400000 read pairs finished. 500 secs passed\r\n"
       ]
      },
      {
       "output_type": "stream",
       "stream": "stdout",
       "text": [
        "Thread #1: \t5450000 read pairs finished. 508 secs passed\r\n"
       ]
      },
      {
       "output_type": "stream",
       "stream": "stdout",
       "text": [
        "Thread #2: \t5500000 read pairs finished. 516 secs passed\r\n"
       ]
      },
      {
       "output_type": "stream",
       "stream": "stdout",
       "text": [
        "Thread #3: \t5550000 read pairs finished. 517 secs passed\r\n"
       ]
      },
      {
       "output_type": "stream",
       "stream": "stdout",
       "text": [
        "Thread #0: \t5600000 read pairs finished. 518 secs passed\r\n"
       ]
      },
      {
       "output_type": "stream",
       "stream": "stdout",
       "text": [
        "Thread #1: \t5650000 read pairs finished. 526 secs passed\r\n"
       ]
      },
      {
       "output_type": "stream",
       "stream": "stdout",
       "text": [
        "Thread #2: \t5700000 read pairs finished. 533 secs passed\r\n"
       ]
      },
      {
       "output_type": "stream",
       "stream": "stdout",
       "text": [
        "Thread #3: \t5750000 read pairs finished. 534 secs passed\r\n"
       ]
      },
      {
       "output_type": "stream",
       "stream": "stdout",
       "text": [
        "Thread #0: \t5800000 read pairs finished. 535 secs passed\r\n"
       ]
      },
      {
       "output_type": "stream",
       "stream": "stdout",
       "text": [
        "Thread #1: \t5850000 read pairs finished. 543 secs passed\r\n"
       ]
      },
      {
       "output_type": "stream",
       "stream": "stdout",
       "text": [
        "Thread #2: \t5900000 read pairs finished. 552 secs passed\r\n"
       ]
      },
      {
       "output_type": "stream",
       "stream": "stdout",
       "text": [
        "Thread #3: \t5950000 read pairs finished. 553 secs passed\r\n"
       ]
      },
      {
       "output_type": "stream",
       "stream": "stdout",
       "text": [
        "Thread #0: \t6000000 read pairs finished. 554 secs passed\r\n"
       ]
      },
      {
       "output_type": "stream",
       "stream": "stdout",
       "text": [
        "Thread #1: \t6050000 read pairs finished. 561 secs passed\r\n"
       ]
      },
      {
       "output_type": "stream",
       "stream": "stdout",
       "text": [
        "Thread #2: \t6100000 read pairs finished. 569 secs passed\r\n"
       ]
      },
      {
       "output_type": "stream",
       "stream": "stdout",
       "text": [
        "Thread #3: \t6150000 read pairs finished. 570 secs passed\r\n"
       ]
      },
      {
       "output_type": "stream",
       "stream": "stdout",
       "text": [
        "Thread #0: \t6200000 read pairs finished. 571 secs passed\r\n"
       ]
      },
      {
       "output_type": "stream",
       "stream": "stdout",
       "text": [
        "Thread #1: \t6250000 read pairs finished. 579 secs passed\r\n"
       ]
      },
      {
       "output_type": "stream",
       "stream": "stdout",
       "text": [
        "Thread #2: \t6300000 read pairs finished. 588 secs passed\r\n"
       ]
      },
      {
       "output_type": "stream",
       "stream": "stdout",
       "text": [
        "Thread #3: \t6350000 read pairs finished. 588 secs passed\r\n"
       ]
      },
      {
       "output_type": "stream",
       "stream": "stdout",
       "text": [
        "Thread #0: \t6400000 read pairs finished. 589 secs passed\r\n"
       ]
      },
      {
       "output_type": "stream",
       "stream": "stdout",
       "text": [
        "Thread #1: \t6450000 read pairs finished. 597 secs passed\r\n"
       ]
      },
      {
       "output_type": "stream",
       "stream": "stdout",
       "text": [
        "Thread #2: \t6500000 read pairs finished. 605 secs passed\r\n"
       ]
      },
      {
       "output_type": "stream",
       "stream": "stdout",
       "text": [
        "Thread #3: \t6550000 read pairs finished. 606 secs passed\r\n"
       ]
      },
      {
       "output_type": "stream",
       "stream": "stdout",
       "text": [
        "Thread #0: \t6600000 read pairs finished. 606 secs passed\r\n"
       ]
      },
      {
       "output_type": "stream",
       "stream": "stdout",
       "text": [
        "Thread #1: \t6650000 read pairs finished. 614 secs passed\r\n"
       ]
      },
      {
       "output_type": "stream",
       "stream": "stdout",
       "text": [
        "Thread #2: \t6700000 read pairs finished. 623 secs passed\r\n"
       ]
      },
      {
       "output_type": "stream",
       "stream": "stdout",
       "text": [
        "Thread #3: \t6750000 read pairs finished. 623 secs passed\r\n"
       ]
      },
      {
       "output_type": "stream",
       "stream": "stdout",
       "text": [
        "Thread #0: \t6800000 read pairs finished. 624 secs passed\r\n"
       ]
      },
      {
       "output_type": "stream",
       "stream": "stdout",
       "text": [
        "Thread #1: \t6850000 read pairs finished. 631 secs passed\r\n"
       ]
      },
      {
       "output_type": "stream",
       "stream": "stdout",
       "text": [
        "Thread #2: \t6900000 read pairs finished. 640 secs passed\r\n"
       ]
      },
      {
       "output_type": "stream",
       "stream": "stdout",
       "text": [
        "Thread #3: \t6950000 read pairs finished. 641 secs passed\r\n"
       ]
      },
      {
       "output_type": "stream",
       "stream": "stdout",
       "text": [
        "Thread #0: \t7000000 read pairs finished. 641 secs passed\r\n"
       ]
      },
      {
       "output_type": "stream",
       "stream": "stdout",
       "text": [
        "Thread #1: \t7050000 read pairs finished. 649 secs passed\r\n"
       ]
      },
      {
       "output_type": "stream",
       "stream": "stdout",
       "text": [
        "Thread #2: \t7100000 read pairs finished. 657 secs passed\r\n"
       ]
      },
      {
       "output_type": "stream",
       "stream": "stdout",
       "text": [
        "Thread #3: \t7150000 read pairs finished. 659 secs passed\r\n"
       ]
      },
      {
       "output_type": "stream",
       "stream": "stdout",
       "text": [
        "Thread #0: \t7200000 read pairs finished. 659 secs passed\r\n"
       ]
      },
      {
       "output_type": "stream",
       "stream": "stdout",
       "text": [
        "Thread #1: \t7250000 read pairs finished. 666 secs passed\r\n"
       ]
      },
      {
       "output_type": "stream",
       "stream": "stdout",
       "text": [
        "Thread #2: \t7300000 read pairs finished. 674 secs passed\r\n"
       ]
      },
      {
       "output_type": "stream",
       "stream": "stdout",
       "text": [
        "Thread #3: \t7350000 read pairs finished. 676 secs passed\r\n"
       ]
      },
      {
       "output_type": "stream",
       "stream": "stdout",
       "text": [
        "Thread #0: \t7400000 read pairs finished. 677 secs passed\r\n"
       ]
      },
      {
       "output_type": "stream",
       "stream": "stdout",
       "text": [
        "Thread #1: \t7450000 read pairs finished. 683 secs passed\r\n"
       ]
      },
      {
       "output_type": "stream",
       "stream": "stdout",
       "text": [
        "Thread #2: \t7500000 read pairs finished. 692 secs passed\r\n"
       ]
      },
      {
       "output_type": "stream",
       "stream": "stdout",
       "text": [
        "Thread #3: \t7550000 read pairs finished. 693 secs passed\r\n"
       ]
      },
      {
       "output_type": "stream",
       "stream": "stdout",
       "text": [
        "Thread #0: \t7600000 read pairs finished. 694 secs passed\r\n"
       ]
      },
      {
       "output_type": "stream",
       "stream": "stdout",
       "text": [
        "Thread #1: \t7650000 read pairs finished. 699 secs passed\r\n"
       ]
      },
      {
       "output_type": "stream",
       "stream": "stdout",
       "text": [
        "Thread #2: \t7700000 read pairs finished. 709 secs passed\r\n"
       ]
      },
      {
       "output_type": "stream",
       "stream": "stdout",
       "text": [
        "Thread #3: \t7750000 read pairs finished. 710 secs passed\r\n"
       ]
      },
      {
       "output_type": "stream",
       "stream": "stdout",
       "text": [
        "Thread #0: \t7800000 read pairs finished. 711 secs passed\r\n"
       ]
      },
      {
       "output_type": "stream",
       "stream": "stdout",
       "text": [
        "Thread #1: \t7850000 read pairs finished. 717 secs passed\r\n"
       ]
      },
      {
       "output_type": "stream",
       "stream": "stdout",
       "text": [
        "Thread #1: \t8023643 read pairs finished. 725 secs passed\r\n"
       ]
      },
      {
       "output_type": "stream",
       "stream": "stdout",
       "text": [
        "Thread #2: \t7900000 read pairs finished. 726 secs passed\r\n"
       ]
      },
      {
       "output_type": "stream",
       "stream": "stdout",
       "text": [
        "Thread #3: \t7950000 read pairs finished. 726 secs passed\r\n"
       ]
      },
      {
       "output_type": "stream",
       "stream": "stdout",
       "text": [
        "Thread #0: \t8000000 read pairs finished. 727 secs passed\r\n"
       ]
      },
      {
       "output_type": "stream",
       "stream": "stdout",
       "text": [
        "Total number of aligned reads: \r\n",
        "pairs:       3982551 (50%)\r\n",
        "single a:    1489442 (19%)\r\n",
        "single b:    1430646 (18%)\r\n",
        "Done.\r\n",
        "Finished at Tue Dec  2 14:15:10 2014\r\n",
        "Total time consumed:  727 secs\r\n"
       ]
      },
      {
       "output_type": "stream",
       "stream": "stdout",
       "text": [
        "\r\n",
        "BSMAP v2.74\r\n",
        "Start at:  Tue Dec  2 14:15:11 2014\r\n",
        "\r\n",
        "Input reference file: Crassostrea_gigas.GCA_000297895.1.22.dna_sm.genome.fa \t(format: FASTA)\r\n"
       ]
      },
      {
       "output_type": "stream",
       "stream": "stdout",
       "text": [
        "Load in 7658 db seqs, total size 557717710 bp. 9 secs passed\r\n",
        "total_kmers: 43046721\r\n"
       ]
      },
      {
       "output_type": "stream",
       "stream": "stdout",
       "text": [
        "Create seed table. 25 secs passed\r\n",
        "max number of mismatches: read_length * 8% \tmax gap size: 0\r\n",
        "kmer cut-off ratio: 5e-07\r\n",
        "max multi-hits: 100\tmax Ns: 5\tseed size: 16\tindex interval: 4\r\n",
        "quality cutoff: 0\tbase quality char: '!'\r\n",
        "min fragment size:28\tmax fragemt size:500\r\n",
        "start from read #1\tend at read #4294967295\r\n",
        "additional alignment: T in reads => C in reference\r\n",
        "mapping strand (read_1): ++,-+\r\n",
        "mapping strand (read_2): +-,--\r\n",
        "Pair-end alignment(4 threads)\r\n",
        "Input read file #1: mcf_T1D3_R1.fastq"
       ]
      },
      {
       "output_type": "stream",
       "stream": "stdout",
       "text": [
        " \t(format: FASTQ)\r\n",
        "Input read file #2: mcf_T1D3_R2.fastq \t(format: FASTQ)\r\n",
        "Output file: bsmap_out_T1D3.sam\t (format: SAM)\r\n"
       ]
      },
      {
       "output_type": "stream",
       "stream": "stdout",
       "text": [
        "Thread #3: \t50000 read pairs finished. 39 secs passed\r\n"
       ]
      },
      {
       "output_type": "stream",
       "stream": "stdout",
       "text": [
        "Thread #0: \t100000 read pairs finished. 39 secs passed\r\n"
       ]
      },
      {
       "output_type": "stream",
       "stream": "stdout",
       "text": [
        "Thread #1: \t150000 read pairs finished. 40 secs passed\r\n"
       ]
      },
      {
       "output_type": "stream",
       "stream": "stdout",
       "text": [
        "Thread #2: \t200000 read pairs finished. 40 secs passed\r\n"
       ]
      },
      {
       "output_type": "stream",
       "stream": "stdout",
       "text": [
        "Thread #3: \t250000 read pairs finished. 54 secs passed\r\n"
       ]
      },
      {
       "output_type": "stream",
       "stream": "stdout",
       "text": [
        "Thread #0: \t300000 read pairs finished. 54 secs passed\r\n"
       ]
      },
      {
       "output_type": "stream",
       "stream": "stdout",
       "text": [
        "Thread #1: \t350000 read pairs finished. 55 secs passed\r\n"
       ]
      },
      {
       "output_type": "stream",
       "stream": "stdout",
       "text": [
        "Thread #2: \t400000 read pairs finished. 55 secs passed\r\n"
       ]
      },
      {
       "output_type": "stream",
       "stream": "stdout",
       "text": [
        "Thread #3: \t450000 read pairs finished. 68 secs passed\r\n"
       ]
      },
      {
       "output_type": "stream",
       "stream": "stdout",
       "text": [
        "Thread #0: \t500000 read pairs finished. 68 secs passed\r\n"
       ]
      },
      {
       "output_type": "stream",
       "stream": "stdout",
       "text": [
        "Thread #2: \t600000 read pairs finished. 69 secs passed\r\n"
       ]
      },
      {
       "output_type": "stream",
       "stream": "stdout",
       "text": [
        "Thread #1: \t550000 read pairs finished. 69 secs passed\r\n"
       ]
      },
      {
       "output_type": "stream",
       "stream": "stdout",
       "text": [
        "Thread #3: \t650000 read pairs finished. 82 secs passed\r\n"
       ]
      },
      {
       "output_type": "stream",
       "stream": "stdout",
       "text": [
        "Thread #0: \t700000 read pairs finished. 83 secs passed\r\n"
       ]
      },
      {
       "output_type": "stream",
       "stream": "stdout",
       "text": [
        "Thread #2: \t750000 read pairs finished. 83 secs passed\r\n"
       ]
      },
      {
       "output_type": "stream",
       "stream": "stdout",
       "text": [
        "Thread #1: \t800000 read pairs finished. 83 secs passed\r\n"
       ]
      },
      {
       "output_type": "stream",
       "stream": "stdout",
       "text": [
        "Thread #3: \t850000 read pairs finished. 96 secs passed\r\n"
       ]
      },
      {
       "output_type": "stream",
       "stream": "stdout",
       "text": [
        "Thread #0: \t900000 read pairs finished. 97 secs passed\r\n"
       ]
      },
      {
       "output_type": "stream",
       "stream": "stdout",
       "text": [
        "Thread #2: \t950000 read pairs finished. 97 secs passed\r\n"
       ]
      },
      {
       "output_type": "stream",
       "stream": "stdout",
       "text": [
        "Thread #1: \t1000000 read pairs finished. 98 secs passed\r\n"
       ]
      },
      {
       "output_type": "stream",
       "stream": "stdout",
       "text": [
        "Thread #3: \t1050000 read pairs finished. 110 secs passed\r\n"
       ]
      },
      {
       "output_type": "stream",
       "stream": "stdout",
       "text": [
        "Thread #0: \t1100000 read pairs finished. 111 secs passed\r\n"
       ]
      },
      {
       "output_type": "stream",
       "stream": "stdout",
       "text": [
        "Thread #2: \t1150000 read pairs finished. 111 secs passed\r\n"
       ]
      },
      {
       "output_type": "stream",
       "stream": "stdout",
       "text": [
        "Thread #1: \t1200000 read pairs finished. 111 secs passed\r\n"
       ]
      },
      {
       "output_type": "stream",
       "stream": "stdout",
       "text": [
        "Thread #3: \t1250000 read pairs finished. 124 secs passed\r\n"
       ]
      },
      {
       "output_type": "stream",
       "stream": "stdout",
       "text": [
        "Thread #0: \t1300000 read pairs finished. 125 secs passed\r\n"
       ]
      },
      {
       "output_type": "stream",
       "stream": "stdout",
       "text": [
        "Thread #2: \t1350000 read pairs finished. 125 secs passed\r\n"
       ]
      },
      {
       "output_type": "stream",
       "stream": "stdout",
       "text": [
        "Thread #1: \t1400000 read pairs finished. 126 secs passed\r\n"
       ]
      },
      {
       "output_type": "stream",
       "stream": "stdout",
       "text": [
        "Thread #3: \t1450000 read pairs finished. 137 secs passed\r\n"
       ]
      },
      {
       "output_type": "stream",
       "stream": "stdout",
       "text": [
        "Thread #0: \t1500000 read pairs finished. 139 secs passed\r\n"
       ]
      },
      {
       "output_type": "stream",
       "stream": "stdout",
       "text": [
        "Thread #2: \t1550000 read pairs finished. 140 secs passed\r\n"
       ]
      },
      {
       "output_type": "stream",
       "stream": "stdout",
       "text": [
        "Thread #1: \t1600000 read pairs finished. 140 secs passed\r\n"
       ]
      },
      {
       "output_type": "stream",
       "stream": "stdout",
       "text": [
        "Thread #3: \t1650000 read pairs finished. 151 secs passed\r\n"
       ]
      },
      {
       "output_type": "stream",
       "stream": "stdout",
       "text": [
        "Thread #0: \t1700000 read pairs finished. 153 secs passed\r\n"
       ]
      },
      {
       "output_type": "stream",
       "stream": "stdout",
       "text": [
        "Thread #2: \t1750000 read pairs finished. 154 secs passed\r\n"
       ]
      },
      {
       "output_type": "stream",
       "stream": "stdout",
       "text": [
        "Thread #1: \t1800000 read pairs finished. 154 secs passed\r\n"
       ]
      },
      {
       "output_type": "stream",
       "stream": "stdout",
       "text": [
        "Thread #3: \t1850000 read pairs finished. 165 secs passed\r\n"
       ]
      },
      {
       "output_type": "stream",
       "stream": "stdout",
       "text": [
        "Thread #0: \t1900000 read pairs finished. 168 secs passed\r\n"
       ]
      },
      {
       "output_type": "stream",
       "stream": "stdout",
       "text": [
        "Thread #2: \t1950000 read pairs finished. 168 secs passed\r\n"
       ]
      },
      {
       "output_type": "stream",
       "stream": "stdout",
       "text": [
        "Thread #1: \t2000000 read pairs finished. 168 secs passed\r\n"
       ]
      },
      {
       "output_type": "stream",
       "stream": "stdout",
       "text": [
        "Thread #3: \t2050000 read pairs finished. 179 secs passed\r\n"
       ]
      },
      {
       "output_type": "stream",
       "stream": "stdout",
       "text": [
        "Thread #2: \t2150000 read pairs finished. 182 secs passed\r\n"
       ]
      },
      {
       "output_type": "stream",
       "stream": "stdout",
       "text": [
        "Thread #0: \t2100000 read pairs finished. 182 secs passed\r\n"
       ]
      },
      {
       "output_type": "stream",
       "stream": "stdout",
       "text": [
        "Thread #1: \t2200000 read pairs finished. 182 secs passed\r\n"
       ]
      },
      {
       "output_type": "stream",
       "stream": "stdout",
       "text": [
        "Thread #3: \t2250000 read pairs finished. 192 secs passed\r\n"
       ]
      },
      {
       "output_type": "stream",
       "stream": "stdout",
       "text": [
        "Thread #2: \t2300000 read pairs finished. 195 secs passed\r\n"
       ]
      },
      {
       "output_type": "stream",
       "stream": "stdout",
       "text": [
        "Thread #1: \t2400000 read pairs finished. 196 secs passed\r\n"
       ]
      },
      {
       "output_type": "stream",
       "stream": "stdout",
       "text": [
        "Thread #0: \t2350000 read pairs finished. 196 secs passed\r\n"
       ]
      },
      {
       "output_type": "stream",
       "stream": "stdout",
       "text": [
        "Thread #3: \t2450000 read pairs finished. 205 secs passed\r\n"
       ]
      },
      {
       "output_type": "stream",
       "stream": "stdout",
       "text": [
        "Thread #2: \t2500000 read pairs finished. 209 secs passed\r\n"
       ]
      },
      {
       "output_type": "stream",
       "stream": "stdout",
       "text": [
        "Thread #1: \t2550000 read pairs finished. 210 secs passed\r\n"
       ]
      },
      {
       "output_type": "stream",
       "stream": "stdout",
       "text": [
        "Thread #0: \t2600000 read pairs finished. 210 secs passed\r\n"
       ]
      },
      {
       "output_type": "stream",
       "stream": "stdout",
       "text": [
        "Thread #3: \t2650000 read pairs finished. 218 secs passed\r\n"
       ]
      },
      {
       "output_type": "stream",
       "stream": "stdout",
       "text": [
        "Thread #2: \t2700000 read pairs finished. 223 secs passed\r\n"
       ]
      },
      {
       "output_type": "stream",
       "stream": "stdout",
       "text": [
        "Thread #1: \t2750000 read pairs finished. 223 secs passed\r\n"
       ]
      },
      {
       "output_type": "stream",
       "stream": "stdout",
       "text": [
        "Thread #0: \t2800000 read pairs finished. 224 secs passed\r\n"
       ]
      },
      {
       "output_type": "stream",
       "stream": "stdout",
       "text": [
        "Thread #3: \t2850000 read pairs finished. 231 secs passed\r\n"
       ]
      },
      {
       "output_type": "stream",
       "stream": "stdout",
       "text": [
        "Thread #2: \t2900000 read pairs finished. 236 secs passed\r\n"
       ]
      },
      {
       "output_type": "stream",
       "stream": "stdout",
       "text": [
        "Thread #1: \t2950000 read pairs finished. 237 secs passed\r\n"
       ]
      },
      {
       "output_type": "stream",
       "stream": "stdout",
       "text": [
        "Thread #0: \t3000000 read pairs finished. 238 secs passed\r\n"
       ]
      },
      {
       "output_type": "stream",
       "stream": "stdout",
       "text": [
        "Thread #3: \t3050000 read pairs finished. 244 secs passed\r\n"
       ]
      },
      {
       "output_type": "stream",
       "stream": "stdout",
       "text": [
        "Thread #2: \t3100000 read pairs finished. 250 secs passed\r\n"
       ]
      },
      {
       "output_type": "stream",
       "stream": "stdout",
       "text": [
        "Thread #1: \t3150000 read pairs finished. 251 secs passed\r\n"
       ]
      },
      {
       "output_type": "stream",
       "stream": "stdout",
       "text": [
        "Thread #0: \t3200000 read pairs finished. 251 secs passed\r\n"
       ]
      },
      {
       "output_type": "stream",
       "stream": "stdout",
       "text": [
        "Thread #3: \t3250000 read pairs finished. 258 secs passed\r\n"
       ]
      },
      {
       "output_type": "stream",
       "stream": "stdout",
       "text": [
        "Thread #2: \t3300000 read pairs finished. 263 secs passed\r\n"
       ]
      },
      {
       "output_type": "stream",
       "stream": "stdout",
       "text": [
        "Thread #1: \t3350000 read pairs finished. 264 secs passed\r\n"
       ]
      },
      {
       "output_type": "stream",
       "stream": "stdout",
       "text": [
        "Thread #0: \t3400000 read pairs finished. 265 secs passed\r\n"
       ]
      },
      {
       "output_type": "stream",
       "stream": "stdout",
       "text": [
        "Thread #3: \t3450000 read pairs finished. 271 secs passed\r\n"
       ]
      },
      {
       "output_type": "stream",
       "stream": "stdout",
       "text": [
        "Thread #2: \t3500000 read pairs finished. 277 secs passed\r\n"
       ]
      },
      {
       "output_type": "stream",
       "stream": "stdout",
       "text": [
        "Thread #1: \t3550000 read pairs finished. 278 secs passed\r\n"
       ]
      },
      {
       "output_type": "stream",
       "stream": "stdout",
       "text": [
        "Thread #0: \t3600000 read pairs finished. 279 secs passed\r\n"
       ]
      },
      {
       "output_type": "stream",
       "stream": "stdout",
       "text": [
        "Thread #3: \t3650000 read pairs finished. 286 secs passed\r\n"
       ]
      },
      {
       "output_type": "stream",
       "stream": "stdout",
       "text": [
        "Thread #2: \t3700000 read pairs finished. 291 secs passed\r\n"
       ]
      },
      {
       "output_type": "stream",
       "stream": "stdout",
       "text": [
        "Thread #1: \t3750000 read pairs finished. 291 secs passed\r\n"
       ]
      },
      {
       "output_type": "stream",
       "stream": "stdout",
       "text": [
        "Thread #0: \t3800000 read pairs finished. 292 secs passed\r\n"
       ]
      },
      {
       "output_type": "stream",
       "stream": "stdout",
       "text": [
        "Thread #3: \t3850000 read pairs finished. 299 secs passed\r\n"
       ]
      },
      {
       "output_type": "stream",
       "stream": "stdout",
       "text": [
        "Thread #2: \t3900000 read pairs finished. 304 secs passed\r\n"
       ]
      },
      {
       "output_type": "stream",
       "stream": "stdout",
       "text": [
        "Thread #1: \t3950000 read pairs finished. 305 secs passed\r\n"
       ]
      },
      {
       "output_type": "stream",
       "stream": "stdout",
       "text": [
        "Thread #0: \t4000000 read pairs finished. 306 secs passed\r\n"
       ]
      },
      {
       "output_type": "stream",
       "stream": "stdout",
       "text": [
        "Thread #3: \t4050000 read pairs finished. 314 secs passed\r\n"
       ]
      },
      {
       "output_type": "stream",
       "stream": "stdout",
       "text": [
        "Thread #2: \t4100000 read pairs finished. 319 secs passed\r\n"
       ]
      },
      {
       "output_type": "stream",
       "stream": "stdout",
       "text": [
        "Thread #1: \t4150000 read pairs finished. 320 secs passed\r\n"
       ]
      },
      {
       "output_type": "stream",
       "stream": "stdout",
       "text": [
        "Thread #0: \t4200000 read pairs finished. 321 secs passed\r\n"
       ]
      },
      {
       "output_type": "stream",
       "stream": "stdout",
       "text": [
        "Thread #3: \t4250000 read pairs finished. 329 secs passed\r\n"
       ]
      },
      {
       "output_type": "stream",
       "stream": "stdout",
       "text": [
        "Thread #2: \t4300000 read pairs finished. 333 secs passed\r\n"
       ]
      },
      {
       "output_type": "stream",
       "stream": "stdout",
       "text": [
        "Thread #1: \t4350000 read pairs finished. 333 secs passed\r\n"
       ]
      },
      {
       "output_type": "stream",
       "stream": "stdout",
       "text": [
        "Thread #0: \t4400000 read pairs finished. 334 secs passed\r\n"
       ]
      },
      {
       "output_type": "stream",
       "stream": "stdout",
       "text": [
        "Thread #3: \t4450000 read pairs finished. 342 secs passed\r\n"
       ]
      },
      {
       "output_type": "stream",
       "stream": "stdout",
       "text": [
        "Thread #2: \t4500000 read pairs finished. 347 secs passed\r\n"
       ]
      },
      {
       "output_type": "stream",
       "stream": "stdout",
       "text": [
        "Thread #1: \t4550000 read pairs finished. 348 secs passed\r\n"
       ]
      },
      {
       "output_type": "stream",
       "stream": "stdout",
       "text": [
        "Thread #0: \t4600000 read pairs finished. 348 secs passed\r\n"
       ]
      },
      {
       "output_type": "stream",
       "stream": "stdout",
       "text": [
        "Thread #3: \t4650000 read pairs finished. 357 secs passed\r\n"
       ]
      },
      {
       "output_type": "stream",
       "stream": "stdout",
       "text": [
        "Thread #2: \t4700000 read pairs finished. 361 secs passed\r\n"
       ]
      },
      {
       "output_type": "stream",
       "stream": "stdout",
       "text": [
        "Thread #1: \t4750000 read pairs finished. 361 secs passed\r\n"
       ]
      },
      {
       "output_type": "stream",
       "stream": "stdout",
       "text": [
        "Thread #0: \t4800000 read pairs finished. 362 secs passed\r\n"
       ]
      },
      {
       "output_type": "stream",
       "stream": "stdout",
       "text": [
        "Thread #3: \t4850000 read pairs finished. 371 secs passed\r\n"
       ]
      },
      {
       "output_type": "stream",
       "stream": "stdout",
       "text": [
        "Thread #2: \t4900000 read pairs finished. 375 secs passed\r\n"
       ]
      },
      {
       "output_type": "stream",
       "stream": "stdout",
       "text": [
        "Thread #3: \t5016400 read pairs finished. 375 secs passed\r\n"
       ]
      },
      {
       "output_type": "stream",
       "stream": "stdout",
       "text": [
        "Thread #1: \t4950000 read pairs finished. 376 secs passed\r\n"
       ]
      },
      {
       "output_type": "stream",
       "stream": "stdout",
       "text": [
        "Thread #0: \t5000000 read pairs finished. 376 secs passed\r\n"
       ]
      },
      {
       "output_type": "stream",
       "stream": "stdout",
       "text": [
        "Total number of aligned reads: \r\n",
        "pairs:       2717832 (54%)\r\n",
        "single a:    1117376 (22%)\r\n",
        "single b:    1178713 (23%)\r\n",
        "Done.\r\n",
        "Finished at Tue Dec  2 14:21:27 2014\r\n",
        "Total time consumed:  376 secs\r\n"
       ]
      },
      {
       "output_type": "stream",
       "stream": "stdout",
       "text": [
        "\r\n",
        "BSMAP v2.74\r\n",
        "Start at:  Tue Dec  2 14:21:28 2014\r\n",
        "\r\n",
        "Input reference file: Crassostrea_gigas.GCA_000297895.1.22.dna_sm.genome.fa \t(format: FASTA)\r\n"
       ]
      },
      {
       "output_type": "stream",
       "stream": "stdout",
       "text": [
        "Load in 7658 db seqs, total size 557717710 bp. 8 secs passed\r\n",
        "total_kmers: 43046721\r\n"
       ]
      },
      {
       "output_type": "stream",
       "stream": "stdout",
       "text": [
        "Create seed table. 25 secs passed\r\n",
        "max number of mismatches: read_length * 8% \tmax gap size: 0\r\n",
        "kmer cut-off ratio: 5e-07\r\n",
        "max multi-hits: 100\tmax Ns: 5\tseed size: 16\tindex interval: 4\r\n",
        "quality cutoff: 0\tbase quality char: '!'\r\n",
        "min fragment size:28\tmax fragemt size:500\r\n",
        "start from read #1\tend at read #4294967295\r\n",
        "additional alignment: T in reads => C in reference\r\n",
        "mapping strand (read_1): ++,-+\r\n",
        "mapping strand (read_2): +-,--\r\n",
        "Pair-end alignment(4 threads)\r\n",
        "Input read file #1: mcf_T1D5_R1.fastq \t(format: FASTQ)\r\n",
        "Input read file #2: mcf_T1D5_R2.fastq \t(format: FASTQ)\r\n",
        "Output file: bsmap_out_T1D5.sam\t (format: SAM)\r\n"
       ]
      },
      {
       "output_type": "stream",
       "stream": "stdout",
       "text": [
        "Thread #0: \t50000 read pairs finished. 43 secs passed\r\n"
       ]
      },
      {
       "output_type": "stream",
       "stream": "stdout",
       "text": [
        "Thread #1: \t150000 read pairs finished. 43 secs passed\r\n"
       ]
      },
      {
       "output_type": "stream",
       "stream": "stdout",
       "text": [
        "Thread #2: \t100000 read pairs finished. 44 secs passed\r\n"
       ]
      },
      {
       "output_type": "stream",
       "stream": "stdout",
       "text": [
        "Thread #3: \t200000 read pairs finished. 44 secs passed\r\n"
       ]
      },
      {
       "output_type": "stream",
       "stream": "stdout",
       "text": [
        "Thread #0: \t250000 read pairs finished. 60 secs passed\r\n"
       ]
      },
      {
       "output_type": "stream",
       "stream": "stdout",
       "text": [
        "Thread #1: \t300000 read pairs finished. 61 secs passed\r\n"
       ]
      },
      {
       "output_type": "stream",
       "stream": "stdout",
       "text": [
        "Thread #2: \t350000 read pairs finished. 62 secs passed\r\n"
       ]
      },
      {
       "output_type": "stream",
       "stream": "stdout",
       "text": [
        "Thread #3: \t400000 read pairs finished. 63 secs passed\r\n"
       ]
      },
      {
       "output_type": "stream",
       "stream": "stdout",
       "text": [
        "Thread #0: \t450000 read pairs finished. 77 secs passed\r\n"
       ]
      },
      {
       "output_type": "stream",
       "stream": "stdout",
       "text": [
        "Thread #1: \t500000 read pairs finished. 78 secs passed\r\n"
       ]
      },
      {
       "output_type": "stream",
       "stream": "stdout",
       "text": [
        "Thread #2: \t550000 read pairs finished. 80 secs passed\r\n"
       ]
      },
      {
       "output_type": "stream",
       "stream": "stdout",
       "text": [
        "Thread #3: \t600000 read pairs finished. 80 secs passed\r\n"
       ]
      },
      {
       "output_type": "stream",
       "stream": "stdout",
       "text": [
        "Thread #0: \t650000 read pairs finished. 94 secs passed\r\n"
       ]
      },
      {
       "output_type": "stream",
       "stream": "stdout",
       "text": [
        "Thread #1: \t700000 read pairs finished. 96 secs passed\r\n"
       ]
      },
      {
       "output_type": "stream",
       "stream": "stdout",
       "text": [
        "Thread #2: \t750000 read pairs finished. 98 secs passed\r\n"
       ]
      },
      {
       "output_type": "stream",
       "stream": "stdout",
       "text": [
        "Thread #3: \t800000 read pairs finished. 99 secs passed\r\n"
       ]
      },
      {
       "output_type": "stream",
       "stream": "stdout",
       "text": [
        "Thread #0: \t850000 read pairs finished. 112 secs passed\r\n"
       ]
      },
      {
       "output_type": "stream",
       "stream": "stdout",
       "text": [
        "Thread #1: \t900000 read pairs finished. 114 secs passed\r\n"
       ]
      },
      {
       "output_type": "stream",
       "stream": "stdout",
       "text": [
        "Thread #2: \t950000 read pairs finished. 116 secs passed\r\n"
       ]
      },
      {
       "output_type": "stream",
       "stream": "stdout",
       "text": [
        "Thread #3: \t1000000 read pairs finished. 117 secs passed\r\n"
       ]
      },
      {
       "output_type": "stream",
       "stream": "stdout",
       "text": [
        "Thread #0: \t1050000 read pairs finished. 129 secs passed\r\n"
       ]
      },
      {
       "output_type": "stream",
       "stream": "stdout",
       "text": [
        "Thread #1: \t1100000 read pairs finished. 131 secs passed\r\n"
       ]
      },
      {
       "output_type": "stream",
       "stream": "stdout",
       "text": [
        "Thread #2: \t1150000 read pairs finished. 133 secs passed\r\n"
       ]
      },
      {
       "output_type": "stream",
       "stream": "stdout",
       "text": [
        "Thread #3: \t1200000 read pairs finished. 134 secs passed\r\n"
       ]
      },
      {
       "output_type": "stream",
       "stream": "stdout",
       "text": [
        "Thread #0: \t1250000 read pairs finished. 146 secs passed\r\n"
       ]
      },
      {
       "output_type": "stream",
       "stream": "stdout",
       "text": [
        "Thread #1: \t1300000 read pairs finished. 147 secs passed\r\n"
       ]
      },
      {
       "output_type": "stream",
       "stream": "stdout",
       "text": [
        "Thread #2: \t1350000 read pairs finished. 150 secs passed\r\n"
       ]
      },
      {
       "output_type": "stream",
       "stream": "stdout",
       "text": [
        "Thread #3: \t1400000 read pairs finished. 152 secs passed\r\n"
       ]
      },
      {
       "output_type": "stream",
       "stream": "stdout",
       "text": [
        "Thread #0: \t1450000 read pairs finished. 163 secs passed\r\n"
       ]
      },
      {
       "output_type": "stream",
       "stream": "stdout",
       "text": [
        "Thread #1: \t1500000 read pairs finished. 164 secs passed\r\n"
       ]
      },
      {
       "output_type": "stream",
       "stream": "stdout",
       "text": [
        "Thread #2: \t1550000 read pairs finished. 167 secs passed\r\n"
       ]
      },
      {
       "output_type": "stream",
       "stream": "stdout",
       "text": [
        "Thread #3: \t1600000 read pairs finished. 168 secs passed\r\n"
       ]
      },
      {
       "output_type": "stream",
       "stream": "stdout",
       "text": [
        "Thread #0: \t1650000 read pairs finished. 179 secs passed\r\n"
       ]
      },
      {
       "output_type": "stream",
       "stream": "stdout",
       "text": [
        "Thread #1: \t1700000 read pairs finished. 182 secs passed\r\n"
       ]
      },
      {
       "output_type": "stream",
       "stream": "stdout",
       "text": [
        "Thread #2: \t1750000 read pairs finished. 184 secs passed\r\n"
       ]
      },
      {
       "output_type": "stream",
       "stream": "stdout",
       "text": [
        "Thread #3: \t1800000 read pairs finished. 185 secs passed\r\n"
       ]
      },
      {
       "output_type": "stream",
       "stream": "stdout",
       "text": [
        "Thread #0: \t1850000 read pairs finished. 196 secs passed\r\n"
       ]
      },
      {
       "output_type": "stream",
       "stream": "stdout",
       "text": [
        "Thread #1: \t1900000 read pairs finished. 199 secs passed\r\n"
       ]
      },
      {
       "output_type": "stream",
       "stream": "stdout",
       "text": [
        "Thread #2: \t1950000 read pairs finished. 201 secs passed\r\n"
       ]
      },
      {
       "output_type": "stream",
       "stream": "stdout",
       "text": [
        "Thread #3: \t2000000 read pairs finished. 202 secs passed\r\n"
       ]
      },
      {
       "output_type": "stream",
       "stream": "stdout",
       "text": [
        "Thread #0: \t2050000 read pairs finished. 213 secs passed\r\n"
       ]
      },
      {
       "output_type": "stream",
       "stream": "stdout",
       "text": [
        "Thread #1: \t2100000 read pairs finished. 216 secs passed\r\n"
       ]
      },
      {
       "output_type": "stream",
       "stream": "stdout",
       "text": [
        "Thread #2: \t2150000 read pairs finished. 218 secs passed\r\n"
       ]
      },
      {
       "output_type": "stream",
       "stream": "stdout",
       "text": [
        "Thread #3: \t2200000 read pairs finished. 219 secs passed\r\n"
       ]
      },
      {
       "output_type": "stream",
       "stream": "stdout",
       "text": [
        "Thread #0: \t2250000 read pairs finished. 229 secs passed\r\n"
       ]
      },
      {
       "output_type": "stream",
       "stream": "stdout",
       "text": [
        "Thread #1: \t2300000 read pairs finished. 233 secs passed\r\n"
       ]
      },
      {
       "output_type": "stream",
       "stream": "stdout",
       "text": [
        "Thread #2: \t2350000 read pairs finished. 235 secs passed\r\n"
       ]
      },
      {
       "output_type": "stream",
       "stream": "stdout",
       "text": [
        "Thread #3: \t2400000 read pairs finished. 236 secs passed\r\n"
       ]
      },
      {
       "output_type": "stream",
       "stream": "stdout",
       "text": [
        "Thread #0: \t2450000 read pairs finished. 246 secs passed\r\n"
       ]
      },
      {
       "output_type": "stream",
       "stream": "stdout",
       "text": [
        "Thread #1: \t2500000 read pairs finished. 250 secs passed\r\n"
       ]
      },
      {
       "output_type": "stream",
       "stream": "stdout",
       "text": [
        "Thread #2: \t2550000 read pairs finished. 252 secs passed\r\n"
       ]
      },
      {
       "output_type": "stream",
       "stream": "stdout",
       "text": [
        "Thread #3: \t2600000 read pairs finished. 253 secs passed\r\n"
       ]
      },
      {
       "output_type": "stream",
       "stream": "stdout",
       "text": [
        "Thread #0: \t2650000 read pairs finished. 262 secs passed\r\n"
       ]
      },
      {
       "output_type": "stream",
       "stream": "stdout",
       "text": [
        "Thread #1: \t2700000 read pairs finished. 267 secs passed\r\n"
       ]
      },
      {
       "output_type": "stream",
       "stream": "stdout",
       "text": [
        "Thread #2: \t2750000 read pairs finished. 268 secs passed\r\n"
       ]
      },
      {
       "output_type": "stream",
       "stream": "stdout",
       "text": [
        "Thread #3: \t2800000 read pairs finished. 269 secs passed\r\n"
       ]
      },
      {
       "output_type": "stream",
       "stream": "stdout",
       "text": [
        "Thread #0: \t2850000 read pairs finished. 279 secs passed\r\n"
       ]
      },
      {
       "output_type": "stream",
       "stream": "stdout",
       "text": [
        "Thread #1: \t2900000 read pairs finished. 284 secs passed\r\n"
       ]
      },
      {
       "output_type": "stream",
       "stream": "stdout",
       "text": [
        "Thread #2: \t2950000 read pairs finished. 285 secs passed\r\n"
       ]
      },
      {
       "output_type": "stream",
       "stream": "stdout",
       "text": [
        "Thread #3: \t3000000 read pairs finished. 287 secs passed\r\n"
       ]
      },
      {
       "output_type": "stream",
       "stream": "stdout",
       "text": [
        "Thread #0: \t3050000 read pairs finished. 296 secs passed\r\n"
       ]
      },
      {
       "output_type": "stream",
       "stream": "stdout",
       "text": [
        "Thread #1: \t3100000 read pairs finished. 301 secs passed\r\n"
       ]
      },
      {
       "output_type": "stream",
       "stream": "stdout",
       "text": [
        "Thread #2: \t3150000 read pairs finished. 303 secs passed\r\n"
       ]
      },
      {
       "output_type": "stream",
       "stream": "stdout",
       "text": [
        "Thread #3: \t3200000 read pairs finished. 304 secs passed\r\n"
       ]
      },
      {
       "output_type": "stream",
       "stream": "stdout",
       "text": [
        "Thread #0: \t3250000 read pairs finished. 313 secs passed\r\n"
       ]
      },
      {
       "output_type": "stream",
       "stream": "stdout",
       "text": [
        "Thread #1: \t3300000 read pairs finished. 318 secs passed\r\n"
       ]
      },
      {
       "output_type": "stream",
       "stream": "stdout",
       "text": [
        "Thread #2: \t3350000 read pairs finished. 320 secs passed\r\n"
       ]
      },
      {
       "output_type": "stream",
       "stream": "stdout",
       "text": [
        "Thread #3: \t3400000 read pairs finished. 321 secs passed\r\n"
       ]
      },
      {
       "output_type": "stream",
       "stream": "stdout",
       "text": [
        "Thread #0: \t3450000 read pairs finished. 330 secs passed\r\n"
       ]
      },
      {
       "output_type": "stream",
       "stream": "stdout",
       "text": [
        "Thread #1: \t3500000 read pairs finished. 335 secs passed\r\n"
       ]
      },
      {
       "output_type": "stream",
       "stream": "stdout",
       "text": [
        "Thread #2: \t3550000 read pairs finished. 337 secs passed\r\n"
       ]
      },
      {
       "output_type": "stream",
       "stream": "stdout",
       "text": [
        "Thread #3: \t3600000 read pairs finished. 338 secs passed\r\n"
       ]
      },
      {
       "output_type": "stream",
       "stream": "stdout",
       "text": [
        "Thread #0: \t3650000 read pairs finished. 348 secs passed\r\n"
       ]
      },
      {
       "output_type": "stream",
       "stream": "stdout",
       "text": [
        "Thread #1: \t3700000 read pairs finished. 352 secs passed\r\n"
       ]
      },
      {
       "output_type": "stream",
       "stream": "stdout",
       "text": [
        "Thread #2: \t3750000 read pairs finished. 355 secs passed\r\n"
       ]
      },
      {
       "output_type": "stream",
       "stream": "stdout",
       "text": [
        "Thread #3: \t3800000 read pairs finished. 355 secs passed\r\n"
       ]
      },
      {
       "output_type": "stream",
       "stream": "stdout",
       "text": [
        "Thread #0: \t3850000 read pairs finished. 364 secs passed\r\n"
       ]
      },
      {
       "output_type": "stream",
       "stream": "stdout",
       "text": [
        "Thread #1: \t3900000 read pairs finished. 369 secs passed\r\n"
       ]
      },
      {
       "output_type": "stream",
       "stream": "stdout",
       "text": [
        "Thread #2: \t3950000 read pairs finished. 371 secs passed\r\n"
       ]
      },
      {
       "output_type": "stream",
       "stream": "stdout",
       "text": [
        "Thread #3: \t4000000 read pairs finished. 374 secs passed\r\n"
       ]
      },
      {
       "output_type": "stream",
       "stream": "stdout",
       "text": [
        "Thread #0: \t4050000 read pairs finished. 382 secs passed\r\n"
       ]
      },
      {
       "output_type": "stream",
       "stream": "stdout",
       "text": [
        "Thread #1: \t4100000 read pairs finished. 386 secs passed\r\n"
       ]
      },
      {
       "output_type": "stream",
       "stream": "stdout",
       "text": [
        "Thread #2: \t4150000 read pairs finished. 388 secs passed\r\n"
       ]
      },
      {
       "output_type": "stream",
       "stream": "stdout",
       "text": [
        "Thread #3: \t4200000 read pairs finished. 391 secs passed\r\n"
       ]
      },
      {
       "output_type": "stream",
       "stream": "stdout",
       "text": [
        "Thread #0: \t4250000 read pairs finished. 399 secs passed\r\n"
       ]
      },
      {
       "output_type": "stream",
       "stream": "stdout",
       "text": [
        "Thread #1: \t4300000 read pairs finished. 403 secs passed\r\n"
       ]
      },
      {
       "output_type": "stream",
       "stream": "stdout",
       "text": [
        "Thread #2: \t4350000 read pairs finished. 405 secs passed\r\n"
       ]
      },
      {
       "output_type": "stream",
       "stream": "stdout",
       "text": [
        "Thread #3: \t4400000 read pairs finished. 408 secs passed\r\n"
       ]
      },
      {
       "output_type": "stream",
       "stream": "stdout",
       "text": [
        "Thread #0: \t4450000 read pairs finished. 416 secs passed\r\n"
       ]
      },
      {
       "output_type": "stream",
       "stream": "stdout",
       "text": [
        "Thread #1: \t4500000 read pairs finished. 419 secs passed\r\n"
       ]
      },
      {
       "output_type": "stream",
       "stream": "stdout",
       "text": [
        "Thread #2: \t4550000 read pairs finished. 422 secs passed\r\n"
       ]
      },
      {
       "output_type": "stream",
       "stream": "stdout",
       "text": [
        "Thread #3: \t4600000 read pairs finished. 424 secs passed\r\n"
       ]
      },
      {
       "output_type": "stream",
       "stream": "stdout",
       "text": [
        "Thread #0: \t4650000 read pairs finished. 433 secs passed\r\n"
       ]
      },
      {
       "output_type": "stream",
       "stream": "stdout",
       "text": [
        "Thread #1: \t4700000 read pairs finished. 436 secs passed\r\n"
       ]
      },
      {
       "output_type": "stream",
       "stream": "stdout",
       "text": [
        "Thread #2: \t4750000 read pairs finished. 439 secs passed\r\n"
       ]
      },
      {
       "output_type": "stream",
       "stream": "stdout",
       "text": [
        "Thread #3: \t4800000 read pairs finished. 441 secs passed\r\n"
       ]
      },
      {
       "output_type": "stream",
       "stream": "stdout",
       "text": [
        "Thread #0: \t4850000 read pairs finished. 450 secs passed\r\n"
       ]
      },
      {
       "output_type": "stream",
       "stream": "stdout",
       "text": [
        "Thread #1: \t4900000 read pairs finished. 454 secs passed\r\n"
       ]
      },
      {
       "output_type": "stream",
       "stream": "stdout",
       "text": [
        "Thread #2: \t4950000 read pairs finished. 456 secs passed\r\n"
       ]
      },
      {
       "output_type": "stream",
       "stream": "stdout",
       "text": [
        "Thread #3: \t5000000 read pairs finished. 458 secs passed\r\n"
       ]
      },
      {
       "output_type": "stream",
       "stream": "stdout",
       "text": [
        "Thread #0: \t5050000 read pairs finished. 467 secs passed\r\n"
       ]
      },
      {
       "output_type": "stream",
       "stream": "stdout",
       "text": [
        "Thread #1: \t5100000 read pairs finished. 471 secs passed\r\n"
       ]
      },
      {
       "output_type": "stream",
       "stream": "stdout",
       "text": [
        "Thread #2: \t5150000 read pairs finished. 474 secs passed\r\n"
       ]
      },
      {
       "output_type": "stream",
       "stream": "stdout",
       "text": [
        "Thread #3: \t5200000 read pairs finished. 475 secs passed\r\n"
       ]
      },
      {
       "output_type": "stream",
       "stream": "stdout",
       "text": [
        "Thread #0: \t5250000 read pairs finished. 483 secs passed\r\n"
       ]
      },
      {
       "output_type": "stream",
       "stream": "stdout",
       "text": [
        "Thread #1: \t5300000 read pairs finished. 488 secs passed\r\n"
       ]
      },
      {
       "output_type": "stream",
       "stream": "stdout",
       "text": [
        "Thread #2: \t5350000 read pairs finished. 491 secs passed\r\n"
       ]
      },
      {
       "output_type": "stream",
       "stream": "stdout",
       "text": [
        "Thread #3: \t5400000 read pairs finished. 492 secs passed\r\n"
       ]
      },
      {
       "output_type": "stream",
       "stream": "stdout",
       "text": [
        "Thread #0: \t5450000 read pairs finished. 500 secs passed\r\n"
       ]
      },
      {
       "output_type": "stream",
       "stream": "stdout",
       "text": [
        "Thread #1: \t5500000 read pairs finished. 505 secs passed\r\n"
       ]
      },
      {
       "output_type": "stream",
       "stream": "stdout",
       "text": [
        "Thread #2: \t5550000 read pairs finished. 509 secs passed\r\n"
       ]
      },
      {
       "output_type": "stream",
       "stream": "stdout",
       "text": [
        "Thread #3: \t5600000 read pairs finished. 510 secs passed\r\n"
       ]
      },
      {
       "output_type": "stream",
       "stream": "stdout",
       "text": [
        "Thread #0: \t5650000 read pairs finished. 517 secs passed\r\n"
       ]
      },
      {
       "output_type": "stream",
       "stream": "stdout",
       "text": [
        "Thread #1: \t5700000 read pairs finished. 522 secs passed\r\n"
       ]
      },
      {
       "output_type": "stream",
       "stream": "stdout",
       "text": [
        "Thread #2: \t5750000 read pairs finished. 527 secs passed\r\n"
       ]
      },
      {
       "output_type": "stream",
       "stream": "stdout",
       "text": [
        "Thread #3: \t5800000 read pairs finished. 527 secs passed\r\n"
       ]
      },
      {
       "output_type": "stream",
       "stream": "stdout",
       "text": [
        "Thread #0: \t5850000 read pairs finished. 534 secs passed\r\n"
       ]
      },
      {
       "output_type": "stream",
       "stream": "stdout",
       "text": [
        "Thread #1: \t5900000 read pairs finished. 539 secs passed\r\n"
       ]
      },
      {
       "output_type": "stream",
       "stream": "stdout",
       "text": [
        "Thread #3: \t6000000 read pairs finished. 545 secs passed\r\n"
       ]
      },
      {
       "output_type": "stream",
       "stream": "stdout",
       "text": [
        "Thread #2: \t5950000 read pairs finished. 545 secs passed\r\n"
       ]
      },
      {
       "output_type": "stream",
       "stream": "stdout",
       "text": [
        "Thread #0: \t6050000 read pairs finished. 550 secs passed\r\n"
       ]
      },
      {
       "output_type": "stream",
       "stream": "stdout",
       "text": [
        "Thread #2: \t6179274 read pairs finished. 554 secs passed\r\n"
       ]
      },
      {
       "output_type": "stream",
       "stream": "stdout",
       "text": [
        "Thread #1: \t6100000 read pairs finished. 554 secs passed\r\n"
       ]
      },
      {
       "output_type": "stream",
       "stream": "stdout",
       "text": [
        "Thread #3: \t6150000 read pairs finished. 558 secs passed\r\n"
       ]
      },
      {
       "output_type": "stream",
       "stream": "stdout",
       "text": [
        "Total number of aligned reads: \r\n",
        "pairs:       2725017 (44%)\r\n",
        "single a:    1704213 (28%)\r\n",
        "single b:    1415455 (23%)\r\n",
        "Done.\r\n",
        "Finished at Tue Dec  2 14:30:46 2014\r\n",
        "Total time consumed:  558 secs\r\n"
       ]
      },
      {
       "output_type": "stream",
       "stream": "stdout",
       "text": [
        "\r\n",
        "BSMAP v2.74\r\n",
        "Start at:  Tue Dec  2 14:30:47 2014\r\n",
        "\r\n",
        "Input reference file: Crassostrea_gigas.GCA_000297895.1.22.dna_sm.genome.fa \t(format: FASTA)\r\n"
       ]
      },
      {
       "output_type": "stream",
       "stream": "stdout",
       "text": [
        "Load in 7658 db seqs, total size 557717710 bp. 9 secs passed\r\n",
        "total_kmers: 43046721\r\n"
       ]
      },
      {
       "output_type": "stream",
       "stream": "stdout",
       "text": [
        "Create seed table. 26 secs passed\r\n",
        "max number of mismatches: read_length * 8% \tmax gap size: 0\r\n",
        "kmer cut-off ratio: 5e-07\r\n",
        "max multi-hits: 100\tmax Ns: 5\tseed size: 16\tindex interval: 4\r\n",
        "quality cutoff: 0\tbase quality char: '!'\r\n",
        "min fragment size:28\tmax fragemt size:500\r\n",
        "start from read #1\tend at read #4294967295\r\n",
        "additional alignment: T in reads => C in reference\r\n",
        "mapping strand (read_1): ++,-+\r\n",
        "mapping strand (read_2): +-,--\r\n",
        "Pair-end alignment(4 threads)\r\n",
        "Input read file #1: mcf_M3_R1.fastq \t(format: FASTQ)\r\n",
        "Input read file #2: mcf_M3_R2.fastq"
       ]
      },
      {
       "output_type": "stream",
       "stream": "stdout",
       "text": [
        " \t(format: FASTQ)\r\n",
        "Output file: bsmap_out_M3.sam\t (format: SAM)\r\n"
       ]
      },
      {
       "output_type": "stream",
       "stream": "stdout",
       "text": [
        "Thread #1: \t50000 read pairs finished. 41 secs passed\r\n"
       ]
      },
      {
       "output_type": "stream",
       "stream": "stdout",
       "text": [
        "Thread #2: \t100000 read pairs finished. 41 secs passed\r\n"
       ]
      },
      {
       "output_type": "stream",
       "stream": "stdout",
       "text": [
        "Thread #0: \t200000 read pairs finished. 42 secs passed\r\n"
       ]
      },
      {
       "output_type": "stream",
       "stream": "stdout",
       "text": [
        "Thread #3: \t150000 read pairs finished. 42 secs passed\r\n"
       ]
      },
      {
       "output_type": "stream",
       "stream": "stdout",
       "text": [
        "Thread #1: \t250000 read pairs finished. 55 secs passed\r\n"
       ]
      },
      {
       "output_type": "stream",
       "stream": "stdout",
       "text": [
        "Thread #2: \t300000 read pairs finished. 57 secs passed\r\n"
       ]
      },
      {
       "output_type": "stream",
       "stream": "stdout",
       "text": [
        "Thread #0: \t350000 read pairs finished. 57 secs passed\r\n"
       ]
      },
      {
       "output_type": "stream",
       "stream": "stdout",
       "text": [
        "Thread #3: \t400000 read pairs finished. 58 secs passed\r\n"
       ]
      },
      {
       "output_type": "stream",
       "stream": "stdout",
       "text": [
        "Thread #1: \t450000 read pairs finished. 71 secs passed\r\n"
       ]
      },
      {
       "output_type": "stream",
       "stream": "stdout",
       "text": [
        "Thread #2: \t500000 read pairs finished. 72 secs passed\r\n"
       ]
      },
      {
       "output_type": "stream",
       "stream": "stdout",
       "text": [
        "Thread #0: \t550000 read pairs finished. 72 secs passed\r\n"
       ]
      },
      {
       "output_type": "stream",
       "stream": "stdout",
       "text": [
        "Thread #3: \t600000 read pairs finished. 73 secs passed\r\n"
       ]
      },
      {
       "output_type": "stream",
       "stream": "stdout",
       "text": [
        "Thread #1: \t650000 read pairs finished. 85 secs passed\r\n"
       ]
      },
      {
       "output_type": "stream",
       "stream": "stdout",
       "text": [
        "Thread #2: \t700000 read pairs finished. 87 secs passed\r\n"
       ]
      },
      {
       "output_type": "stream",
       "stream": "stdout",
       "text": [
        "Thread #0: \t750000 read pairs finished. 88 secs passed\r\n"
       ]
      },
      {
       "output_type": "stream",
       "stream": "stdout",
       "text": [
        "Thread #3: \t800000 read pairs finished. 89 secs passed\r\n"
       ]
      },
      {
       "output_type": "stream",
       "stream": "stdout",
       "text": [
        "Thread #1: \t850000 read pairs finished. 101 secs passed\r\n"
       ]
      },
      {
       "output_type": "stream",
       "stream": "stdout",
       "text": [
        "Thread #2: \t900000 read pairs finished. 103 secs passed\r\n"
       ]
      },
      {
       "output_type": "stream",
       "stream": "stdout",
       "text": [
        "Thread #0: \t950000 read pairs finished. 103 secs passed\r\n"
       ]
      },
      {
       "output_type": "stream",
       "stream": "stdout",
       "text": [
        "Thread #3: \t1000000 read pairs finished. 104 secs passed\r\n"
       ]
      },
      {
       "output_type": "stream",
       "stream": "stdout",
       "text": [
        "Thread #1: \t1050000 read pairs finished. 116 secs passed\r\n"
       ]
      },
      {
       "output_type": "stream",
       "stream": "stdout",
       "text": [
        "Thread #2: \t1100000 read pairs finished. 118 secs passed\r\n"
       ]
      },
      {
       "output_type": "stream",
       "stream": "stdout",
       "text": [
        "Thread #0: \t1150000 read pairs finished. 118 secs passed\r\n"
       ]
      },
      {
       "output_type": "stream",
       "stream": "stdout",
       "text": [
        "Thread #3: \t1200000 read pairs finished. 119 secs passed\r\n"
       ]
      },
      {
       "output_type": "stream",
       "stream": "stdout",
       "text": [
        "Thread #1: \t1250000 read pairs finished. 131 secs passed\r\n"
       ]
      },
      {
       "output_type": "stream",
       "stream": "stdout",
       "text": [
        "Thread #2: \t1300000 read pairs finished. 133 secs passed\r\n"
       ]
      },
      {
       "output_type": "stream",
       "stream": "stdout",
       "text": [
        "Thread #0: \t1350000 read pairs finished. 133 secs passed\r\n"
       ]
      },
      {
       "output_type": "stream",
       "stream": "stdout",
       "text": [
        "Thread #3: \t1400000 read pairs finished. 134 secs passed\r\n"
       ]
      },
      {
       "output_type": "stream",
       "stream": "stdout",
       "text": [
        "Thread #1: \t1450000 read pairs finished. 146 secs passed\r\n"
       ]
      },
      {
       "output_type": "stream",
       "stream": "stdout",
       "text": [
        "Thread #2: \t1500000 read pairs finished. 148 secs passed\r\n"
       ]
      },
      {
       "output_type": "stream",
       "stream": "stdout",
       "text": [
        "Thread #0: \t1550000 read pairs finished. 149 secs passed\r\n"
       ]
      },
      {
       "output_type": "stream",
       "stream": "stdout",
       "text": [
        "Thread #3: \t1600000 read pairs finished. 150 secs passed\r\n"
       ]
      },
      {
       "output_type": "stream",
       "stream": "stdout",
       "text": [
        "Thread #1: \t1650000 read pairs finished. 160 secs passed\r\n"
       ]
      },
      {
       "output_type": "stream",
       "stream": "stdout",
       "text": [
        "Thread #2: \t1700000 read pairs finished. 164 secs passed\r\n"
       ]
      },
      {
       "output_type": "stream",
       "stream": "stdout",
       "text": [
        "Thread #0: \t1750000 read pairs finished. 164 secs passed\r\n"
       ]
      },
      {
       "output_type": "stream",
       "stream": "stdout",
       "text": [
        "Thread #3: \t1800000 read pairs finished. 165 secs passed\r\n"
       ]
      },
      {
       "output_type": "stream",
       "stream": "stdout",
       "text": [
        "Thread #1: \t1850000 read pairs finished. 176 secs passed\r\n"
       ]
      },
      {
       "output_type": "stream",
       "stream": "stdout",
       "text": [
        "Thread #2: \t1900000 read pairs finished. 179 secs passed\r\n"
       ]
      },
      {
       "output_type": "stream",
       "stream": "stdout",
       "text": [
        "Thread #0: \t1950000 read pairs finished. 179 secs passed\r\n"
       ]
      },
      {
       "output_type": "stream",
       "stream": "stdout",
       "text": [
        "Thread #3: \t2000000 read pairs finished. 181 secs passed\r\n"
       ]
      },
      {
       "output_type": "stream",
       "stream": "stdout",
       "text": [
        "Thread #1: \t2050000 read pairs finished. 191 secs passed\r\n"
       ]
      },
      {
       "output_type": "stream",
       "stream": "stdout",
       "text": [
        "Thread #2: \t2100000 read pairs finished. 194 secs passed\r\n"
       ]
      },
      {
       "output_type": "stream",
       "stream": "stdout",
       "text": [
        "Thread #0: \t2150000 read pairs finished. 195 secs passed\r\n"
       ]
      },
      {
       "output_type": "stream",
       "stream": "stdout",
       "text": [
        "Thread #3: \t2200000 read pairs finished. 196 secs passed\r\n"
       ]
      },
      {
       "output_type": "stream",
       "stream": "stdout",
       "text": [
        "Thread #1: \t2250000 read pairs finished. 205 secs passed\r\n"
       ]
      },
      {
       "output_type": "stream",
       "stream": "stdout",
       "text": [
        "Thread #2: \t2300000 read pairs finished. 209 secs passed\r\n"
       ]
      },
      {
       "output_type": "stream",
       "stream": "stdout",
       "text": [
        "Thread #0: \t2350000 read pairs finished. 210 secs passed\r\n"
       ]
      },
      {
       "output_type": "stream",
       "stream": "stdout",
       "text": [
        "Thread #3: \t2400000 read pairs finished. 211 secs passed\r\n"
       ]
      },
      {
       "output_type": "stream",
       "stream": "stdout",
       "text": [
        "Thread #1: \t2450000 read pairs finished. 220 secs passed\r\n"
       ]
      },
      {
       "output_type": "stream",
       "stream": "stdout",
       "text": [
        "Thread #2: \t2500000 read pairs finished. 225 secs passed\r\n"
       ]
      },
      {
       "output_type": "stream",
       "stream": "stdout",
       "text": [
        "Thread #0: \t2550000 read pairs finished. 226 secs passed\r\n"
       ]
      },
      {
       "output_type": "stream",
       "stream": "stdout",
       "text": [
        "Thread #3: \t2600000 read pairs finished. 227 secs passed\r\n"
       ]
      },
      {
       "output_type": "stream",
       "stream": "stdout",
       "text": [
        "Thread #1: \t2650000 read pairs finished. 236 secs passed\r\n"
       ]
      },
      {
       "output_type": "stream",
       "stream": "stdout",
       "text": [
        "Thread #2: \t2700000 read pairs finished. 240 secs passed\r\n"
       ]
      },
      {
       "output_type": "stream",
       "stream": "stdout",
       "text": [
        "Thread #0: \t2750000 read pairs finished. 241 secs passed\r\n"
       ]
      },
      {
       "output_type": "stream",
       "stream": "stdout",
       "text": [
        "Thread #3: \t2800000 read pairs finished. 242 secs passed\r\n"
       ]
      },
      {
       "output_type": "stream",
       "stream": "stdout",
       "text": [
        "Thread #1: \t2850000 read pairs finished. 251 secs passed\r\n"
       ]
      },
      {
       "output_type": "stream",
       "stream": "stdout",
       "text": [
        "Thread #2: \t2900000 read pairs finished. 255 secs passed\r\n"
       ]
      },
      {
       "output_type": "stream",
       "stream": "stdout",
       "text": [
        "Thread #0: \t2950000 read pairs finished. 256 secs passed\r\n"
       ]
      },
      {
       "output_type": "stream",
       "stream": "stdout",
       "text": [
        "Thread #3: \t3000000 read pairs finished. 257 secs passed\r\n"
       ]
      },
      {
       "output_type": "stream",
       "stream": "stdout",
       "text": [
        "Thread #1: \t3050000 read pairs finished. 265 secs passed\r\n"
       ]
      },
      {
       "output_type": "stream",
       "stream": "stdout",
       "text": [
        "Thread #2: \t3100000 read pairs finished. 271 secs passed\r\n"
       ]
      },
      {
       "output_type": "stream",
       "stream": "stdout",
       "text": [
        "Thread #0: \t3150000 read pairs finished. 271 secs passed\r\n"
       ]
      },
      {
       "output_type": "stream",
       "stream": "stdout",
       "text": [
        "Thread #3: \t3200000 read pairs finished. 272 secs passed\r\n"
       ]
      },
      {
       "output_type": "stream",
       "stream": "stdout",
       "text": [
        "Thread #1: \t3250000 read pairs finished. 280 secs passed\r\n"
       ]
      },
      {
       "output_type": "stream",
       "stream": "stdout",
       "text": [
        "Thread #2: \t3300000 read pairs finished. 285 secs passed\r\n"
       ]
      },
      {
       "output_type": "stream",
       "stream": "stdout",
       "text": [
        "Thread #0: \t3350000 read pairs finished. 286 secs passed\r\n"
       ]
      },
      {
       "output_type": "stream",
       "stream": "stdout",
       "text": [
        "Thread #3: \t3400000 read pairs finished. 289 secs passed\r\n"
       ]
      },
      {
       "output_type": "stream",
       "stream": "stdout",
       "text": [
        "Thread #1: \t3450000 read pairs finished. 297 secs passed\r\n"
       ]
      },
      {
       "output_type": "stream",
       "stream": "stdout",
       "text": [
        "Thread #2: \t3500000 read pairs finished. 301 secs passed\r\n"
       ]
      },
      {
       "output_type": "stream",
       "stream": "stdout",
       "text": [
        "Thread #0: \t3550000 read pairs finished. 302 secs passed\r\n"
       ]
      },
      {
       "output_type": "stream",
       "stream": "stdout",
       "text": [
        "Thread #3: \t3600000 read pairs finished. 304 secs passed\r\n"
       ]
      },
      {
       "output_type": "stream",
       "stream": "stdout",
       "text": [
        "Thread #1: \t3650000 read pairs finished. 312 secs passed\r\n"
       ]
      },
      {
       "output_type": "stream",
       "stream": "stdout",
       "text": [
        "Thread #2: \t3700000 read pairs finished. 317 secs passed\r\n"
       ]
      },
      {
       "output_type": "stream",
       "stream": "stdout",
       "text": [
        "Thread #0: \t3750000 read pairs finished. 317 secs passed\r\n"
       ]
      },
      {
       "output_type": "stream",
       "stream": "stdout",
       "text": [
        "Thread #3: \t3800000 read pairs finished. 319 secs passed\r\n"
       ]
      },
      {
       "output_type": "stream",
       "stream": "stdout",
       "text": [
        "Thread #1: \t3850000 read pairs finished. 327 secs passed\r\n"
       ]
      },
      {
       "output_type": "stream",
       "stream": "stdout",
       "text": [
        "Thread #2: \t3900000 read pairs finished. 332 secs passed\r\n"
       ]
      },
      {
       "output_type": "stream",
       "stream": "stdout",
       "text": [
        "Thread #0: \t3950000 read pairs finished. 332 secs passed\r\n"
       ]
      },
      {
       "output_type": "stream",
       "stream": "stdout",
       "text": [
        "Thread #3: \t4000000 read pairs finished. 334 secs passed\r\n"
       ]
      },
      {
       "output_type": "stream",
       "stream": "stdout",
       "text": [
        "Thread #1: \t4050000 read pairs finished. 342 secs passed\r\n"
       ]
      },
      {
       "output_type": "stream",
       "stream": "stdout",
       "text": [
        "Thread #2: \t4100000 read pairs finished. 346 secs passed\r\n"
       ]
      },
      {
       "output_type": "stream",
       "stream": "stdout",
       "text": [
        "Thread #0: \t4150000 read pairs finished. 347 secs passed\r\n"
       ]
      },
      {
       "output_type": "stream",
       "stream": "stdout",
       "text": [
        "Thread #3: \t4200000 read pairs finished. 349 secs passed\r\n"
       ]
      },
      {
       "output_type": "stream",
       "stream": "stdout",
       "text": [
        "Thread #1: \t4250000 read pairs finished. 358 secs passed\r\n"
       ]
      },
      {
       "output_type": "stream",
       "stream": "stdout",
       "text": [
        "Thread #2: \t4300000 read pairs finished. 361 secs passed\r\n"
       ]
      },
      {
       "output_type": "stream",
       "stream": "stdout",
       "text": [
        "Thread #0: \t4350000 read pairs finished. 363 secs passed\r\n"
       ]
      },
      {
       "output_type": "stream",
       "stream": "stdout",
       "text": [
        "Thread #3: \t4400000 read pairs finished. 365 secs passed\r\n"
       ]
      },
      {
       "output_type": "stream",
       "stream": "stdout",
       "text": [
        "Thread #1: \t4450000 read pairs finished. 373 secs passed\r\n"
       ]
      },
      {
       "output_type": "stream",
       "stream": "stdout",
       "text": [
        "Thread #2: \t4500000 read pairs finished. 376 secs passed\r\n"
       ]
      },
      {
       "output_type": "stream",
       "stream": "stdout",
       "text": [
        "Thread #0: \t4550000 read pairs finished. 378 secs passed\r\n"
       ]
      },
      {
       "output_type": "stream",
       "stream": "stdout",
       "text": [
        "Thread #3: \t4600000 read pairs finished. 380 secs passed\r\n"
       ]
      },
      {
       "output_type": "stream",
       "stream": "stdout",
       "text": [
        "Thread #1: \t4650000 read pairs finished. 388 secs passed\r\n"
       ]
      },
      {
       "output_type": "stream",
       "stream": "stdout",
       "text": [
        "Thread #2: \t4700000 read pairs finished. 391 secs passed\r\n"
       ]
      },
      {
       "output_type": "stream",
       "stream": "stdout",
       "text": [
        "Thread #0: \t4750000 read pairs finished. 393 secs passed\r\n"
       ]
      },
      {
       "output_type": "stream",
       "stream": "stdout",
       "text": [
        "Thread #3: \t4800000 read pairs finished. 395 secs passed\r\n"
       ]
      },
      {
       "output_type": "stream",
       "stream": "stdout",
       "text": [
        "Thread #1: \t4850000 read pairs finished. 403 secs passed\r\n"
       ]
      },
      {
       "output_type": "stream",
       "stream": "stdout",
       "text": [
        "Thread #2: \t4900000 read pairs finished. 406 secs passed\r\n"
       ]
      },
      {
       "output_type": "stream",
       "stream": "stdout",
       "text": [
        "Thread #0: \t4950000 read pairs finished. 408 secs passed\r\n"
       ]
      },
      {
       "output_type": "stream",
       "stream": "stdout",
       "text": [
        "Thread #3: \t5000000 read pairs finished. 410 secs passed\r\n"
       ]
      },
      {
       "output_type": "stream",
       "stream": "stdout",
       "text": [
        "Thread #1: \t5050000 read pairs finished. 417 secs passed\r\n"
       ]
      },
      {
       "output_type": "stream",
       "stream": "stdout",
       "text": [
        "Thread #2: \t5100000 read pairs finished. 421 secs passed\r\n"
       ]
      },
      {
       "output_type": "stream",
       "stream": "stdout",
       "text": [
        "Thread #0: \t5150000 read pairs finished. 423 secs passed\r\n"
       ]
      },
      {
       "output_type": "stream",
       "stream": "stdout",
       "text": [
        "Thread #3: \t5200000 read pairs finished. 426 secs passed\r\n"
       ]
      },
      {
       "output_type": "stream",
       "stream": "stdout",
       "text": [
        "Thread #1: \t5250000 read pairs finished. 433 secs passed\r\n"
       ]
      },
      {
       "output_type": "stream",
       "stream": "stdout",
       "text": [
        "Thread #2: \t5300000 read pairs finished. 436 secs passed\r\n"
       ]
      },
      {
       "output_type": "stream",
       "stream": "stdout",
       "text": [
        "Thread #0: \t5350000 read pairs finished. 438 secs passed\r\n"
       ]
      },
      {
       "output_type": "stream",
       "stream": "stdout",
       "text": [
        "Thread #3: \t5400000 read pairs finished. 442 secs passed\r\n"
       ]
      },
      {
       "output_type": "stream",
       "stream": "stdout",
       "text": [
        "Thread #1: \t5450000 read pairs finished. 448 secs passed\r\n"
       ]
      },
      {
       "output_type": "stream",
       "stream": "stdout",
       "text": [
        "Thread #2: \t5500000 read pairs finished. 451 secs passed\r\n"
       ]
      },
      {
       "output_type": "stream",
       "stream": "stdout",
       "text": [
        "Thread #0: \t5550000 read pairs finished. 453 secs passed\r\n"
       ]
      },
      {
       "output_type": "stream",
       "stream": "stdout",
       "text": [
        "Thread #3: \t5600000 read pairs finished. 457 secs passed\r\n"
       ]
      },
      {
       "output_type": "stream",
       "stream": "stdout",
       "text": [
        "Thread #1: \t5650000 read pairs finished. 463 secs passed\r\n"
       ]
      },
      {
       "output_type": "stream",
       "stream": "stdout",
       "text": [
        "Thread #2: \t5700000 read pairs finished. 466 secs passed\r\n"
       ]
      },
      {
       "output_type": "stream",
       "stream": "stdout",
       "text": [
        "Thread #0: \t5750000 read pairs finished. 468 secs passed\r\n"
       ]
      },
      {
       "output_type": "stream",
       "stream": "stdout",
       "text": [
        "Thread #3: \t5800000 read pairs finished. 472 secs passed\r\n"
       ]
      },
      {
       "output_type": "stream",
       "stream": "stdout",
       "text": [
        "Thread #1: \t5850000 read pairs finished. 478 secs passed\r\n"
       ]
      },
      {
       "output_type": "stream",
       "stream": "stdout",
       "text": [
        "Thread #2: \t5900000 read pairs finished. 481 secs passed\r\n"
       ]
      },
      {
       "output_type": "stream",
       "stream": "stdout",
       "text": [
        "Thread #0: \t5950000 read pairs finished. 483 secs passed\r\n"
       ]
      },
      {
       "output_type": "stream",
       "stream": "stdout",
       "text": [
        "Thread #3: \t6000000 read pairs finished. 487 secs passed\r\n"
       ]
      },
      {
       "output_type": "stream",
       "stream": "stdout",
       "text": [
        "Thread #1: \t6050000 read pairs finished. 492 secs passed\r\n"
       ]
      },
      {
       "output_type": "stream",
       "stream": "stdout",
       "text": [
        "Thread #2: \t6100000 read pairs finished. 498 secs passed\r\n"
       ]
      },
      {
       "output_type": "stream",
       "stream": "stdout",
       "text": [
        "Thread #0: \t6150000 read pairs finished. 500 secs passed\r\n"
       ]
      },
      {
       "output_type": "stream",
       "stream": "stdout",
       "text": [
        "Thread #3: \t6200000 read pairs finished. 502 secs passed\r\n"
       ]
      },
      {
       "output_type": "stream",
       "stream": "stdout",
       "text": [
        "Thread #1: \t6250000 read pairs finished. 508 secs passed\r\n"
       ]
      },
      {
       "output_type": "stream",
       "stream": "stdout",
       "text": [
        "Thread #2: \t6300000 read pairs finished. 513 secs passed\r\n"
       ]
      },
      {
       "output_type": "stream",
       "stream": "stdout",
       "text": [
        "Thread #0: \t6350000 read pairs finished. 515 secs passed\r\n"
       ]
      },
      {
       "output_type": "stream",
       "stream": "stdout",
       "text": [
        "Thread #3: \t6400000 read pairs finished. 518 secs passed\r\n"
       ]
      },
      {
       "output_type": "stream",
       "stream": "stdout",
       "text": [
        "Thread #1: \t6450000 read pairs finished. 523 secs passed\r\n"
       ]
      },
      {
       "output_type": "stream",
       "stream": "stdout",
       "text": [
        "Thread #2: \t6500000 read pairs finished. 528 secs passed\r\n"
       ]
      },
      {
       "output_type": "stream",
       "stream": "stdout",
       "text": [
        "Thread #0: \t6550000 read pairs finished. 530 secs passed\r\n"
       ]
      },
      {
       "output_type": "stream",
       "stream": "stdout",
       "text": [
        "Thread #3: \t6600000 read pairs finished. 533 secs passed\r\n"
       ]
      },
      {
       "output_type": "stream",
       "stream": "stdout",
       "text": [
        "Thread #1: \t6650000 read pairs finished. 538 secs passed\r\n"
       ]
      },
      {
       "output_type": "stream",
       "stream": "stdout",
       "text": [
        "Thread #2: \t6700000 read pairs finished. 543 secs passed\r\n"
       ]
      },
      {
       "output_type": "stream",
       "stream": "stdout",
       "text": [
        "Thread #0: \t6750000 read pairs finished. 545 secs passed\r\n"
       ]
      },
      {
       "output_type": "stream",
       "stream": "stdout",
       "text": [
        "Thread #3: \t6800000 read pairs finished. 548 secs passed\r\n"
       ]
      },
      {
       "output_type": "stream",
       "stream": "stdout",
       "text": [
        "Thread #1: \t6850000 read pairs finished. 553 secs passed\r\n"
       ]
      },
      {
       "output_type": "stream",
       "stream": "stdout",
       "text": [
        "Thread #2: \t6900000 read pairs finished. 558 secs passed\r\n"
       ]
      },
      {
       "output_type": "stream",
       "stream": "stdout",
       "text": [
        "Thread #0: \t6950000 read pairs finished. 561 secs passed\r\n"
       ]
      },
      {
       "output_type": "stream",
       "stream": "stdout",
       "text": [
        "Thread #3: \t7000000 read pairs finished. 564 secs passed\r\n"
       ]
      },
      {
       "output_type": "stream",
       "stream": "stdout",
       "text": [
        "Thread #1: \t7050000 read pairs finished. 568 secs passed\r\n"
       ]
      },
      {
       "output_type": "stream",
       "stream": "stdout",
       "text": [
        "Thread #2: \t7100000 read pairs finished. 573 secs passed\r\n"
       ]
      },
      {
       "output_type": "stream",
       "stream": "stdout",
       "text": [
        "Thread #0: \t7150000 read pairs finished. 576 secs passed\r\n"
       ]
      },
      {
       "output_type": "stream",
       "stream": "stdout",
       "text": [
        "Thread #3: \t7200000 read pairs finished. 579 secs passed\r\n"
       ]
      },
      {
       "output_type": "stream",
       "stream": "stdout",
       "text": [
        "Thread #1: \t7250000 read pairs finished. 583 secs passed\r\n"
       ]
      },
      {
       "output_type": "stream",
       "stream": "stdout",
       "text": [
        "Thread #2: \t7300000 read pairs finished. 589 secs passed\r\n"
       ]
      },
      {
       "output_type": "stream",
       "stream": "stdout",
       "text": [
        "Thread #0: \t7350000 read pairs finished. 591 secs passed\r\n"
       ]
      },
      {
       "output_type": "stream",
       "stream": "stdout",
       "text": [
        "Thread #3: \t7400000 read pairs finished. 594 secs passed\r\n"
       ]
      },
      {
       "output_type": "stream",
       "stream": "stdout",
       "text": [
        "Thread #1: \t7450000 read pairs finished. 598 secs passed\r\n"
       ]
      },
      {
       "output_type": "stream",
       "stream": "stdout",
       "text": [
        "Thread #2: \t7500000 read pairs finished. 604 secs passed\r\n"
       ]
      },
      {
       "output_type": "stream",
       "stream": "stdout",
       "text": [
        "Thread #0: \t7550000 read pairs finished. 606 secs passed\r\n"
       ]
      },
      {
       "output_type": "stream",
       "stream": "stdout",
       "text": [
        "Thread #3: \t7600000 read pairs finished. 609 secs passed\r\n"
       ]
      },
      {
       "output_type": "stream",
       "stream": "stdout",
       "text": [
        "Thread #1: \t7650000 read pairs finished. 613 secs passed\r\n"
       ]
      },
      {
       "output_type": "stream",
       "stream": "stdout",
       "text": [
        "Thread #2: \t7700000 read pairs finished. 618 secs passed\r\n"
       ]
      },
      {
       "output_type": "stream",
       "stream": "stdout",
       "text": [
        "Thread #0: \t7750000 read pairs finished. 621 secs passed\r\n"
       ]
      },
      {
       "output_type": "stream",
       "stream": "stdout",
       "text": [
        "Thread #2: \t7867124 read pairs finished. 623 secs passed\r\n"
       ]
      },
      {
       "output_type": "stream",
       "stream": "stdout",
       "text": [
        "Thread #3: \t7800000 read pairs finished. 624 secs passed\r\n"
       ]
      },
      {
       "output_type": "stream",
       "stream": "stdout",
       "text": [
        "Thread #1: \t7850000 read pairs finished. 626 secs passed\r\n"
       ]
      },
      {
       "output_type": "stream",
       "stream": "stdout",
       "text": [
        "Total number of aligned reads: \r\n",
        "pairs:       4545285 (58%)\r\n",
        "single a:    1331429 (17%)\r\n",
        "single b:    1233410 (16%)\r\n",
        "Done.\r\n",
        "Finished at Tue Dec  2 14:41:13 2014\r\n",
        "Total time consumed:  626 secs\r\n"
       ]
      },
      {
       "output_type": "stream",
       "stream": "stdout",
       "text": [
        "\r\n",
        "BSMAP v2.74\r\n",
        "Start at:  Tue Dec  2 14:41:14 2014\r\n",
        "\r\n",
        "Input reference file: Crassostrea_gigas.GCA_000297895.1.22.dna_sm.genome.fa \t(format: FASTA)\r\n"
       ]
      },
      {
       "output_type": "stream",
       "stream": "stdout",
       "text": [
        "Load in 7658 db seqs, total size 557717710 bp. 9 secs passed\r\n",
        "total_kmers: 43046721\r\n"
       ]
      },
      {
       "output_type": "stream",
       "stream": "stdout",
       "text": [
        "Create seed table. 25 secs passed\r\n",
        "max number of mismatches: read_length * 8% \tmax gap size: 0\r\n",
        "kmer cut-off ratio: 5e-07\r\n",
        "max multi-hits: 100\tmax Ns: 5\tseed size: 16\tindex interval: 4\r\n",
        "quality cutoff: 0\tbase quality char: '!'\r\n",
        "min fragment size:28\tmax fragemt size:500\r\n",
        "start from read #1\tend at read #4294967295\r\n",
        "additional alignment: T in reads => C in reference\r\n",
        "mapping strand (read_1): ++,-+\r\n",
        "mapping strand (read_2): +-,--\r\n",
        "Pair-end alignment(4 threads)\r\n",
        "Input read file #1: mcf_T3D3_R1.fastq \t(format: FASTQ)\r\n",
        "Input read file #2: mcf_T3D3_R2.fastq \t(format: FASTQ)\r\n",
        "Output file: bsmap_out_T3D3.sam\t (format: SAM)\r\n"
       ]
      },
      {
       "output_type": "stream",
       "stream": "stdout",
       "text": [
        "Thread #0: \t50000 read pairs finished. 41 secs passed\r\n"
       ]
      },
      {
       "output_type": "stream",
       "stream": "stdout",
       "text": [
        "Thread #3: \t100000 read pairs finished. 41 secs passed\r\n"
       ]
      },
      {
       "output_type": "stream",
       "stream": "stdout",
       "text": [
        "Thread #2: \t150000 read pairs finished. 42 secs passed\r\n"
       ]
      },
      {
       "output_type": "stream",
       "stream": "stdout",
       "text": [
        "Thread #1: \t200000 read pairs finished. 42 secs passed\r\n"
       ]
      },
      {
       "output_type": "stream",
       "stream": "stdout",
       "text": [
        "Thread #0: \t250000 read pairs finished. 57 secs passed\r\n"
       ]
      },
      {
       "output_type": "stream",
       "stream": "stdout",
       "text": [
        "Thread #3: \t300000 read pairs finished. 57 secs passed\r\n"
       ]
      },
      {
       "output_type": "stream",
       "stream": "stdout",
       "text": [
        "Thread #2: \t350000 read pairs finished. 58 secs passed\r\n"
       ]
      },
      {
       "output_type": "stream",
       "stream": "stdout",
       "text": [
        "Thread #1: \t400000 read pairs finished. 58 secs passed\r\n"
       ]
      },
      {
       "output_type": "stream",
       "stream": "stdout",
       "text": [
        "Thread #0: \t450000 read pairs finished. 72 secs passed\r\n"
       ]
      },
      {
       "output_type": "stream",
       "stream": "stdout",
       "text": [
        "Thread #3: \t500000 read pairs finished. 73 secs passed\r\n"
       ]
      },
      {
       "output_type": "stream",
       "stream": "stdout",
       "text": [
        "Thread #2: \t550000 read pairs finished. 73 secs passed\r\n"
       ]
      },
      {
       "output_type": "stream",
       "stream": "stdout",
       "text": [
        "Thread #1: \t600000 read pairs finished. 74 secs passed\r\n"
       ]
      },
      {
       "output_type": "stream",
       "stream": "stdout",
       "text": [
        "Thread #0: \t650000 read pairs finished. 87 secs passed\r\n"
       ]
      },
      {
       "output_type": "stream",
       "stream": "stdout",
       "text": [
        "Thread #3: \t700000 read pairs finished. 88 secs passed\r\n"
       ]
      },
      {
       "output_type": "stream",
       "stream": "stdout",
       "text": [
        "Thread #2: \t750000 read pairs finished. 89 secs passed\r\n"
       ]
      },
      {
       "output_type": "stream",
       "stream": "stdout",
       "text": [
        "Thread #1: \t800000 read pairs finished. 90 secs passed\r\n"
       ]
      },
      {
       "output_type": "stream",
       "stream": "stdout",
       "text": [
        "Thread #0: \t850000 read pairs finished. 103 secs passed\r\n"
       ]
      },
      {
       "output_type": "stream",
       "stream": "stdout",
       "text": [
        "Thread #3: \t900000 read pairs finished. 103 secs passed\r\n"
       ]
      },
      {
       "output_type": "stream",
       "stream": "stdout",
       "text": [
        "Thread #2: \t950000 read pairs finished. 104 secs passed\r\n"
       ]
      },
      {
       "output_type": "stream",
       "stream": "stdout",
       "text": [
        "Thread #1: \t1000000 read pairs finished. 105 secs passed\r\n"
       ]
      },
      {
       "output_type": "stream",
       "stream": "stdout",
       "text": [
        "Thread #0: \t1050000 read pairs finished. 119 secs passed\r\n"
       ]
      },
      {
       "output_type": "stream",
       "stream": "stdout",
       "text": [
        "Thread #3: \t1100000 read pairs finished. 119 secs passed\r\n"
       ]
      },
      {
       "output_type": "stream",
       "stream": "stdout",
       "text": [
        "Thread #2: \t1150000 read pairs finished. 120 secs passed\r\n"
       ]
      },
      {
       "output_type": "stream",
       "stream": "stdout",
       "text": [
        "Thread #1: \t1200000 read pairs finished. 121 secs passed\r\n"
       ]
      },
      {
       "output_type": "stream",
       "stream": "stdout",
       "text": [
        "Thread #0: \t1250000 read pairs finished. 134 secs passed\r\n"
       ]
      },
      {
       "output_type": "stream",
       "stream": "stdout",
       "text": [
        "Thread #3: \t1300000 read pairs finished. 135 secs passed\r\n"
       ]
      },
      {
       "output_type": "stream",
       "stream": "stdout",
       "text": [
        "Thread #2: \t1350000 read pairs finished. 135 secs passed\r\n"
       ]
      },
      {
       "output_type": "stream",
       "stream": "stdout",
       "text": [
        "Thread #1: \t1400000 read pairs finished. 136 secs passed\r\n"
       ]
      },
      {
       "output_type": "stream",
       "stream": "stdout",
       "text": [
        "Thread #0: \t1450000 read pairs finished. 149 secs passed\r\n"
       ]
      },
      {
       "output_type": "stream",
       "stream": "stdout",
       "text": [
        "Thread #3: \t1500000 read pairs finished. 151 secs passed\r\n"
       ]
      },
      {
       "output_type": "stream",
       "stream": "stdout",
       "text": [
        "Thread #2: \t1550000 read pairs finished. 152 secs passed\r\n"
       ]
      },
      {
       "output_type": "stream",
       "stream": "stdout",
       "text": [
        "Thread #1: \t1600000 read pairs finished. 152 secs passed\r\n"
       ]
      },
      {
       "output_type": "stream",
       "stream": "stdout",
       "text": [
        "Thread #0: \t1650000 read pairs finished. 165 secs passed\r\n"
       ]
      },
      {
       "output_type": "stream",
       "stream": "stdout",
       "text": [
        "Thread #3: \t1700000 read pairs finished. 167 secs passed\r\n"
       ]
      },
      {
       "output_type": "stream",
       "stream": "stdout",
       "text": [
        "Thread #2: \t1750000 read pairs finished. 167 secs passed\r\n"
       ]
      },
      {
       "output_type": "stream",
       "stream": "stdout",
       "text": [
        "Thread #1: \t1800000 read pairs finished. 168 secs passed\r\n"
       ]
      },
      {
       "output_type": "stream",
       "stream": "stdout",
       "text": [
        "Thread #0: \t1850000 read pairs finished. 181 secs passed\r\n"
       ]
      },
      {
       "output_type": "stream",
       "stream": "stdout",
       "text": [
        "Thread #3: \t1900000 read pairs finished. 182 secs passed\r\n"
       ]
      },
      {
       "output_type": "stream",
       "stream": "stdout",
       "text": [
        "Thread #2: \t1950000 read pairs finished. 183 secs passed\r\n"
       ]
      },
      {
       "output_type": "stream",
       "stream": "stdout",
       "text": [
        "Thread #1: \t2000000 read pairs finished. 184 secs passed\r\n"
       ]
      },
      {
       "output_type": "stream",
       "stream": "stdout",
       "text": [
        "Thread #0: \t2050000 read pairs finished. 196 secs passed\r\n"
       ]
      },
      {
       "output_type": "stream",
       "stream": "stdout",
       "text": [
        "Thread #3: \t2100000 read pairs finished. 198 secs passed\r\n"
       ]
      },
      {
       "output_type": "stream",
       "stream": "stdout",
       "text": [
        "Thread #2: \t2150000 read pairs finished. 198 secs passed\r\n"
       ]
      },
      {
       "output_type": "stream",
       "stream": "stdout",
       "text": [
        "Thread #1: \t2200000 read pairs finished. 199 secs passed\r\n"
       ]
      },
      {
       "output_type": "stream",
       "stream": "stdout",
       "text": [
        "Thread #0: \t2250000 read pairs finished. 212 secs passed\r\n"
       ]
      },
      {
       "output_type": "stream",
       "stream": "stdout",
       "text": [
        "Thread #3: \t2300000 read pairs finished. 213 secs passed\r\n"
       ]
      },
      {
       "output_type": "stream",
       "stream": "stdout",
       "text": [
        "Thread #2: \t2350000 read pairs finished. 214 secs passed\r\n"
       ]
      },
      {
       "output_type": "stream",
       "stream": "stdout",
       "text": [
        "Thread #1: \t2400000 read pairs finished. 215 secs passed\r\n"
       ]
      },
      {
       "output_type": "stream",
       "stream": "stdout",
       "text": [
        "Thread #0: \t2450000 read pairs finished. 229 secs passed\r\n"
       ]
      },
      {
       "output_type": "stream",
       "stream": "stdout",
       "text": [
        "Thread #3: \t2500000 read pairs finished. 230 secs passed\r\n"
       ]
      },
      {
       "output_type": "stream",
       "stream": "stdout",
       "text": [
        "Thread #2: \t2550000 read pairs finished. 230 secs passed\r\n"
       ]
      },
      {
       "output_type": "stream",
       "stream": "stdout",
       "text": [
        "Thread #1: \t2600000 read pairs finished. 231 secs passed\r\n"
       ]
      },
      {
       "output_type": "stream",
       "stream": "stdout",
       "text": [
        "Thread #0: \t2650000 read pairs finished. 245 secs passed\r\n"
       ]
      },
      {
       "output_type": "stream",
       "stream": "stdout",
       "text": [
        "Thread #3: \t2700000 read pairs finished. 246 secs passed\r\n"
       ]
      },
      {
       "output_type": "stream",
       "stream": "stdout",
       "text": [
        "Thread #2: \t2750000 read pairs finished. 247 secs passed\r\n"
       ]
      },
      {
       "output_type": "stream",
       "stream": "stdout",
       "text": [
        "Thread #1: \t2800000 read pairs finished. 247 secs passed\r\n"
       ]
      },
      {
       "output_type": "stream",
       "stream": "stdout",
       "text": [
        "Thread #0: \t2850000 read pairs finished. 260 secs passed\r\n"
       ]
      },
      {
       "output_type": "stream",
       "stream": "stdout",
       "text": [
        "Thread #3: \t2900000 read pairs finished. 262 secs passed\r\n"
       ]
      },
      {
       "output_type": "stream",
       "stream": "stdout",
       "text": [
        "Thread #2: \t2950000 read pairs finished. 263 secs passed\r\n"
       ]
      },
      {
       "output_type": "stream",
       "stream": "stdout",
       "text": [
        "Thread #1: \t3000000 read pairs finished. 263 secs passed\r\n"
       ]
      },
      {
       "output_type": "stream",
       "stream": "stdout",
       "text": [
        "Thread #0: \t3050000 read pairs finished. 275 secs passed\r\n"
       ]
      },
      {
       "output_type": "stream",
       "stream": "stdout",
       "text": [
        "Thread #3: \t3100000 read pairs finished. 277 secs passed\r\n"
       ]
      },
      {
       "output_type": "stream",
       "stream": "stdout",
       "text": [
        "Thread #2: \t3150000 read pairs finished. 278 secs passed\r\n"
       ]
      },
      {
       "output_type": "stream",
       "stream": "stdout",
       "text": [
        "Thread #1: \t3200000 read pairs finished. 279 secs passed\r\n"
       ]
      },
      {
       "output_type": "stream",
       "stream": "stdout",
       "text": [
        "Thread #0: \t3250000 read pairs finished. 291 secs passed\r\n"
       ]
      },
      {
       "output_type": "stream",
       "stream": "stdout",
       "text": [
        "Thread #3: \t3300000 read pairs finished. 293 secs passed\r\n"
       ]
      },
      {
       "output_type": "stream",
       "stream": "stdout",
       "text": [
        "Thread #2: \t3350000 read pairs finished. 294 secs passed\r\n"
       ]
      },
      {
       "output_type": "stream",
       "stream": "stdout",
       "text": [
        "Thread #1: \t3400000 read pairs finished. 294 secs passed\r\n"
       ]
      },
      {
       "output_type": "stream",
       "stream": "stdout",
       "text": [
        "Thread #0: \t3450000 read pairs finished. 306 secs passed\r\n"
       ]
      },
      {
       "output_type": "stream",
       "stream": "stdout",
       "text": [
        "Thread #3: \t3500000 read pairs finished. 309 secs passed\r\n"
       ]
      },
      {
       "output_type": "stream",
       "stream": "stdout",
       "text": [
        "Thread #2: \t3550000 read pairs finished. 310 secs passed\r\n"
       ]
      },
      {
       "output_type": "stream",
       "stream": "stdout",
       "text": [
        "Thread #1: \t3600000 read pairs finished. 310 secs passed\r\n"
       ]
      },
      {
       "output_type": "stream",
       "stream": "stdout",
       "text": [
        "Thread #0: \t3650000 read pairs finished. 322 secs passed\r\n"
       ]
      },
      {
       "output_type": "stream",
       "stream": "stdout",
       "text": [
        "Thread #3: \t3700000 read pairs finished. 324 secs passed\r\n"
       ]
      },
      {
       "output_type": "stream",
       "stream": "stdout",
       "text": [
        "Thread #2: \t3750000 read pairs finished. 325 secs passed\r\n"
       ]
      },
      {
       "output_type": "stream",
       "stream": "stdout",
       "text": [
        "Thread #1: \t3800000 read pairs finished. 326 secs passed\r\n"
       ]
      },
      {
       "output_type": "stream",
       "stream": "stdout",
       "text": [
        "Thread #0: \t3850000 read pairs finished. 337 secs passed\r\n"
       ]
      },
      {
       "output_type": "stream",
       "stream": "stdout",
       "text": [
        "Thread #3: \t3900000 read pairs finished. 339 secs passed\r\n"
       ]
      },
      {
       "output_type": "stream",
       "stream": "stdout",
       "text": [
        "Thread #2: \t3950000 read pairs finished. 341 secs passed\r\n"
       ]
      },
      {
       "output_type": "stream",
       "stream": "stdout",
       "text": [
        "Thread #1: \t4000000 read pairs finished. 341 secs passed\r\n"
       ]
      },
      {
       "output_type": "stream",
       "stream": "stdout",
       "text": [
        "Thread #0: \t4050000 read pairs finished. 353 secs passed\r\n"
       ]
      },
      {
       "output_type": "stream",
       "stream": "stdout",
       "text": [
        "Thread #3: \t4100000 read pairs finished. 355 secs passed\r\n"
       ]
      },
      {
       "output_type": "stream",
       "stream": "stdout",
       "text": [
        "Thread #2: \t4150000 read pairs finished. 356 secs passed\r\n"
       ]
      },
      {
       "output_type": "stream",
       "stream": "stdout",
       "text": [
        "Thread #1: \t4200000 read pairs finished. 356 secs passed\r\n"
       ]
      },
      {
       "output_type": "stream",
       "stream": "stdout",
       "text": [
        "Thread #0: \t4250000 read pairs finished. 369 secs passed\r\n"
       ]
      },
      {
       "output_type": "stream",
       "stream": "stdout",
       "text": [
        "Thread #3: \t4300000 read pairs finished. 371 secs passed\r\n"
       ]
      },
      {
       "output_type": "stream",
       "stream": "stdout",
       "text": [
        "Thread #2: \t4350000 read pairs finished. 372 secs passed\r\n"
       ]
      },
      {
       "output_type": "stream",
       "stream": "stdout",
       "text": [
        "Thread #1: \t4400000 read pairs finished. 372 secs passed\r\n"
       ]
      },
      {
       "output_type": "stream",
       "stream": "stdout",
       "text": [
        "Thread #0: \t4450000 read pairs finished. 385 secs passed\r\n"
       ]
      },
      {
       "output_type": "stream",
       "stream": "stdout",
       "text": [
        "Thread #3: \t4500000 read pairs finished. 386 secs passed\r\n"
       ]
      },
      {
       "output_type": "stream",
       "stream": "stdout",
       "text": [
        "Thread #2: \t4550000 read pairs finished. 388 secs passed\r\n"
       ]
      },
      {
       "output_type": "stream",
       "stream": "stdout",
       "text": [
        "Thread #1: \t4600000 read pairs finished. 388 secs passed\r\n"
       ]
      },
      {
       "output_type": "stream",
       "stream": "stdout",
       "text": [
        "Thread #0: \t4650000 read pairs finished. 400 secs passed\r\n"
       ]
      },
      {
       "output_type": "stream",
       "stream": "stdout",
       "text": [
        "Thread #3: \t4700000 read pairs finished. 401 secs passed\r\n"
       ]
      },
      {
       "output_type": "stream",
       "stream": "stdout",
       "text": [
        "Thread #2: \t4750000 read pairs finished. 404 secs passed\r\n"
       ]
      },
      {
       "output_type": "stream",
       "stream": "stdout",
       "text": [
        "Thread #1: \t4800000 read pairs finished. 404 secs passed\r\n"
       ]
      },
      {
       "output_type": "stream",
       "stream": "stdout",
       "text": [
        "Thread #0: \t4850000 read pairs finished. 415 secs passed\r\n"
       ]
      },
      {
       "output_type": "stream",
       "stream": "stdout",
       "text": [
        "Thread #3: \t4900000 read pairs finished. 416 secs passed\r\n"
       ]
      },
      {
       "output_type": "stream",
       "stream": "stdout",
       "text": [
        "Thread #2: \t4950000 read pairs finished. 419 secs passed\r\n"
       ]
      },
      {
       "output_type": "stream",
       "stream": "stdout",
       "text": [
        "Thread #1: \t5000000 read pairs finished. 420 secs passed\r\n"
       ]
      },
      {
       "output_type": "stream",
       "stream": "stdout",
       "text": [
        "Thread #0: \t5050000 read pairs finished. 431 secs passed\r\n"
       ]
      },
      {
       "output_type": "stream",
       "stream": "stdout",
       "text": [
        "Thread #3: \t5100000 read pairs finished. 432 secs passed\r\n"
       ]
      },
      {
       "output_type": "stream",
       "stream": "stdout",
       "text": [
        "Thread #2: \t5150000 read pairs finished. 435 secs passed\r\n"
       ]
      },
      {
       "output_type": "stream",
       "stream": "stdout",
       "text": [
        "Thread #1: \t5200000 read pairs finished. 435 secs passed\r\n"
       ]
      },
      {
       "output_type": "stream",
       "stream": "stdout",
       "text": [
        "Thread #0: \t5250000 read pairs finished. 448 secs passed\r\n"
       ]
      },
      {
       "output_type": "stream",
       "stream": "stdout",
       "text": [
        "Thread #3: \t5300000 read pairs finished. 449 secs passed\r\n"
       ]
      },
      {
       "output_type": "stream",
       "stream": "stdout",
       "text": [
        "Thread #1: \t5400000 read pairs finished. 451 secs passed\r\n"
       ]
      },
      {
       "output_type": "stream",
       "stream": "stdout",
       "text": [
        "Thread #2: \t5350000 read pairs finished. 452 secs passed\r\n"
       ]
      },
      {
       "output_type": "stream",
       "stream": "stdout",
       "text": [
        "Thread #0: \t5450000 read pairs finished. 464 secs passed\r\n"
       ]
      },
      {
       "output_type": "stream",
       "stream": "stdout",
       "text": [
        "Thread #3: \t5500000 read pairs finished. 464 secs passed\r\n"
       ]
      },
      {
       "output_type": "stream",
       "stream": "stdout",
       "text": [
        "Thread #1: \t5550000 read pairs finished. 467 secs passed\r\n"
       ]
      },
      {
       "output_type": "stream",
       "stream": "stdout",
       "text": [
        "Thread #2: \t5600000 read pairs finished. 468 secs passed\r\n"
       ]
      },
      {
       "output_type": "stream",
       "stream": "stdout",
       "text": [
        "Thread #0: \t5650000 read pairs finished. 479 secs passed\r\n"
       ]
      },
      {
       "output_type": "stream",
       "stream": "stdout",
       "text": [
        "Thread #3: \t5700000 read pairs finished. 480 secs passed\r\n"
       ]
      },
      {
       "output_type": "stream",
       "stream": "stdout",
       "text": [
        "Thread #1: \t5750000 read pairs finished. 483 secs passed\r\n"
       ]
      },
      {
       "output_type": "stream",
       "stream": "stdout",
       "text": [
        "Thread #2: \t5800000 read pairs finished. 484 secs passed\r\n"
       ]
      },
      {
       "output_type": "stream",
       "stream": "stdout",
       "text": [
        "Thread #0: \t5850000 read pairs finished. 494 secs passed\r\n"
       ]
      },
      {
       "output_type": "stream",
       "stream": "stdout",
       "text": [
        "Thread #3: \t5900000 read pairs finished. 495 secs passed\r\n"
       ]
      },
      {
       "output_type": "stream",
       "stream": "stdout",
       "text": [
        "Thread #1: \t5950000 read pairs finished. 499 secs passed\r\n"
       ]
      },
      {
       "output_type": "stream",
       "stream": "stdout",
       "text": [
        "Thread #2: \t6000000 read pairs finished. 500 secs passed\r\n"
       ]
      },
      {
       "output_type": "stream",
       "stream": "stdout",
       "text": [
        "Thread #0: \t6050000 read pairs finished. 510 secs passed\r\n"
       ]
      },
      {
       "output_type": "stream",
       "stream": "stdout",
       "text": [
        "Thread #3: \t6100000 read pairs finished. 510 secs passed\r\n"
       ]
      },
      {
       "output_type": "stream",
       "stream": "stdout",
       "text": [
        "Thread #1: \t6150000 read pairs finished. 515 secs passed\r\n"
       ]
      },
      {
       "output_type": "stream",
       "stream": "stdout",
       "text": [
        "Thread #2: \t6200000 read pairs finished. 516 secs passed\r\n"
       ]
      },
      {
       "output_type": "stream",
       "stream": "stdout",
       "text": [
        "Thread #0: \t6250000 read pairs finished. 525 secs passed\r\n"
       ]
      },
      {
       "output_type": "stream",
       "stream": "stdout",
       "text": [
        "Thread #3: \t6300000 read pairs finished. 526 secs passed\r\n"
       ]
      },
      {
       "output_type": "stream",
       "stream": "stdout",
       "text": [
        "Thread #1: \t6350000 read pairs finished. 531 secs passed\r\n"
       ]
      },
      {
       "output_type": "stream",
       "stream": "stdout",
       "text": [
        "Thread #2: \t6400000 read pairs finished. 532 secs passed\r\n"
       ]
      },
      {
       "output_type": "stream",
       "stream": "stdout",
       "text": [
        "Thread #0: \t6450000 read pairs finished. 541 secs passed\r\n"
       ]
      },
      {
       "output_type": "stream",
       "stream": "stdout",
       "text": [
        "Thread #3: \t6500000 read pairs finished. 542 secs passed\r\n"
       ]
      },
      {
       "output_type": "stream",
       "stream": "stdout",
       "text": [
        "Thread #1: \t6550000 read pairs finished. 547 secs passed\r\n"
       ]
      },
      {
       "output_type": "stream",
       "stream": "stdout",
       "text": [
        "Thread #2: \t6600000 read pairs finished. 548 secs passed\r\n"
       ]
      },
      {
       "output_type": "stream",
       "stream": "stdout",
       "text": [
        "Thread #0: \t6650000 read pairs finished. 557 secs passed\r\n"
       ]
      },
      {
       "output_type": "stream",
       "stream": "stdout",
       "text": [
        "Thread #3: \t6700000 read pairs finished. 557 secs passed\r\n"
       ]
      },
      {
       "output_type": "stream",
       "stream": "stdout",
       "text": [
        "Thread #1: \t6750000 read pairs finished. 562 secs passed\r\n"
       ]
      },
      {
       "output_type": "stream",
       "stream": "stdout",
       "text": [
        "Thread #2: \t6800000 read pairs finished. 563 secs passed\r\n"
       ]
      },
      {
       "output_type": "stream",
       "stream": "stdout",
       "text": [
        "Thread #0: \t6850000 read pairs finished. 572 secs passed\r\n"
       ]
      },
      {
       "output_type": "stream",
       "stream": "stdout",
       "text": [
        "Thread #3: \t6900000 read pairs finished. 572 secs passed\r\n"
       ]
      },
      {
       "output_type": "stream",
       "stream": "stdout",
       "text": [
        "Thread #1: \t6950000 read pairs finished. 578 secs passed\r\n"
       ]
      },
      {
       "output_type": "stream",
       "stream": "stdout",
       "text": [
        "Thread #2: \t7000000 read pairs finished. 579 secs passed\r\n"
       ]
      },
      {
       "output_type": "stream",
       "stream": "stdout",
       "text": [
        "Thread #1: \t7109789 read pairs finished. 580 secs passed\r\n"
       ]
      },
      {
       "output_type": "stream",
       "stream": "stdout",
       "text": [
        "Thread #0: \t7050000 read pairs finished. 585 secs passed\r\n"
       ]
      },
      {
       "output_type": "stream",
       "stream": "stdout",
       "text": [
        "Thread #3: \t7100000 read pairs finished. 585 secs passed\r\n"
       ]
      },
      {
       "output_type": "stream",
       "stream": "stdout",
       "text": [
        "Total number of aligned reads: \r\n",
        "pairs:       4047152 (57%)\r\n",
        "single a:    1332491 (19%)\r\n",
        "single b:    1205102 (17%)\r\n",
        "Done.\r\n",
        "Finished at Tue Dec  2 14:50:59 2014\r\n",
        "Total time consumed:  585 secs\r\n"
       ]
      },
      {
       "output_type": "stream",
       "stream": "stdout",
       "text": [
        "\r\n",
        "BSMAP v2.74\r\n",
        "Start at:  Tue Dec  2 14:51:00 2014\r\n",
        "\r\n",
        "Input reference file: Crassostrea_gigas.GCA_000297895.1.22.dna_sm.genome.fa \t(format: FASTA)\r\n"
       ]
      },
      {
       "output_type": "stream",
       "stream": "stdout",
       "text": [
        "Load in 7658 db seqs, total size 557717710 bp. 9 secs passed\r\n",
        "total_kmers: 43046721\r\n"
       ]
      },
      {
       "output_type": "stream",
       "stream": "stdout",
       "text": [
        "Create seed table. 25 secs passed\r\n",
        "max number of mismatches: read_length * 8% \tmax gap size: 0\r\n",
        "kmer cut-off ratio: 5e-07\r\n",
        "max multi-hits: 100\tmax Ns: 5\tseed size: 16\tindex interval: 4\r\n",
        "quality cutoff: 0\tbase quality char: '!'\r\n",
        "min fragment size:28\tmax fragemt size:500\r\n",
        "start from read #1\tend at read #4294967295\r\n",
        "additional alignment: T in reads => C in reference\r\n",
        "mapping strand (read_1): ++,-+\r\n",
        "mapping strand (read_2): +-,--\r\n",
        "Pair-end alignment(4 threads)\r\n",
        "Input read file #1: mcf_T3D5_R1.fastq \t(format: FASTQ)\r\n",
        "Input read file #2: mcf_T3D5_R2.fastq \t(format: FASTQ)\r\n",
        "Output file: bsmap_out_T3D5.sam\t (format: SAM)\r\n"
       ]
      },
      {
       "output_type": "stream",
       "stream": "stdout",
       "text": [
        "Thread #1: \t50000 read pairs finished. 41 secs passed\r\n"
       ]
      },
      {
       "output_type": "stream",
       "stream": "stdout",
       "text": [
        "Thread #2: \t100000 read pairs finished. 42 secs passed\r\n"
       ]
      },
      {
       "output_type": "stream",
       "stream": "stdout",
       "text": [
        "Thread #0: \t150000 read pairs finished. 42 secs passed\r\n"
       ]
      },
      {
       "output_type": "stream",
       "stream": "stdout",
       "text": [
        "Thread #3: \t200000 read pairs finished. 42 secs passed\r\n"
       ]
      },
      {
       "output_type": "stream",
       "stream": "stdout",
       "text": [
        "Thread #1: \t250000 read pairs finished. 57 secs passed\r\n"
       ]
      },
      {
       "output_type": "stream",
       "stream": "stdout",
       "text": [
        "Thread #2: \t300000 read pairs finished. 58 secs passed\r\n"
       ]
      },
      {
       "output_type": "stream",
       "stream": "stdout",
       "text": [
        "Thread #0: \t350000 read pairs finished. 58 secs passed\r\n"
       ]
      },
      {
       "output_type": "stream",
       "stream": "stdout",
       "text": [
        "Thread #3: \t400000 read pairs finished. 59 secs passed\r\n"
       ]
      },
      {
       "output_type": "stream",
       "stream": "stdout",
       "text": [
        "Thread #1: \t450000 read pairs finished. 72 secs passed\r\n"
       ]
      },
      {
       "output_type": "stream",
       "stream": "stdout",
       "text": [
        "Thread #2: \t500000 read pairs finished. 73 secs passed\r\n"
       ]
      },
      {
       "output_type": "stream",
       "stream": "stdout",
       "text": [
        "Thread #0: \t550000 read pairs finished. 74 secs passed\r\n"
       ]
      },
      {
       "output_type": "stream",
       "stream": "stdout",
       "text": [
        "Thread #3: \t600000 read pairs finished. 75 secs passed\r\n"
       ]
      },
      {
       "output_type": "stream",
       "stream": "stdout",
       "text": [
        "Thread #1: \t650000 read pairs finished. 87 secs passed\r\n"
       ]
      },
      {
       "output_type": "stream",
       "stream": "stdout",
       "text": [
        "Thread #2: \t700000 read pairs finished. 88 secs passed\r\n"
       ]
      },
      {
       "output_type": "stream",
       "stream": "stdout",
       "text": [
        "Thread #0: \t750000 read pairs finished. 90 secs passed\r\n"
       ]
      },
      {
       "output_type": "stream",
       "stream": "stdout",
       "text": [
        "Thread #3: \t800000 read pairs finished. 90 secs passed\r\n"
       ]
      },
      {
       "output_type": "stream",
       "stream": "stdout",
       "text": [
        "Thread #1: \t850000 read pairs finished. 102 secs passed\r\n"
       ]
      },
      {
       "output_type": "stream",
       "stream": "stdout",
       "text": [
        "Thread #2: \t900000 read pairs finished. 103 secs passed\r\n"
       ]
      },
      {
       "output_type": "stream",
       "stream": "stdout",
       "text": [
        "Thread #0: \t950000 read pairs finished. 105 secs passed\r\n"
       ]
      },
      {
       "output_type": "stream",
       "stream": "stdout",
       "text": [
        "Thread #3: \t1000000 read pairs finished. 106 secs passed\r\n"
       ]
      },
      {
       "output_type": "stream",
       "stream": "stdout",
       "text": [
        "Thread #1: \t1050000 read pairs finished. 118 secs passed\r\n"
       ]
      },
      {
       "output_type": "stream",
       "stream": "stdout",
       "text": [
        "Thread #2: \t1100000 read pairs finished. 118 secs passed\r\n"
       ]
      },
      {
       "output_type": "stream",
       "stream": "stdout",
       "text": [
        "Thread #0: \t1150000 read pairs finished. 120 secs passed\r\n"
       ]
      },
      {
       "output_type": "stream",
       "stream": "stdout",
       "text": [
        "Thread #3: \t1200000 read pairs finished. 121 secs passed\r\n"
       ]
      },
      {
       "output_type": "stream",
       "stream": "stdout",
       "text": [
        "Thread #1: \t1250000 read pairs finished. 134 secs passed\r\n"
       ]
      },
      {
       "output_type": "stream",
       "stream": "stdout",
       "text": [
        "Thread #2: \t1300000 read pairs finished. 134 secs passed\r\n"
       ]
      },
      {
       "output_type": "stream",
       "stream": "stdout",
       "text": [
        "Thread #0: \t1350000 read pairs finished. 136 secs passed\r\n"
       ]
      },
      {
       "output_type": "stream",
       "stream": "stdout",
       "text": [
        "Thread #3: \t1400000 read pairs finished. 136 secs passed\r\n"
       ]
      },
      {
       "output_type": "stream",
       "stream": "stdout",
       "text": [
        "Thread #1: \t1450000 read pairs finished. 150 secs passed\r\n"
       ]
      },
      {
       "output_type": "stream",
       "stream": "stdout",
       "text": [
        "Thread #2: \t1500000 read pairs finished. 151 secs passed\r\n"
       ]
      },
      {
       "output_type": "stream",
       "stream": "stdout",
       "text": [
        "Thread #0: \t1550000 read pairs finished. 151 secs passed\r\n"
       ]
      },
      {
       "output_type": "stream",
       "stream": "stdout",
       "text": [
        "Thread #3: \t1600000 read pairs finished. 152 secs passed\r\n"
       ]
      },
      {
       "output_type": "stream",
       "stream": "stdout",
       "text": [
        "Thread #1: \t1650000 read pairs finished. 166 secs passed\r\n"
       ]
      },
      {
       "output_type": "stream",
       "stream": "stdout",
       "text": [
        "Thread #2: \t1700000 read pairs finished. 166 secs passed\r\n"
       ]
      },
      {
       "output_type": "stream",
       "stream": "stdout",
       "text": [
        "Thread #0: \t1750000 read pairs finished. 167 secs passed\r\n"
       ]
      },
      {
       "output_type": "stream",
       "stream": "stdout",
       "text": [
        "Thread #3: \t1800000 read pairs finished. 168 secs passed\r\n"
       ]
      },
      {
       "output_type": "stream",
       "stream": "stdout",
       "text": [
        "Thread #1: \t1850000 read pairs finished. 181 secs passed\r\n"
       ]
      },
      {
       "output_type": "stream",
       "stream": "stdout",
       "text": [
        "Thread #2: \t1900000 read pairs finished. 182 secs passed\r\n"
       ]
      },
      {
       "output_type": "stream",
       "stream": "stdout",
       "text": [
        "Thread #0: \t1950000 read pairs finished. 182 secs passed\r\n"
       ]
      },
      {
       "output_type": "stream",
       "stream": "stdout",
       "text": [
        "Thread #3: \t2000000 read pairs finished. 183 secs passed\r\n"
       ]
      },
      {
       "output_type": "stream",
       "stream": "stdout",
       "text": [
        "Thread #1: \t2050000 read pairs finished. 197 secs passed\r\n"
       ]
      },
      {
       "output_type": "stream",
       "stream": "stdout",
       "text": [
        "Thread #2: \t2100000 read pairs finished. 197 secs passed\r\n"
       ]
      },
      {
       "output_type": "stream",
       "stream": "stdout",
       "text": [
        "Thread #0: \t2150000 read pairs finished. 198 secs passed\r\n"
       ]
      },
      {
       "output_type": "stream",
       "stream": "stdout",
       "text": [
        "Thread #3: \t2200000 read pairs finished. 199 secs passed\r\n"
       ]
      },
      {
       "output_type": "stream",
       "stream": "stdout",
       "text": [
        "Thread #1: \t2250000 read pairs finished. 212 secs passed\r\n"
       ]
      },
      {
       "output_type": "stream",
       "stream": "stdout",
       "text": [
        "Thread #2: \t2300000 read pairs finished. 213 secs passed\r\n"
       ]
      },
      {
       "output_type": "stream",
       "stream": "stdout",
       "text": [
        "Thread #0: \t2350000 read pairs finished. 214 secs passed\r\n"
       ]
      },
      {
       "output_type": "stream",
       "stream": "stdout",
       "text": [
        "Thread #3: \t2400000 read pairs finished. 214 secs passed\r\n"
       ]
      },
      {
       "output_type": "stream",
       "stream": "stdout",
       "text": [
        "Thread #1: \t2450000 read pairs finished. 228 secs passed\r\n"
       ]
      },
      {
       "output_type": "stream",
       "stream": "stdout",
       "text": [
        "Thread #2: \t2500000 read pairs finished. 229 secs passed\r\n"
       ]
      },
      {
       "output_type": "stream",
       "stream": "stdout",
       "text": [
        "Thread #0: \t2550000 read pairs finished. 229 secs passed\r\n"
       ]
      },
      {
       "output_type": "stream",
       "stream": "stdout",
       "text": [
        "Thread #3: \t2600000 read pairs finished. 230 secs passed\r\n"
       ]
      },
      {
       "output_type": "stream",
       "stream": "stdout",
       "text": [
        "Thread #1: \t2650000 read pairs finished. 244 secs passed\r\n"
       ]
      },
      {
       "output_type": "stream",
       "stream": "stdout",
       "text": [
        "Thread #2: \t2700000 read pairs finished. 244 secs passed\r\n"
       ]
      },
      {
       "output_type": "stream",
       "stream": "stdout",
       "text": [
        "Thread #0: \t2750000 read pairs finished. 244 secs passed\r\n"
       ]
      },
      {
       "output_type": "stream",
       "stream": "stdout",
       "text": [
        "Thread #3: \t2800000 read pairs finished. 245 secs passed\r\n"
       ]
      },
      {
       "output_type": "stream",
       "stream": "stdout",
       "text": [
        "Thread #1: \t2850000 read pairs finished. 260 secs passed\r\n"
       ]
      },
      {
       "output_type": "stream",
       "stream": "stdout",
       "text": [
        "Thread #0: \t2950000 read pairs finished. 261 secs passed\r\n"
       ]
      },
      {
       "output_type": "stream",
       "stream": "stdout",
       "text": [
        "Thread #2: \t2900000 read pairs finished. 261 secs passed\r\n"
       ]
      },
      {
       "output_type": "stream",
       "stream": "stdout",
       "text": [
        "Thread #3: \t3000000 read pairs finished. 261 secs passed\r\n"
       ]
      },
      {
       "output_type": "stream",
       "stream": "stdout",
       "text": [
        "Thread #1: \t3050000 read pairs finished. 275 secs passed\r\n"
       ]
      },
      {
       "output_type": "stream",
       "stream": "stdout",
       "text": [
        "Thread #0: \t3100000 read pairs finished. 276 secs passed\r\n"
       ]
      },
      {
       "output_type": "stream",
       "stream": "stdout",
       "text": [
        "Thread #2: \t3150000 read pairs finished. 277 secs passed\r\n"
       ]
      },
      {
       "output_type": "stream",
       "stream": "stdout",
       "text": [
        "Thread #3: \t3200000 read pairs finished. 278 secs passed\r\n"
       ]
      },
      {
       "output_type": "stream",
       "stream": "stdout",
       "text": [
        "Thread #1: \t3250000 read pairs finished. 291 secs passed\r\n"
       ]
      },
      {
       "output_type": "stream",
       "stream": "stdout",
       "text": [
        "Thread #0: \t3300000 read pairs finished. 291 secs passed\r\n"
       ]
      },
      {
       "output_type": "stream",
       "stream": "stdout",
       "text": [
        "Thread #2: \t3350000 read pairs finished. 292 secs passed\r\n"
       ]
      },
      {
       "output_type": "stream",
       "stream": "stdout",
       "text": [
        "Thread #3: \t3400000 read pairs finished. 293 secs passed\r\n"
       ]
      },
      {
       "output_type": "stream",
       "stream": "stdout",
       "text": [
        "Thread #1: \t3450000 read pairs finished. 306 secs passed\r\n"
       ]
      },
      {
       "output_type": "stream",
       "stream": "stdout",
       "text": [
        "Thread #0: \t3500000 read pairs finished. 306 secs passed\r\n"
       ]
      },
      {
       "output_type": "stream",
       "stream": "stdout",
       "text": [
        "Thread #2: \t3550000 read pairs finished. 308 secs passed\r\n"
       ]
      },
      {
       "output_type": "stream",
       "stream": "stdout",
       "text": [
        "Thread #3: \t3600000 read pairs finished. 310 secs passed\r\n"
       ]
      },
      {
       "output_type": "stream",
       "stream": "stdout",
       "text": [
        "Thread #0: \t3700000 read pairs finished. 322 secs passed\r\n"
       ]
      },
      {
       "output_type": "stream",
       "stream": "stdout",
       "text": [
        "Thread #1: \t3650000 read pairs finished. 323 secs passed\r\n"
       ]
      },
      {
       "output_type": "stream",
       "stream": "stdout",
       "text": [
        "Thread #2: \t3750000 read pairs finished. 323 secs passed\r\n"
       ]
      },
      {
       "output_type": "stream",
       "stream": "stdout",
       "text": [
        "Thread #3: \t3800000 read pairs finished. 325 secs passed\r\n"
       ]
      },
      {
       "output_type": "stream",
       "stream": "stdout",
       "text": [
        "Thread #0: \t3850000 read pairs finished. 338 secs passed\r\n"
       ]
      },
      {
       "output_type": "stream",
       "stream": "stdout",
       "text": [
        "Thread #2: \t3950000 read pairs finished. 338 secs passed\r\n"
       ]
      },
      {
       "output_type": "stream",
       "stream": "stdout",
       "text": [
        "Thread #1: \t3900000 read pairs finished. 339 secs passed\r\n"
       ]
      },
      {
       "output_type": "stream",
       "stream": "stdout",
       "text": [
        "Thread #3: \t4000000 read pairs finished. 339 secs passed\r\n"
       ]
      },
      {
       "output_type": "stream",
       "stream": "stdout",
       "text": [
        "Thread #0: \t4050000 read pairs finished. 352 secs passed\r\n"
       ]
      },
      {
       "output_type": "stream",
       "stream": "stdout",
       "text": [
        "Thread #2: \t4100000 read pairs finished. 353 secs passed\r\n"
       ]
      },
      {
       "output_type": "stream",
       "stream": "stdout",
       "text": [
        "Thread #1: \t4150000 read pairs finished. 354 secs passed\r\n"
       ]
      },
      {
       "output_type": "stream",
       "stream": "stdout",
       "text": [
        "Thread #3: \t4200000 read pairs finished. 355 secs passed\r\n"
       ]
      },
      {
       "output_type": "stream",
       "stream": "stdout",
       "text": [
        "Thread #0: \t4250000 read pairs finished. 367 secs passed\r\n"
       ]
      },
      {
       "output_type": "stream",
       "stream": "stdout",
       "text": [
        "Thread #2: \t4300000 read pairs finished. 369 secs passed\r\n"
       ]
      },
      {
       "output_type": "stream",
       "stream": "stdout",
       "text": [
        "Thread #1: \t4350000 read pairs finished. 370 secs passed\r\n"
       ]
      },
      {
       "output_type": "stream",
       "stream": "stdout",
       "text": [
        "Thread #3: \t4400000 read pairs finished. 371 secs passed\r\n"
       ]
      },
      {
       "output_type": "stream",
       "stream": "stdout",
       "text": [
        "Thread #0: \t4450000 read pairs finished. 382 secs passed\r\n"
       ]
      },
      {
       "output_type": "stream",
       "stream": "stdout",
       "text": [
        "Thread #2: \t4500000 read pairs finished. 384 secs passed\r\n"
       ]
      },
      {
       "output_type": "stream",
       "stream": "stdout",
       "text": [
        "Thread #1: \t4550000 read pairs finished. 386 secs passed\r\n"
       ]
      },
      {
       "output_type": "stream",
       "stream": "stdout",
       "text": [
        "Thread #3: \t4600000 read pairs finished. 386 secs passed\r\n"
       ]
      },
      {
       "output_type": "stream",
       "stream": "stdout",
       "text": [
        "Thread #0: \t4650000 read pairs finished. 397 secs passed\r\n"
       ]
      },
      {
       "output_type": "stream",
       "stream": "stdout",
       "text": [
        "Thread #2: \t4700000 read pairs finished. 399 secs passed\r\n"
       ]
      },
      {
       "output_type": "stream",
       "stream": "stdout",
       "text": [
        "Thread #1: \t4750000 read pairs finished. 401 secs passed\r\n"
       ]
      },
      {
       "output_type": "stream",
       "stream": "stdout",
       "text": [
        "Thread #3: \t4800000 read pairs finished. 402 secs passed\r\n"
       ]
      },
      {
       "output_type": "stream",
       "stream": "stdout",
       "text": [
        "Thread #0: \t4850000 read pairs finished. 412 secs passed\r\n"
       ]
      },
      {
       "output_type": "stream",
       "stream": "stdout",
       "text": [
        "Thread #2: \t4900000 read pairs finished. 414 secs passed\r\n"
       ]
      },
      {
       "output_type": "stream",
       "stream": "stdout",
       "text": [
        "Thread #1: \t4950000 read pairs finished. 417 secs passed\r\n"
       ]
      },
      {
       "output_type": "stream",
       "stream": "stdout",
       "text": [
        "Thread #3: \t5000000 read pairs finished. 418 secs passed\r\n"
       ]
      },
      {
       "output_type": "stream",
       "stream": "stdout",
       "text": [
        "Thread #0: \t5050000 read pairs finished. 427 secs passed\r\n"
       ]
      },
      {
       "output_type": "stream",
       "stream": "stdout",
       "text": [
        "Thread #2: \t5100000 read pairs finished. 429 secs passed\r\n"
       ]
      },
      {
       "output_type": "stream",
       "stream": "stdout",
       "text": [
        "Thread #1: \t5150000 read pairs finished. 433 secs passed\r\n"
       ]
      },
      {
       "output_type": "stream",
       "stream": "stdout",
       "text": [
        "Thread #3: \t5200000 read pairs finished. 433 secs passed\r\n"
       ]
      },
      {
       "output_type": "stream",
       "stream": "stdout",
       "text": [
        "Thread #0: \t5250000 read pairs finished. 442 secs passed\r\n"
       ]
      },
      {
       "output_type": "stream",
       "stream": "stdout",
       "text": [
        "Thread #2: \t5300000 read pairs finished. 444 secs passed\r\n"
       ]
      },
      {
       "output_type": "stream",
       "stream": "stdout",
       "text": [
        "Thread #1: \t5350000 read pairs finished. 448 secs passed\r\n"
       ]
      },
      {
       "output_type": "stream",
       "stream": "stdout",
       "text": [
        "Thread #3: \t5400000 read pairs finished. 449 secs passed\r\n"
       ]
      },
      {
       "output_type": "stream",
       "stream": "stdout",
       "text": [
        "Thread #0: \t5450000 read pairs finished. 457 secs passed\r\n"
       ]
      },
      {
       "output_type": "stream",
       "stream": "stdout",
       "text": [
        "Thread #2: \t5500000 read pairs finished. 458 secs passed\r\n"
       ]
      },
      {
       "output_type": "stream",
       "stream": "stdout",
       "text": [
        "Thread #1: \t5550000 read pairs finished. 464 secs passed\r\n"
       ]
      },
      {
       "output_type": "stream",
       "stream": "stdout",
       "text": [
        "Thread #3: \t5600000 read pairs finished. 464 secs passed\r\n"
       ]
      },
      {
       "output_type": "stream",
       "stream": "stdout",
       "text": [
        "Thread #0: \t5650000 read pairs finished. 472 secs passed\r\n"
       ]
      },
      {
       "output_type": "stream",
       "stream": "stdout",
       "text": [
        "Thread #2: \t5700000 read pairs finished. 475 secs passed\r\n"
       ]
      },
      {
       "output_type": "stream",
       "stream": "stdout",
       "text": [
        "Thread #1: \t5750000 read pairs finished. 481 secs passed\r\n"
       ]
      },
      {
       "output_type": "stream",
       "stream": "stdout",
       "text": [
        "Thread #3: \t5800000 read pairs finished. 482 secs passed\r\n"
       ]
      },
      {
       "output_type": "stream",
       "stream": "stdout",
       "text": [
        "Thread #0: \t5850000 read pairs finished. 487 secs passed\r\n"
       ]
      },
      {
       "output_type": "stream",
       "stream": "stdout",
       "text": [
        "Thread #2: \t5900000 read pairs finished. 490 secs passed\r\n"
       ]
      },
      {
       "output_type": "stream",
       "stream": "stdout",
       "text": [
        "Thread #3: \t6000000 read pairs finished. 497 secs passed\r\n"
       ]
      },
      {
       "output_type": "stream",
       "stream": "stdout",
       "text": [
        "Thread #1: \t5950000 read pairs finished. 498 secs passed\r\n"
       ]
      },
      {
       "output_type": "stream",
       "stream": "stdout",
       "text": [
        "Thread #0: \t6050000 read pairs finished. 503 secs passed\r\n"
       ]
      },
      {
       "output_type": "stream",
       "stream": "stdout",
       "text": [
        "Thread #2: \t6100000 read pairs finished. 505 secs passed\r\n"
       ]
      },
      {
       "output_type": "stream",
       "stream": "stdout",
       "text": [
        "Thread #3: \t6150000 read pairs finished. 512 secs passed\r\n"
       ]
      },
      {
       "output_type": "stream",
       "stream": "stdout",
       "text": [
        "Thread #1: \t6200000 read pairs finished. 513 secs passed\r\n"
       ]
      },
      {
       "output_type": "stream",
       "stream": "stdout",
       "text": [
        "Thread #0: \t6250000 read pairs finished. 518 secs passed\r\n"
       ]
      },
      {
       "output_type": "stream",
       "stream": "stdout",
       "text": [
        "Thread #2: \t6300000 read pairs finished. 520 secs passed\r\n"
       ]
      },
      {
       "output_type": "stream",
       "stream": "stdout",
       "text": [
        "Thread #3: \t6350000 read pairs finished. 527 secs passed\r\n"
       ]
      },
      {
       "output_type": "stream",
       "stream": "stdout",
       "text": [
        "Thread #1: \t6400000 read pairs finished. 529 secs passed\r\n"
       ]
      },
      {
       "output_type": "stream",
       "stream": "stdout",
       "text": [
        "Thread #0: \t6450000 read pairs finished. 534 secs passed\r\n"
       ]
      },
      {
       "output_type": "stream",
       "stream": "stdout",
       "text": [
        "Thread #2: \t6500000 read pairs finished. 536 secs passed\r\n"
       ]
      },
      {
       "output_type": "stream",
       "stream": "stdout",
       "text": [
        "Thread #3: \t6550000 read pairs finished. 542 secs passed\r\n"
       ]
      },
      {
       "output_type": "stream",
       "stream": "stdout",
       "text": [
        "Thread #1: \t6600000 read pairs finished. 545 secs passed\r\n"
       ]
      },
      {
       "output_type": "stream",
       "stream": "stdout",
       "text": [
        "Thread #0: \t6650000 read pairs finished. 549 secs passed\r\n"
       ]
      },
      {
       "output_type": "stream",
       "stream": "stdout",
       "text": [
        "Thread #2: \t6700000 read pairs finished. 551 secs passed\r\n"
       ]
      },
      {
       "output_type": "stream",
       "stream": "stdout",
       "text": [
        "Thread #3: \t6750000 read pairs finished. 557 secs passed\r\n"
       ]
      },
      {
       "output_type": "stream",
       "stream": "stdout",
       "text": [
        "Thread #1: \t6800000 read pairs finished. 560 secs passed\r\n"
       ]
      },
      {
       "output_type": "stream",
       "stream": "stdout",
       "text": [
        "Thread #0: \t6850000 read pairs finished. 564 secs passed\r\n"
       ]
      },
      {
       "output_type": "stream",
       "stream": "stdout",
       "text": [
        "Thread #2: \t6900000 read pairs finished. 566 secs passed\r\n"
       ]
      },
      {
       "output_type": "stream",
       "stream": "stdout",
       "text": [
        "Thread #3: \t6950000 read pairs finished. 572 secs passed\r\n"
       ]
      },
      {
       "output_type": "stream",
       "stream": "stdout",
       "text": [
        "Thread #1: \t7000000 read pairs finished. 575 secs passed\r\n"
       ]
      },
      {
       "output_type": "stream",
       "stream": "stdout",
       "text": [
        "Thread #0: \t7050000 read pairs finished. 579 secs passed\r\n"
       ]
      },
      {
       "output_type": "stream",
       "stream": "stdout",
       "text": [
        "Thread #3: \t7125800 read pairs finished. 579 secs passed\r\n"
       ]
      },
      {
       "output_type": "stream",
       "stream": "stdout",
       "text": [
        "Thread #2: \t7100000 read pairs finished. 580 secs passed\r\n"
       ]
      },
      {
       "output_type": "stream",
       "stream": "stdout",
       "text": [
        "Total number of aligned reads: \r\n",
        "pairs:       4092568 (57%)\r\n",
        "single a:    1250715 (18%)\r\n",
        "single b:    1133306 (16%)\r\n",
        "Done.\r\n",
        "Finished at Tue Dec  2 15:00:40 2014\r\n",
        "Total time consumed:  580 secs\r\n"
       ]
      }
     ],
     "prompt_number": 8
    },
    {
     "cell_type": "heading",
     "level": 1,
     "metadata": {},
     "source": [
      "_methratio_"
     ]
    },
    {
     "cell_type": "markdown",
     "metadata": {},
     "source": [
      "methratio is a python script that accompanies BSMAP that determines methylation level on CpG loci"
     ]
    },
    {
     "cell_type": "code",
     "collapsed": false,
     "input": [
      "for i in (\"M1\",\"T1D3\",\"T1D5\", \"M3\", \"T3D3\", \"T3D5\"):\n",
      "    !python {bsmaploc}methratio.py \\\n",
      "-d Crassostrea_gigas.GCA_000297895.1.22.dna_sm.genome.fa \\\n",
      "-u -z -g \\\n",
      "-o methratio_out_{i}.txt \\\n",
      "-s {bsmaploc}samtools \\\n",
      "bsmap_out_{i}.sam \\\n"
     ],
     "language": "python",
     "metadata": {},
     "outputs": [
      {
       "output_type": "stream",
       "stream": "stdout",
       "text": [
        "@ Wed Dec  3 04:00:08 2014: reading reference Crassostrea_gigas.GCA_000297895.1.22.dna_sm.genome.fa ...\r\n"
       ]
      },
      {
       "output_type": "stream",
       "stream": "stdout",
       "text": [
        "@ Wed Dec  3 04:00:42 2014: reading bsmap_out_M1.sam ...\r\n"
       ]
      },
      {
       "output_type": "stream",
       "stream": "stdout",
       "text": [
        "[samopen] SAM header is present: 7658 sequences.\r\n"
       ]
      },
      {
       "output_type": "stream",
       "stream": "stdout",
       "text": [
        "\t@ Wed Dec  3 04:05:20 2014: read 10000000 lines\r\n"
       ]
      },
      {
       "output_type": "stream",
       "stream": "stdout",
       "text": [
        "@ Wed Dec  3 04:05:44 2014: combining CpG methylation from both strands ...\r\n"
       ]
      },
      {
       "output_type": "stream",
       "stream": "stdout",
       "text": [
        "@ Wed Dec  3 04:06:07 2014: writing methratio_out_M1.txt ...\r\n"
       ]
      },
      {
       "output_type": "stream",
       "stream": "stdout",
       "text": [
        "@ Wed Dec  3 04:15:07 2014: done.\r\n",
        "total 8716467 valid mappings, 48671764 covered cytosines, average coverage: 1.78 fold.\r\n"
       ]
      },
      {
       "output_type": "stream",
       "stream": "stdout",
       "text": [
        "@ Wed Dec  3 04:15:08 2014: reading reference Crassostrea_gigas.GCA_000297895.1.22.dna_sm.genome.fa ...\r\n"
       ]
      },
      {
       "output_type": "stream",
       "stream": "stdout",
       "text": [
        "@ Wed Dec  3 04:15:42 2014: reading bsmap_out_T1D3.sam ...\r\n"
       ]
      },
      {
       "output_type": "stream",
       "stream": "stdout",
       "text": [
        "[samopen] SAM header is present: 7658 sequences.\r\n"
       ]
      },
      {
       "output_type": "stream",
       "stream": "stdout",
       "text": [
        "@ Wed Dec  3 04:18:10 2014: combining CpG methylation from both strands ...\r\n"
       ]
      },
      {
       "output_type": "stream",
       "stream": "stdout",
       "text": [
        "@ Wed Dec  3 04:18:34 2014: writing methratio_out_T1D3.txt ...\r\n"
       ]
      },
      {
       "output_type": "stream",
       "stream": "stdout",
       "text": [
        "@ Wed Dec  3 04:24:04 2014: done.\r\n",
        "total 5759215 valid mappings, 26507310 covered cytosines, average coverage: 1.32 fold.\r\n"
       ]
      },
      {
       "output_type": "stream",
       "stream": "stdout",
       "text": [
        "@ Wed Dec  3 04:24:05 2014: reading reference Crassostrea_gigas.GCA_000297895.1.22.dna_sm.genome.fa ...\r\n"
       ]
      },
      {
       "output_type": "stream",
       "stream": "stdout",
       "text": [
        "@ Wed Dec  3 04:24:39 2014: reading bsmap_out_T1D5.sam ...\r\n"
       ]
      },
      {
       "output_type": "stream",
       "stream": "stdout",
       "text": [
        "[samopen] SAM header is present: 7658 sequences.\r\n"
       ]
      },
      {
       "output_type": "stream",
       "stream": "stdout",
       "text": [
        "@ Wed Dec  3 04:28:39 2014: combining CpG methylation from both strands ...\r\n"
       ]
      },
      {
       "output_type": "stream",
       "stream": "stdout",
       "text": [
        "@ Wed Dec  3 04:29:03 2014: writing methratio_out_T1D5.txt ...\r\n"
       ]
      },
      {
       "output_type": "stream",
       "stream": "stdout",
       "text": [
        "@ Wed Dec  3 04:37:34 2014: done.\r\n",
        "total 6974208 valid mappings, 45446465 covered cytosines, average coverage: 1.54 fold.\r\n"
       ]
      },
      {
       "output_type": "stream",
       "stream": "stdout",
       "text": [
        "@ Wed Dec  3 04:37:35 2014: reading reference Crassostrea_gigas.GCA_000297895.1.22.dna_sm.genome.fa ...\r\n"
       ]
      },
      {
       "output_type": "stream",
       "stream": "stdout",
       "text": [
        "@ Wed Dec  3 04:38:09 2014: reading bsmap_out_M3.sam ...\r\n"
       ]
      },
      {
       "output_type": "stream",
       "stream": "stdout",
       "text": [
        "[samopen] SAM header is present: 7658 sequences.\r\n"
       ]
      },
      {
       "output_type": "stream",
       "stream": "stdout",
       "text": [
        "\t@ Wed Dec  3 04:42:53 2014: read 10000000 lines\r\n"
       ]
      },
      {
       "output_type": "stream",
       "stream": "stdout",
       "text": [
        "@ Wed Dec  3 04:43:39 2014: combining CpG methylation from both strands ...\r\n"
       ]
      },
      {
       "output_type": "stream",
       "stream": "stdout",
       "text": [
        "@ Wed Dec  3 04:44:03 2014: writing methratio_out_M3.txt ...\r\n"
       ]
      },
      {
       "output_type": "stream",
       "stream": "stdout",
       "text": [
        "@ Wed Dec  3 04:54:10 2014: done.\r\n",
        "total 9773223 valid mappings, 53389886 covered cytosines, average coverage: 1.78 fold.\r\n"
       ]
      },
      {
       "output_type": "stream",
       "stream": "stdout",
       "text": [
        "@ Wed Dec  3 04:54:11 2014: reading reference Crassostrea_gigas.GCA_000297895.1.22.dna_sm.genome.fa ...\r\n"
       ]
      },
      {
       "output_type": "stream",
       "stream": "stdout",
       "text": [
        "@ Wed Dec  3 04:54:47 2014: reading bsmap_out_T3D3.sam ...\r\n"
       ]
      },
      {
       "output_type": "stream",
       "stream": "stdout",
       "text": [
        "[samopen] SAM header is present: 7658 sequences.\r\n"
       ]
      },
      {
       "output_type": "stream",
       "stream": "stdout",
       "text": [
        "\t@ Wed Dec  3 04:59:30 2014: read 10000000 lines\r\n"
       ]
      },
      {
       "output_type": "stream",
       "stream": "stdout",
       "text": [
        "@ Wed Dec  3 04:59:48 2014: combining CpG methylation from both strands ...\r\n"
       ]
      },
      {
       "output_type": "stream",
       "stream": "stdout",
       "text": [
        "@ Wed Dec  3 05:00:12 2014: writing methratio_out_T3D3.txt ...\r\n"
       ]
      },
      {
       "output_type": "stream",
       "stream": "stdout",
       "text": [
        "@ Wed Dec  3 05:09:49 2014: done.\r\n",
        "total 8847902 valid mappings, 52255860 covered cytosines, average coverage: 1.65 fold.\r\n"
       ]
      },
      {
       "output_type": "stream",
       "stream": "stdout",
       "text": [
        "@ Wed Dec  3 05:09:51 2014: reading reference Crassostrea_gigas.GCA_000297895.1.22.dna_sm.genome.fa ...\r\n"
       ]
      },
      {
       "output_type": "stream",
       "stream": "stdout",
       "text": [
        "@ Wed Dec  3 05:10:24 2014: reading bsmap_out_T3D5.sam ...\r\n"
       ]
      },
      {
       "output_type": "stream",
       "stream": "stdout",
       "text": [
        "[samopen] SAM header is present: 7658 sequences.\r\n"
       ]
      },
      {
       "output_type": "stream",
       "stream": "stdout",
       "text": [
        "\t@ Wed Dec  3 05:15:09 2014: read 10000000 lines\r\n"
       ]
      },
      {
       "output_type": "stream",
       "stream": "stdout",
       "text": [
        "@ Wed Dec  3 05:15:25 2014: combining CpG methylation from both strands ...\r\n"
       ]
      },
      {
       "output_type": "stream",
       "stream": "stdout",
       "text": [
        "@ Wed Dec  3 05:15:49 2014: writing methratio_out_T3D5.txt ...\r\n"
       ]
      },
      {
       "output_type": "stream",
       "stream": "stdout",
       "text": [
        "@ Wed Dec  3 05:25:16 2014: done.\r\n",
        "total 8808414 valid mappings, 51732152 covered cytosines, average coverage: 1.69 fold.\r\n"
       ]
      }
     ],
     "prompt_number": 9
    },
    {
     "cell_type": "heading",
     "level": 1,
     "metadata": {},
     "source": [
      "Global Differences: methylkit"
     ]
    },
    {
     "cell_type": "markdown",
     "metadata": {},
     "source": [
      "**Converting methratio files for methylkit**"
     ]
    },
    {
     "cell_type": "code",
     "collapsed": false,
     "input": [
      "#first methratio files are converted to filter for CG context, 3x coverage (mr3x.awk), and reformatting (mr_gg.awk.sh).\n",
      "#due to issue passing variable to awk, simple scripts were used (included in repository)\n",
      "for i in (\"M1\",\"T1D3\",\"T1D5\", \"M3\", \"T3D3\", \"T3D5\"):\n",
      "    !echo {i}\n",
      "    !grep \"[A-Z][A-Z]CG[A-Z]\" <methratio_out_{i}.txt> methratio_out_{i}CG.txt\n",
      "    !awk -f ../scripts/mr3x.awk methratio_out_{i}CG.txt > mr3x.{i}.txt\n",
      "    !awk -f ../scripts/mr_gg.awk.sh mr3x.{i}.txt > mkfmt_{i}.txt"
     ],
     "language": "python",
     "metadata": {},
     "outputs": [
      {
       "output_type": "stream",
       "stream": "stdout",
       "text": [
        "M1\r\n"
       ]
      },
      {
       "output_type": "stream",
       "stream": "stdout",
       "text": [
        "T1D3\r\n"
       ]
      },
      {
       "output_type": "stream",
       "stream": "stdout",
       "text": [
        "T1D5\r\n"
       ]
      },
      {
       "output_type": "stream",
       "stream": "stdout",
       "text": [
        "M3\r\n"
       ]
      },
      {
       "output_type": "stream",
       "stream": "stdout",
       "text": [
        "T3D3\r\n"
       ]
      },
      {
       "output_type": "stream",
       "stream": "stdout",
       "text": [
        "T3D5\r\n"
       ]
      }
     ],
     "prompt_number": 10
    },
    {
     "cell_type": "markdown",
     "metadata": {},
     "source": [
      "**Running R > methylkit**"
     ]
    },
    {
     "cell_type": "code",
     "collapsed": false,
     "input": [
      "%pylab inline"
     ],
     "language": "python",
     "metadata": {},
     "outputs": [
      {
       "output_type": "stream",
       "stream": "stdout",
       "text": [
        "Populating the interactive namespace from numpy and matplotlib\n"
       ]
      }
     ],
     "prompt_number": 11
    },
    {
     "cell_type": "code",
     "collapsed": false,
     "input": [
      "%load_ext rpy2.ipython\n"
     ],
     "language": "python",
     "metadata": {},
     "outputs": [],
     "prompt_number": 12
    },
    {
     "cell_type": "code",
     "collapsed": false,
     "input": [
      "%%R \n",
      "# dependencies\n",
      "install.packages( c(\"data.table\",\"devtools\"))\n",
      "source(\"http://bioconductor.org/biocLite.R\")\n",
      "biocLite(c(\"GenomicRanges\",\"IRanges\"))\n",
      "\n",
      "# install the development version from github\n",
      "library(devtools)\n",
      "install_github(\"al2na/methylKit\",build_vignettes=FALSE)\n"
     ],
     "language": "python",
     "metadata": {},
     "outputs": [
      {
       "metadata": {},
       "output_type": "display_data",
       "text": [
        "--- Please select a CRAN mirror for use in this session ---\n",
        "\n",
        "  There is a binary version available (and will be installed) but the\n",
        "  source version is later:\n",
        "           binary source\n",
        "data.table  1.9.2  1.9.4\n",
        "\n",
        "also installing the dependencies \u2018bitops\u2019, \u2018httr\u2019, \u2018RCurl\u2019, \u2018memoise\u2019, \u2018whisker\u2019, \u2018evaluate\u2019, \u2018digest\u2019, \u2018rstudioapi\u2019, \u2018jsonlite\u2019\n",
        "\n",
        "trying URL 'http://cran.fhcrc.org/bin/macosx/contrib/3.1/bitops_1.0-6.tgz'\n",
        "Content type 'application/x-gzip' length 22076 bytes (21 Kb)\n",
        "opened URL\n",
        "==================================================\n",
        "downloaded 21 Kb\n",
        "\n",
        "trying URL 'http://cran.fhcrc.org/bin/macosx/contrib/3.1/httr_0.5.tgz'\n",
        "Content type 'application/x-gzip' length 388016 bytes (378 Kb)\n",
        "opened URL\n",
        "==================================================\n",
        "downloaded 378 Kb\n",
        "\n",
        "trying URL 'http://cran.fhcrc.org/bin/macosx/contrib/3.1/RCurl_1.95-4.4.tgz'\n",
        "Content type 'application/x-gzip' length 710617 bytes (693 Kb)\n",
        "opened URL\n",
        "==================================================\n",
        "downloaded 693 Kb\n",
        "\n",
        "trying URL 'http://cran.fhcrc.org/bin/macosx/contrib/3.1/memoise_0.2.1.tgz'\n",
        "Content type 'application/x-gzip' length 14111 bytes (13 Kb)\n",
        "opened URL\n",
        "==================================================\n",
        "downloaded 13 Kb\n",
        "\n",
        "trying URL 'http://cran.fhcrc.org/bin/macosx/contrib/3.1/whisker_0.3-2.tgz'\n",
        "Content type 'application/x-gzip' length 47145 bytes (46 Kb)\n",
        "opened URL\n",
        "==================================================\n",
        "downloaded 46 Kb\n",
        "\n",
        "trying URL 'http://cran.fhcrc.org/bin/macosx/contrib/3.1/evaluate_0.5.5.tgz'\n",
        "Content type 'application/x-gzip' length 36465 bytes (35 Kb)\n",
        "opened URL\n",
        "==================================================\n",
        "downloaded 35 Kb\n",
        "\n",
        "trying URL 'http://cran.fhcrc.org/bin/macosx/contrib/3.1/digest_0.6.4.tgz'\n",
        "Content type 'application/x-gzip' length 103487 bytes (101 Kb)\n",
        "opened URL\n",
        "==================================================\n",
        "downloaded 101 Kb\n",
        "\n",
        "trying URL 'http://cran.fhcrc.org/bin/macosx/contrib/3.1/rstudioapi_0.1.tgz'\n",
        "Content type 'application/x-gzip' length 13345 bytes (13 Kb)\n",
        "opened URL\n",
        "==================================================\n",
        "downloaded 13 Kb\n",
        "\n",
        "trying URL 'http://cran.fhcrc.org/bin/macosx/contrib/3.1/jsonlite_0.9.14.tgz'\n",
        "Content type 'application/x-gzip' length 883801 bytes (863 Kb)\n",
        "opened URL\n",
        "==================================================\n",
        "downloaded 863 Kb\n",
        "\n",
        "trying URL 'http://cran.fhcrc.org/bin/macosx/contrib/3.1/data.table_1.9.2.tgz'\n",
        "Content type 'application/x-gzip' length 1270347 bytes (1.2 Mb)\n",
        "opened URL\n",
        "==================================================\n",
        "downloaded 1.2 Mb\n",
        "\n",
        "trying URL 'http://cran.fhcrc.org/bin/macosx/contrib/3.1/devtools_1.6.1.tgz'\n",
        "Content type 'application/x-gzip' length 271631 bytes (265 Kb)\n",
        "opened URL\n",
        "==================================================\n",
        "downloaded 265 Kb\n",
        "\n",
        "\n",
        "The downloaded binary packages are in\n",
        "\t/var/folders/fm/hb4lxvc52w580njy5kf5r9040000gn/T//RtmpU4EfD1/downloaded_packages\n",
        "Bioconductor version 3.0 (BiocInstaller 1.16.1), ?biocLite for help\n",
        "BioC_mirror: http://bioconductor.org\n",
        "Using Bioconductor version 3.0 (BiocInstaller 1.16.1), R version 3.1.1.\n",
        "Installing package(s) 'GenomicRanges' 'IRanges'\n",
        "trying URL 'http://bioconductor.org/packages/3.0/bioc/bin/macosx/contrib/3.1/GenomicRanges_1.18.3.tgz'\n",
        "Content type 'application/x-gzip' length 1232689 bytes (1.2 Mb)\n",
        "opened URL\n",
        "==================================================\n",
        "downloaded 1.2 Mb\n",
        "\n",
        "trying URL 'http://bioconductor.org/packages/3.0/bioc/bin/macosx/contrib/3.1/IRanges_2.0.0.tgz'\n",
        "Content type 'application/x-gzip' length 1582195 bytes (1.5 Mb)\n",
        "opened URL\n",
        "==================================================\n",
        "downloaded 1.5 Mb\n",
        "\n",
        "\n",
        "The downloaded binary packages are in\n",
        "\t/var/folders/fm/hb4lxvc52w580njy5kf5r9040000gn/T//RtmpU4EfD1/downloaded_packages\n",
        "Downloading github repo al2na/methylKit@master\n",
        "Installing methylKit\n",
        "'/Library/Frameworks/R.framework/Resources/bin/R' --vanilla CMD INSTALL  \\\n",
        "  '/private/var/folders/fm/hb4lxvc52w580njy5kf5r9040000gn/T/RtmpU4EfD1/devtools173a9208a2/al2na-methylKit-e130672'  \\\n",
        "  --library='/Library/Frameworks/R.framework/Versions/3.1/Resources/library'  \\\n",
        "  --install-tests \n",
        "\n"
       ]
      }
     ],
     "prompt_number": 35
    },
    {
     "cell_type": "code",
     "collapsed": false,
     "input": [
      "%R library(methylKit)"
     ],
     "language": "python",
     "metadata": {},
     "outputs": [
      {
       "metadata": {},
       "output_type": "pyout",
       "prompt_number": 40,
       "text": [
        "array(['methylKit', 'devtools', 'BiocInstaller', 'tools', 'stats',\n",
        "       'graphics', 'grDevices', 'utils', 'datasets', 'methods', 'base'], \n",
        "      dtype='|S13')"
       ]
      }
     ],
     "prompt_number": 40
    },
    {
     "cell_type": "code",
     "collapsed": false,
     "input": [
      "%%R file.list <- list \n",
      "('mkfmt_M1.txt',\n",
      " 'mkfmt_T1D3.txt',\n",
      " 'mkfmt_T1D5.txt',\n",
      " 'mkfmt_M3.txt',\n",
      " 'mkfmt_T3D3.txt',\n",
      " 'mkfmt_T3D5.txt'\n",
      ")"
     ],
     "language": "python",
     "metadata": {},
     "outputs": [],
     "prompt_number": 41
    },
    {
     "cell_type": "code",
     "collapsed": false,
     "input": [
      "%%R\n",
      "myobj=read(file.list,sample.id=list(\"1_sperm\",\"1_72hpf\",\"1_120hpf\",\"3_sperm\",\"3_72hpf\",\"3_120hpf\"),assembly=\"v9\",treatment=c(0,0,0,1,1,1))"
     ],
     "language": "python",
     "metadata": {},
     "outputs": [],
     "prompt_number": 42
    },
    {
     "cell_type": "code",
     "collapsed": false,
     "input": [
      "%%R\n",
      "meth<-unite(myobj)\n",
      "head(meth)\n",
      "nrow(meth)\n",
      "#getCorrelation(meth,plot=T)\n",
      "hc<- clusterSamples(meth, dist=\"correlation\", method=\"ward\", plot=T)\n",
      "#PCA<-PCASamples(meth)"
     ],
     "language": "python",
     "metadata": {},
     "outputs": [
      {
       "metadata": {},
       "output_type": "display_data",
       "text": [
        "The \"ward\" method has been renamed to \"ward.D\"; note new \"ward.D2\"\n"
       ]
      },
      {
       "metadata": {},
       "output_type": "display_data",
       "png": "[encoded data removed]"
      }
     ],
     "prompt_number": 45
    },
    {
     "cell_type": "heading",
     "level": 1,
     "metadata": {},
     "source": [
      "Differentially methylated loci"
     ]
    },
    {
     "cell_type": "markdown",
     "metadata": {},
     "source": [
      "Determining differentially methylated loci using methylkit\n"
     ]
    },
    {
     "cell_type": "code",
     "collapsed": false,
     "input": [
      "pwd"
     ],
     "language": "python",
     "metadata": {},
     "outputs": [
      {
       "metadata": {},
       "output_type": "pyout",
       "prompt_number": 61,
       "text": [
        "u'/Users/Steven/Desktop/olson-dev-master/wd'"
       ]
      }
     ],
     "prompt_number": 61
    },
    {
     "cell_type": "code",
     "collapsed": false,
     "input": [
      "%%R file.list <- list \n",
      "('mkfmt_M1.txt',\n",
      " 'mkfmt_T1D3.txt',\n",
      " 'mkfmt_T1D5.txt',\n",
      " 'mkfmt_M3.txt',\n",
      " 'mkfmt_T3D3.txt',\n",
      " 'mkfmt_T3D5.txt'\n",
      ")"
     ],
     "language": "python",
     "metadata": {},
     "outputs": [],
     "prompt_number": 62
    },
    {
     "cell_type": "code",
     "collapsed": false,
     "input": [
      "%%R\n",
      "#lineage-specific DMLs\n",
      "DMLobj=read(file.list,sample.id=list(\"M1\",\"T1D3\",\"T1D5\",\"M3\",\"T3D3\",\"T3D5\"),assembly=\"v9\",treatment=c(1,1,1,0,0,0), context=\"CpG\")\n",
      "lin<-unite(DMLobj)\n",
      "lin.pooled <- pool(lin, sample.ids <- c(\"lin_1\", \"lin_3\"))\n",
      "lin_DML.fisher <- calculateDiffMeth(lin.pooled)\n",
      "select(lin_DML.fisher, 1)\n",
      "lin_DML_p <- getData(lin_DML.fisher)\n",
      "lin_DML_filt <- lin_DML_p[lin_DML_p$pvalue < 0.01 & lin_DML_p$meth.diff > 25,]\n",
      "write.csv(lin_DML_filt,file=\"lin_DML_filt\")"
     ],
     "language": "python",
     "metadata": {},
     "outputs": [],
     "prompt_number": 63
    },
    {
     "cell_type": "code",
     "collapsed": false,
     "input": [
      "!wc -l lin_DML_filt"
     ],
     "language": "python",
     "metadata": {},
     "outputs": [
      {
       "output_type": "stream",
       "stream": "stdout",
       "text": [
        "     190 lin_DML_filt\r\n"
       ]
      }
     ],
     "prompt_number": 66
    },
    {
     "cell_type": "code",
     "collapsed": false,
     "input": [
      "%%R file.list <- list \n",
      "('mkfmt_M1.txt',\n",
      " 'mkfmt_T1D3.txt',\n",
      " 'mkfmt_M3.txt',\n",
      " 'mkfmt_T3D3.txt'\n",
      ")"
     ],
     "language": "python",
     "metadata": {},
     "outputs": [],
     "prompt_number": 68
    },
    {
     "cell_type": "code",
     "collapsed": false,
     "input": [
      "%%R \n",
      "#Developmentally different DMLs (Males v Day3)\n",
      "DMLobj=read(file.list,sample.id=list(\"M1\",\"T1D3\",\"M3\",\"T3D3\"), assembly=\"v9\",treatment=c(1,0,1,0), context=\"CpG\")\n",
      "DevelMvD3<-unite(DMLobj)\n",
      "DevelMvD3.pooled <- pool(DevelMvD3, sample.ids <- c(\"Males\", \"Day3\"))\n",
      "DevelMvD3_DML.fisher <- calculateDiffMeth(DevelMvD3.pooled)\n",
      "select(DevelMvD3_DML.fisher, 1)\n",
      "DevelMvD3_DML_p <- getData(DevelMvD3_DML.fisher)\n",
      "DevelMvD3_DML_filt <- DevelMvD3_DML_p[DevelMvD3_DML_p$pvalue < 0.01 & DevelMvD3_DML_p$meth.diff > 25,]\n",
      "write.csv(DevelMvD3_DML_filt,file=\"DevelMvD3_DML_filt\")"
     ],
     "language": "python",
     "metadata": {},
     "outputs": [],
     "prompt_number": 69
    },
    {
     "cell_type": "code",
     "collapsed": false,
     "input": [
      "!wc -l DevelMvD3_DML_filt"
     ],
     "language": "python",
     "metadata": {},
     "outputs": [
      {
       "output_type": "stream",
       "stream": "stdout",
       "text": [
        "      30 DevelMvD3_DML_filt\r\n"
       ]
      }
     ],
     "prompt_number": 70
    },
    {
     "cell_type": "code",
     "collapsed": false,
     "input": [
      "%%R file.list <- list \n",
      "('mkfmt_M1.txt',\n",
      " 'mkfmt_T1D5.txt',\n",
      " 'mkfmt_M3.txt',\n",
      " 'mkfmt_T3D5.txt'\n",
      ")"
     ],
     "language": "python",
     "metadata": {},
     "outputs": [],
     "prompt_number": 114
    },
    {
     "cell_type": "code",
     "collapsed": false,
     "input": [
      "%%R \n",
      "#Developmentally different DMLs (Males v Day5)\n",
      "DMLobj=read(file.list,sample.id=list(\"M1\",\"T1D5\",\"M3\",\"T3D5\"), assembly=\"v9\",treatment=c(1,0,1,0), context=\"CpG\")\n",
      "DevelMvD5<-unite(DMLobj)\n",
      "DevelMvD5.pooled <- pool(DevelMvD5, sample.ids <- c(\"Males\", \"Day5\"))\n",
      "DevelMvD5_DML.fisher <- calculateDiffMeth(DevelMvD5.pooled)\n",
      "select(DevelMvD5_DML.fisher, 1)\n",
      "DevelMvD5_DML_p <- getData(DevelMvD5_DML.fisher)\n",
      "DevelMvD5_DML_filt <- DevelMvD5_DML_p[DevelMvD5_DML_p$pvalue < 0.01 & DevelMvD5_DML_p$meth.diff > 25,]\n",
      "write.csv(DevelMvD5_DML_filt,file=\"DevelMvD5_DML_filt\")"
     ],
     "language": "python",
     "metadata": {},
     "outputs": [],
     "prompt_number": 115
    },
    {
     "cell_type": "code",
     "collapsed": false,
     "input": [
      "!wc -l DevelMvD5_DML_filt"
     ],
     "language": "python",
     "metadata": {},
     "outputs": [
      {
       "output_type": "stream",
       "stream": "stdout",
       "text": [
        "      86 DevelMvD5_DML_filt\r\n"
       ]
      }
     ],
     "prompt_number": 117
    },
    {
     "cell_type": "code",
     "collapsed": false,
     "input": [
      "%%R file.list <- list \n",
      "('mkfmt_T1D3.txt',\n",
      " 'mkfmt_T1D5.txt',\n",
      " 'mkfmt_T3D3.txt',\n",
      " 'mkfmt_T3D5.txt'\n",
      ")"
     ],
     "language": "python",
     "metadata": {},
     "outputs": [],
     "prompt_number": 74
    },
    {
     "cell_type": "code",
     "collapsed": false,
     "input": [
      "%%R \n",
      "#Developmentally different DMLs (Day3 v Day5)\n",
      "DMLobj=read(file.list,sample.id=list(\"T1D3\",\"T1D5\",\"T3D3\",\"T3D5\"), assembly=\"v9\",treatment=c(1,0,1,0), context=\"CpG\")\n",
      "DevelD3vD5<-unite(DMLobj)\n",
      "DevelD3vD5.pooled <- pool(DevelD3vD5, sample.ids <- c(\"Day3\", \"Day5\"))\n",
      "DevelD3vD5_DML.fisher <- calculateDiffMeth(DevelD3vD5.pooled)\n",
      "select(DevelD3vD5_DML.fisher, 1)\n",
      "DevelD3vD5_DML_p <- getData(DevelD3vD5_DML.fisher)\n",
      "DevelD3vD5_DML_filt <- DevelD3vD5_DML_p[DevelD3vD5_DML_p$pvalue < 0.01 & DevelD3vD5_DML_p$meth.diff > 25,]\n",
      "write.csv(DevelD3vD5_DML_filt,file=\"DevelD3vD5_DML_filt\")"
     ],
     "language": "python",
     "metadata": {},
     "outputs": [],
     "prompt_number": 75
    },
    {
     "cell_type": "code",
     "collapsed": false,
     "input": [
      "!wc -l DevelD3vD5_DML_filt"
     ],
     "language": "python",
     "metadata": {},
     "outputs": [
      {
       "output_type": "stream",
       "stream": "stdout",
       "text": [
        "      47 DevelD3vD5_DML_filt\r\n"
       ]
      }
     ],
     "prompt_number": 116
    },
    {
     "cell_type": "code",
     "collapsed": false,
     "input": [
      "!tail -n +2 DevelMvD5_DML_filt > DevelMvD5_DML | tail -n +2 DevelD3vD5_DML_filt > DevelD3vD5_DML "
     ],
     "language": "python",
     "metadata": {},
     "outputs": [],
     "prompt_number": 123
    },
    {
     "cell_type": "code",
     "collapsed": false,
     "input": [
      "#Concatenate all developmetnally different DMLs to one file\n",
      "!cat DevelMvD3_DML_filt DevelMvD5_DML DevelD3vD5_DML > Devel_DML_filt"
     ],
     "language": "python",
     "metadata": {},
     "outputs": [],
     "prompt_number": 124
    },
    {
     "cell_type": "code",
     "collapsed": false,
     "input": [
      "!wc -l Devel_DML_filt"
     ],
     "language": "python",
     "metadata": {},
     "outputs": [
      {
       "output_type": "stream",
       "stream": "stdout",
       "text": [
        "     161 Devel_DML_filt\r\n"
       ]
      }
     ],
     "prompt_number": 125
    },
    {
     "cell_type": "markdown",
     "metadata": {},
     "source": [
      "###Creating DML BED files"
     ]
    },
    {
     "cell_type": "code",
     "collapsed": false,
     "input": [
      "#Removing the header of files and creating BED formatted files"
     ],
     "language": "python",
     "metadata": {},
     "outputs": [],
     "prompt_number": 2
    },
    {
     "cell_type": "code",
     "collapsed": false,
     "input": [
      "!tail -n +2 lin_DML_filt | awk -F, '{print $2, $3, $4, \"DML_lin\" }' | tr -d '\"' | tr ' ' \"\\t\"  > lineage_dml.bed"
     ],
     "language": "python",
     "metadata": {},
     "outputs": [
      {
       "output_type": "stream",
       "stream": "stdout",
       "text": [
        "tail: lin_DML_filt: No such file or directory\r\n"
       ]
      }
     ],
     "prompt_number": 1
    },
    {
     "cell_type": "code",
     "collapsed": false,
     "input": [
      "#Total number of loci differing in methylation levels among oyster lineages\n",
      "!wc -l lineage_dml.bed"
     ],
     "language": "python",
     "metadata": {},
     "outputs": [
      {
       "output_type": "stream",
       "stream": "stdout",
       "text": [
        "     189 lineage_dml.bed\r\n"
       ]
      }
     ],
     "prompt_number": 175
    },
    {
     "cell_type": "code",
     "collapsed": false,
     "input": [
      "!tail -n +2 Devel_DML_filt | awk -F, '{print $2, $3, $4, \"DML_dev\" }' | tr -d '\"' | tr ' ' \"\\t\"  > dev_dml.bed"
     ],
     "language": "python",
     "metadata": {},
     "outputs": [],
     "prompt_number": 233
    },
    {
     "cell_type": "code",
     "collapsed": false,
     "input": [
      "#Total number of loci differing in methylation levels during oyster developmental stages\n",
      "!wc -l dev_dml.bed"
     ],
     "language": "python",
     "metadata": {},
     "outputs": [
      {
       "output_type": "stream",
       "stream": "stdout",
       "text": [
        "     160 dev_dml.bed\r\n"
       ]
      }
     ],
     "prompt_number": 235
    },
    {
     "cell_type": "heading",
     "level": 1,
     "metadata": {},
     "source": [
      "Genomic location of DMLs"
     ]
    },
    {
     "cell_type": "code",
     "collapsed": false,
     "input": [
      "#In order to find location of DMLs oyster genome tracks will be downloaded\n",
      "#and intersectbed (bedtools suite) run\n",
      "#Note track with all CG's is large (~977mb)"
     ],
     "language": "python",
     "metadata": {},
     "outputs": []
    },
    {
     "cell_type": "code",
     "collapsed": false,
     "input": [
      "cd genome_tracks\n"
     ],
     "language": "python",
     "metadata": {},
     "outputs": [
      {
       "output_type": "stream",
       "stream": "stdout",
       "text": [
        "/Users/Steven/Desktop/olson-dev-master/wd/genome_tracks\n"
       ]
      }
     ],
     "prompt_number": 178
    },
    {
     "cell_type": "code",
     "collapsed": false,
     "input": [
      "#Download oyster genomic tracks\n",
      "for i in (\"exon\",\"intron\",\"TE\",\"gene\",\"1k5p_gene_promoter\",\"CG\"):\n",
      "    !curl -O http://eagle.fish.washington.edu/trilobite/Crassostrea_gigas_v9_tracks/Cgigas_v9_{i}.gff "
     ],
     "language": "python",
     "metadata": {},
     "outputs": [
      {
       "output_type": "stream",
       "stream": "stdout",
       "text": [
        "curl: option --test: is unknown\r\n",
        "curl: try 'curl --help' or 'curl --manual' for more information\r\n"
       ]
      },
      {
       "output_type": "stream",
       "stream": "stdout",
       "text": [
        "curl: option --test: is unknown\r\n",
        "curl: try 'curl --help' or 'curl --manual' for more information\r\n"
       ]
      },
      {
       "output_type": "stream",
       "stream": "stdout",
       "text": [
        "curl: option --test: is unknown\r\n",
        "curl: try 'curl --help' or 'curl --manual' for more information\r\n"
       ]
      },
      {
       "output_type": "stream",
       "stream": "stdout",
       "text": [
        "curl: option --test: is unknown\r\n",
        "curl: try 'curl --help' or 'curl --manual' for more information\r\n"
       ]
      },
      {
       "output_type": "stream",
       "stream": "stdout",
       "text": [
        "curl: option --test: is unknown\r\n",
        "curl: try 'curl --help' or 'curl --manual' for more information\r\n"
       ]
      },
      {
       "output_type": "stream",
       "stream": "stdout",
       "text": [
        "curl: option --test: is unknown\r\n",
        "curl: try 'curl --help' or 'curl --manual' for more information\r\n"
       ]
      }
     ],
     "prompt_number": 145
    },
    {
     "cell_type": "code",
     "collapsed": false,
     "input": [
      "cd .."
     ],
     "language": "python",
     "metadata": {},
     "outputs": [
      {
       "output_type": "stream",
       "stream": "stdout",
       "text": [
        "/Users/Steven/Desktop/olson-dev-master/wd\n"
       ]
      }
     ],
     "prompt_number": 179
    },
    {
     "cell_type": "markdown",
     "metadata": {},
     "source": [
      "Annotating loci differing in methylation levels among oyster lineages"
     ]
    },
    {
     "cell_type": "code",
     "collapsed": false,
     "input": [
      "#Intersect DMLs with genomic track files to find genomic location\n",
      "for i in (\"exon\",\"intron\",\"TE\",\"1k5p_gene_promoter\"):\n",
      "    !intersectbed \\\n",
      "    -u \\\n",
      "    -a lineage_dml.bed \\\n",
      "    -b ./genome_tracks/Cgigas_v9_{i}.gff \\\n",
      "    > {i}_intersect_DML_lin_u.txt\n",
      "    !wc -l {i}_intersect_DML_lin_u.txt > lin{i}"
     ],
     "language": "python",
     "metadata": {},
     "outputs": [],
     "prompt_number": 238
    },
    {
     "cell_type": "code",
     "collapsed": false,
     "input": [
      "#Concatenate all DMLs located within annotated regions into one file\n",
      "!cat linintron linexon lin1k5p_gene_promoter linTE > dmltable"
     ],
     "language": "python",
     "metadata": {},
     "outputs": [],
     "prompt_number": 266
    },
    {
     "cell_type": "code",
     "collapsed": false,
     "input": [
      "#Find the sum of all annotated DMLs\n",
      "!awk 'FNR==NR{sum+=$1;next}; {print $0,sum}' dmltable{,} > lin_total"
     ],
     "language": "python",
     "metadata": {},
     "outputs": [],
     "prompt_number": 268
    },
    {
     "cell_type": "code",
     "collapsed": false,
     "input": [
      "#Format table to make stacked bar plot\n",
      "!awk '{print $2, $1, $3, (($1/$3)*100)}' lin_total > lin_final"
     ],
     "language": "python",
     "metadata": {},
     "outputs": [],
     "prompt_number": 270
    },
    {
     "cell_type": "markdown",
     "metadata": {},
     "source": [
      "Annotating loci differing in methylation levels during developmental stages"
     ]
    },
    {
     "cell_type": "code",
     "collapsed": false,
     "input": [
      "#Intersect DMLs with genomic track files to find genomic location\n",
      "for i in (\"exon\",\"intron\",\"TE\",\"1k5p_gene_promoter\"):\n",
      "    !intersectbed \\\n",
      "    -u \\\n",
      "    -a dev_dml.bed \\\n",
      "    -b ./genome_tracks/Cgigas_v9_{i}.gff \\\n",
      "    > {i}_intersect_DML_dev_u.txt\n",
      "    !wc -l {i}_intersect_DML_dev_u.txt > dev{i}"
     ],
     "language": "python",
     "metadata": {},
     "outputs": [],
     "prompt_number": 271
    },
    {
     "cell_type": "code",
     "collapsed": false,
     "input": [
      "#Concatenate all DMLs located within annotated regions into one file\n",
      "!cat devintron devexon dev1k5p_gene_promoter devTE  > devtable"
     ],
     "language": "python",
     "metadata": {},
     "outputs": [],
     "prompt_number": 272
    },
    {
     "cell_type": "code",
     "collapsed": false,
     "input": [
      "#Find the sum of all annotated DMLs\n",
      "!awk 'FNR==NR{sum+=$1;next}; {print $0,sum}' devtable{,} > dev_total"
     ],
     "language": "python",
     "metadata": {},
     "outputs": [],
     "prompt_number": 274
    },
    {
     "cell_type": "code",
     "collapsed": false,
     "input": [
      "#Format table to make stacked bar plot\n",
      "!awk '{print $2, $1, $3, (($1/$3)*100)}' dev_total > dev_final"
     ],
     "language": "python",
     "metadata": {},
     "outputs": [],
     "prompt_number": 277
    },
    {
     "cell_type": "markdown",
     "metadata": {},
     "source": [
      "Annotating all CpGs in the oyster genome"
     ]
    },
    {
     "cell_type": "code",
     "collapsed": false,
     "input": [
      "#Intersect CGs with genomic track files to find genomic location\n",
      "for i in (\"exon\",\"intron\",\"TE\",\"gene\",\"1k5p_gene_promoter\"):\n",
      "    !intersectbed \\\n",
      "    -u \\\n",
      "    -a ./genome_tracks/Cgigas_v9_CG.gff \\\n",
      "    -b ./genome_tracks/Cgigas_v9_{i}.gff \\\n",
      "    > {i}_intersect_CG_u.txt\n",
      "    !wc -l {i}_intersect_CG_u.txt > CG{i}"
     ],
     "language": "python",
     "metadata": {},
     "outputs": [],
     "prompt_number": 264
    },
    {
     "cell_type": "code",
     "collapsed": false,
     "input": [
      "#Concatenate all CGs located within annotated regions into one file\n",
      "!cat CGintron CGexon CG1k5p_gene_promoter CGTE > CGtable"
     ],
     "language": "python",
     "metadata": {},
     "outputs": [],
     "prompt_number": 280
    },
    {
     "cell_type": "code",
     "collapsed": false,
     "input": [
      "#Find the sum of all annotated CGs\n",
      "!awk 'FNR==NR{sum+=$1;next}; {print $0,sum}' CGtable{,} > CG_total"
     ],
     "language": "python",
     "metadata": {},
     "outputs": [],
     "prompt_number": 282
    },
    {
     "cell_type": "code",
     "collapsed": false,
     "input": [
      "#Format table to make stacked bar plot\n",
      "!awk '{print $2, $1, $3, (($1/$3)*100)}' CG_total > CG_final"
     ],
     "language": "python",
     "metadata": {},
     "outputs": [],
     "prompt_number": 285
    },
    {
     "cell_type": "code",
     "collapsed": false,
     "input": [
      "#Combine all annotated files to make stacked bar plot\n",
      "!paste -d\" \" lin_final dev_final CG_final > StackedBars"
     ],
     "language": "python",
     "metadata": {},
     "outputs": [],
     "prompt_number": 292
    },
    {
     "cell_type": "code",
     "collapsed": false,
     "input": [
      "#Format table to be read into R\n",
      "!awk '{print $4, $8, $12}' StackedBars | tr ' ' \"\\t\" > StackedBars_DMLs"
     ],
     "language": "python",
     "metadata": {},
     "outputs": [],
     "prompt_number": 297
    },
    {
     "cell_type": "heading",
     "level": 1,
     "metadata": {},
     "source": [
      "Stacked Bar Plot of DMLs versus all CGs"
     ]
    },
    {
     "cell_type": "code",
     "collapsed": false,
     "input": [
      "%%R \n",
      "DMLs<-as.matrix(read.table('StackedBars_DMLs', header=F))\n",
      "colnames(DMLs)<-c(\"Lin DMLs\",\"Devel DMLs\", \"All CpGs\")\n",
      "par(mar=c(5.1, 4.1, 4.1, 8.1), xpd=T)\n",
      "par(xpd=T, mar=par()$mar+c(0,0,0,5))\n",
      "barplot(as.matrix(DMLs), col=c(\"#BCCCC1\", \"#8DAB96\", \"#4A7958\", \"#2F583B\"), ylab=\"Proportion of CpG within a genomic region (%)\")\n",
      "legend(\"topright\",inset=c(-0.63,-0), legend=c(\"Transposable Element\", \"Promoter Region\", \"Exon\", \"Intron\"), pch=c(19,19,19), col=c(\"#2F583B\",\"#4A7958\",\"#8DAB96\",\"#BCCCC1\"))"
     ],
     "language": "python",
     "metadata": {},
     "outputs": [
      {
       "metadata": {},
       "output_type": "display_data",
       "png": "[encoded data removed]"
      }
     ],
     "prompt_number": 365
    }
   ],
   "metadata": {}
  }
 ]
}